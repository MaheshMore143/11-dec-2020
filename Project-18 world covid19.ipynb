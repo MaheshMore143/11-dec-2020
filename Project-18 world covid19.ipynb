{
 "cells": [
  {
   "cell_type": "code",
   "execution_count": 426,
   "metadata": {},
   "outputs": [],
   "source": [
    "import pandas as pd\n",
    "import numpy as np\n",
    "import matplotlib.pyplot as plt\n",
    "import seaborn as sns\n",
    "%matplotlib inline\n",
    "\n",
    "import warnings\n",
    "warnings.filterwarnings('ignore')"
   ]
  },
  {
   "cell_type": "code",
   "execution_count": 427,
   "metadata": {},
   "outputs": [
    {
     "data": {
      "text/html": [
       "<div>\n",
       "<style scoped>\n",
       "    .dataframe tbody tr th:only-of-type {\n",
       "        vertical-align: middle;\n",
       "    }\n",
       "\n",
       "    .dataframe tbody tr th {\n",
       "        vertical-align: top;\n",
       "    }\n",
       "\n",
       "    .dataframe thead th {\n",
       "        text-align: right;\n",
       "    }\n",
       "</style>\n",
       "<table border=\"1\" class=\"dataframe\">\n",
       "  <thead>\n",
       "    <tr style=\"text-align: right;\">\n",
       "      <th></th>\n",
       "      <th>Date</th>\n",
       "      <th>Country</th>\n",
       "      <th>Population</th>\n",
       "      <th>Total Tests</th>\n",
       "      <th>Total Cases</th>\n",
       "      <th>Total Deaths</th>\n",
       "      <th>Total Recovered</th>\n",
       "      <th>Serious or Critical</th>\n",
       "      <th>Active Cases</th>\n",
       "    </tr>\n",
       "  </thead>\n",
       "  <tbody>\n",
       "    <tr>\n",
       "      <th>0</th>\n",
       "      <td>2020-04-18</td>\n",
       "      <td>USA</td>\n",
       "      <td>330774664</td>\n",
       "      <td>3722145.0</td>\n",
       "      <td>738792.0</td>\n",
       "      <td>39014.0</td>\n",
       "      <td>68269.0</td>\n",
       "      <td>13551.0</td>\n",
       "      <td>631509.0</td>\n",
       "    </tr>\n",
       "    <tr>\n",
       "      <th>1</th>\n",
       "      <td>2020-04-18</td>\n",
       "      <td>Russia</td>\n",
       "      <td>145927292</td>\n",
       "      <td>1831892.0</td>\n",
       "      <td>36793.0</td>\n",
       "      <td>313.0</td>\n",
       "      <td>3057.0</td>\n",
       "      <td>8.0</td>\n",
       "      <td>33423.0</td>\n",
       "    </tr>\n",
       "    <tr>\n",
       "      <th>2</th>\n",
       "      <td>2020-04-18</td>\n",
       "      <td>Spain</td>\n",
       "      <td>46752703</td>\n",
       "      <td>930230.0</td>\n",
       "      <td>194416.0</td>\n",
       "      <td>20043.0</td>\n",
       "      <td>74797.0</td>\n",
       "      <td>7371.0</td>\n",
       "      <td>99576.0</td>\n",
       "    </tr>\n",
       "    <tr>\n",
       "      <th>3</th>\n",
       "      <td>2020-04-18</td>\n",
       "      <td>Brazil</td>\n",
       "      <td>212380932</td>\n",
       "      <td>62985.0</td>\n",
       "      <td>36722.0</td>\n",
       "      <td>2361.0</td>\n",
       "      <td>14026.0</td>\n",
       "      <td>6634.0</td>\n",
       "      <td>20335.0</td>\n",
       "    </tr>\n",
       "    <tr>\n",
       "      <th>4</th>\n",
       "      <td>2020-04-18</td>\n",
       "      <td>UK</td>\n",
       "      <td>67844241</td>\n",
       "      <td>460437.0</td>\n",
       "      <td>114217.0</td>\n",
       "      <td>15464.0</td>\n",
       "      <td>NaN</td>\n",
       "      <td>1559.0</td>\n",
       "      <td>98409.0</td>\n",
       "    </tr>\n",
       "    <tr>\n",
       "      <th>...</th>\n",
       "      <td>...</td>\n",
       "      <td>...</td>\n",
       "      <td>...</td>\n",
       "      <td>...</td>\n",
       "      <td>...</td>\n",
       "      <td>...</td>\n",
       "      <td>...</td>\n",
       "      <td>...</td>\n",
       "      <td>...</td>\n",
       "    </tr>\n",
       "    <tr>\n",
       "      <th>6598</th>\n",
       "      <td>2020-05-18</td>\n",
       "      <td>St. Barth</td>\n",
       "      <td>9874</td>\n",
       "      <td>NaN</td>\n",
       "      <td>6.0</td>\n",
       "      <td>NaN</td>\n",
       "      <td>6.0</td>\n",
       "      <td>NaN</td>\n",
       "      <td>0.0</td>\n",
       "    </tr>\n",
       "    <tr>\n",
       "      <th>6599</th>\n",
       "      <td>2020-05-18</td>\n",
       "      <td>Western Sahara</td>\n",
       "      <td>595462</td>\n",
       "      <td>NaN</td>\n",
       "      <td>6.0</td>\n",
       "      <td>NaN</td>\n",
       "      <td>6.0</td>\n",
       "      <td>NaN</td>\n",
       "      <td>0.0</td>\n",
       "    </tr>\n",
       "    <tr>\n",
       "      <th>6600</th>\n",
       "      <td>2020-05-18</td>\n",
       "      <td>Anguilla</td>\n",
       "      <td>14987</td>\n",
       "      <td>NaN</td>\n",
       "      <td>3.0</td>\n",
       "      <td>NaN</td>\n",
       "      <td>3.0</td>\n",
       "      <td>NaN</td>\n",
       "      <td>0.0</td>\n",
       "    </tr>\n",
       "    <tr>\n",
       "      <th>6601</th>\n",
       "      <td>2020-05-18</td>\n",
       "      <td>Lesotho</td>\n",
       "      <td>2140235</td>\n",
       "      <td>NaN</td>\n",
       "      <td>1.0</td>\n",
       "      <td>NaN</td>\n",
       "      <td>NaN</td>\n",
       "      <td>NaN</td>\n",
       "      <td>1.0</td>\n",
       "    </tr>\n",
       "    <tr>\n",
       "      <th>6602</th>\n",
       "      <td>2020-05-18</td>\n",
       "      <td>Saint Pierre Miquelon</td>\n",
       "      <td>5797</td>\n",
       "      <td>NaN</td>\n",
       "      <td>1.0</td>\n",
       "      <td>NaN</td>\n",
       "      <td>1.0</td>\n",
       "      <td>NaN</td>\n",
       "      <td>0.0</td>\n",
       "    </tr>\n",
       "  </tbody>\n",
       "</table>\n",
       "<p>6603 rows × 9 columns</p>\n",
       "</div>"
      ],
      "text/plain": [
       "            Date                Country  Population  Total Tests  Total Cases  \\\n",
       "0     2020-04-18                    USA   330774664    3722145.0     738792.0   \n",
       "1     2020-04-18                 Russia   145927292    1831892.0      36793.0   \n",
       "2     2020-04-18                  Spain    46752703     930230.0     194416.0   \n",
       "3     2020-04-18                 Brazil   212380932      62985.0      36722.0   \n",
       "4     2020-04-18                     UK    67844241     460437.0     114217.0   \n",
       "...          ...                    ...         ...          ...          ...   \n",
       "6598  2020-05-18              St. Barth        9874          NaN          6.0   \n",
       "6599  2020-05-18         Western Sahara      595462          NaN          6.0   \n",
       "6600  2020-05-18               Anguilla       14987          NaN          3.0   \n",
       "6601  2020-05-18                Lesotho     2140235          NaN          1.0   \n",
       "6602  2020-05-18  Saint Pierre Miquelon        5797          NaN          1.0   \n",
       "\n",
       "      Total Deaths  Total Recovered  Serious or Critical  Active Cases  \n",
       "0          39014.0          68269.0              13551.0      631509.0  \n",
       "1            313.0           3057.0                  8.0       33423.0  \n",
       "2          20043.0          74797.0               7371.0       99576.0  \n",
       "3           2361.0          14026.0               6634.0       20335.0  \n",
       "4          15464.0              NaN               1559.0       98409.0  \n",
       "...            ...              ...                  ...           ...  \n",
       "6598           NaN              6.0                  NaN           0.0  \n",
       "6599           NaN              6.0                  NaN           0.0  \n",
       "6600           NaN              3.0                  NaN           0.0  \n",
       "6601           NaN              NaN                  NaN           1.0  \n",
       "6602           NaN              1.0                  NaN           0.0  \n",
       "\n",
       "[6603 rows x 9 columns]"
      ]
     },
     "execution_count": 427,
     "metadata": {},
     "output_type": "execute_result"
    }
   ],
   "source": [
    "df=pd.read_csv('worldometer_snapshots_April18_to_May18.csv')\n",
    "df"
   ]
  },
  {
   "cell_type": "code",
   "execution_count": 428,
   "metadata": {},
   "outputs": [
    {
     "data": {
      "text/plain": [
       "(6603, 9)"
      ]
     },
     "execution_count": 428,
     "metadata": {},
     "output_type": "execute_result"
    }
   ],
   "source": [
    "df.shape"
   ]
  },
  {
   "cell_type": "code",
   "execution_count": 429,
   "metadata": {},
   "outputs": [
    {
     "data": {
      "text/plain": [
       "Index(['Date', 'Country', 'Population', 'Total Tests', 'Total Cases',\n",
       "       'Total Deaths', 'Total Recovered', 'Serious or Critical',\n",
       "       'Active Cases'],\n",
       "      dtype='object')"
      ]
     },
     "execution_count": 429,
     "metadata": {},
     "output_type": "execute_result"
    }
   ],
   "source": [
    "df.columns"
   ]
  },
  {
   "cell_type": "code",
   "execution_count": 430,
   "metadata": {},
   "outputs": [
    {
     "data": {
      "text/plain": [
       "Date                      0\n",
       "Country                   0\n",
       "Population                0\n",
       "Total Tests            1098\n",
       "Total Cases              49\n",
       "Total Deaths           1236\n",
       "Total Recovered         285\n",
       "Serious or Critical    2486\n",
       "Active Cases             59\n",
       "dtype: int64"
      ]
     },
     "execution_count": 430,
     "metadata": {},
     "output_type": "execute_result"
    }
   ],
   "source": [
    "df.isnull().sum()"
   ]
  },
  {
   "cell_type": "code",
   "execution_count": 431,
   "metadata": {},
   "outputs": [
    {
     "data": {
      "text/plain": [
       "<matplotlib.axes._subplots.AxesSubplot at 0x18a2ebca700>"
      ]
     },
     "execution_count": 431,
     "metadata": {},
     "output_type": "execute_result"
    },
    {
     "data": {
      "image/png": "[encoded data removed]",
      "text/plain": [
       "<Figure size 1008x720 with 1 Axes>"
      ]
     },
     "metadata": {
      "needs_background": "light"
     },
     "output_type": "display_data"
    }
   ],
   "source": [
    "plt.figure(figsize=(14,10))\n",
    "sns.heatmap(df.isnull(),yticklabels=False,cbar=False)"
   ]
  },
  {
   "cell_type": "code",
   "execution_count": 432,
   "metadata": {},
   "outputs": [
    {
     "data": {
      "text/html": [
       "<div>\n",
       "<style scoped>\n",
       "    .dataframe tbody tr th:only-of-type {\n",
       "        vertical-align: middle;\n",
       "    }\n",
       "\n",
       "    .dataframe tbody tr th {\n",
       "        vertical-align: top;\n",
       "    }\n",
       "\n",
       "    .dataframe thead th {\n",
       "        text-align: right;\n",
       "    }\n",
       "</style>\n",
       "<table border=\"1\" class=\"dataframe\">\n",
       "  <thead>\n",
       "    <tr style=\"text-align: right;\">\n",
       "      <th></th>\n",
       "      <th>Date</th>\n",
       "      <th>Country</th>\n",
       "      <th>Population</th>\n",
       "      <th>Total Tests</th>\n",
       "      <th>Total Cases</th>\n",
       "      <th>Total Deaths</th>\n",
       "      <th>Total Recovered</th>\n",
       "      <th>Serious or Critical</th>\n",
       "      <th>Active Cases</th>\n",
       "    </tr>\n",
       "  </thead>\n",
       "  <tbody>\n",
       "    <tr>\n",
       "      <th>0</th>\n",
       "      <td>False</td>\n",
       "      <td>False</td>\n",
       "      <td>False</td>\n",
       "      <td>False</td>\n",
       "      <td>False</td>\n",
       "      <td>False</td>\n",
       "      <td>False</td>\n",
       "      <td>False</td>\n",
       "      <td>False</td>\n",
       "    </tr>\n",
       "    <tr>\n",
       "      <th>1</th>\n",
       "      <td>False</td>\n",
       "      <td>False</td>\n",
       "      <td>False</td>\n",
       "      <td>False</td>\n",
       "      <td>False</td>\n",
       "      <td>False</td>\n",
       "      <td>False</td>\n",
       "      <td>False</td>\n",
       "      <td>False</td>\n",
       "    </tr>\n",
       "    <tr>\n",
       "      <th>2</th>\n",
       "      <td>False</td>\n",
       "      <td>False</td>\n",
       "      <td>False</td>\n",
       "      <td>False</td>\n",
       "      <td>False</td>\n",
       "      <td>False</td>\n",
       "      <td>False</td>\n",
       "      <td>False</td>\n",
       "      <td>False</td>\n",
       "    </tr>\n",
       "    <tr>\n",
       "      <th>3</th>\n",
       "      <td>False</td>\n",
       "      <td>False</td>\n",
       "      <td>False</td>\n",
       "      <td>False</td>\n",
       "      <td>False</td>\n",
       "      <td>False</td>\n",
       "      <td>False</td>\n",
       "      <td>False</td>\n",
       "      <td>False</td>\n",
       "    </tr>\n",
       "    <tr>\n",
       "      <th>4</th>\n",
       "      <td>False</td>\n",
       "      <td>False</td>\n",
       "      <td>False</td>\n",
       "      <td>False</td>\n",
       "      <td>False</td>\n",
       "      <td>False</td>\n",
       "      <td>True</td>\n",
       "      <td>False</td>\n",
       "      <td>False</td>\n",
       "    </tr>\n",
       "    <tr>\n",
       "      <th>...</th>\n",
       "      <td>...</td>\n",
       "      <td>...</td>\n",
       "      <td>...</td>\n",
       "      <td>...</td>\n",
       "      <td>...</td>\n",
       "      <td>...</td>\n",
       "      <td>...</td>\n",
       "      <td>...</td>\n",
       "      <td>...</td>\n",
       "    </tr>\n",
       "    <tr>\n",
       "      <th>6598</th>\n",
       "      <td>False</td>\n",
       "      <td>False</td>\n",
       "      <td>False</td>\n",
       "      <td>True</td>\n",
       "      <td>False</td>\n",
       "      <td>True</td>\n",
       "      <td>False</td>\n",
       "      <td>True</td>\n",
       "      <td>False</td>\n",
       "    </tr>\n",
       "    <tr>\n",
       "      <th>6599</th>\n",
       "      <td>False</td>\n",
       "      <td>False</td>\n",
       "      <td>False</td>\n",
       "      <td>True</td>\n",
       "      <td>False</td>\n",
       "      <td>True</td>\n",
       "      <td>False</td>\n",
       "      <td>True</td>\n",
       "      <td>False</td>\n",
       "    </tr>\n",
       "    <tr>\n",
       "      <th>6600</th>\n",
       "      <td>False</td>\n",
       "      <td>False</td>\n",
       "      <td>False</td>\n",
       "      <td>True</td>\n",
       "      <td>False</td>\n",
       "      <td>True</td>\n",
       "      <td>False</td>\n",
       "      <td>True</td>\n",
       "      <td>False</td>\n",
       "    </tr>\n",
       "    <tr>\n",
       "      <th>6601</th>\n",
       "      <td>False</td>\n",
       "      <td>False</td>\n",
       "      <td>False</td>\n",
       "      <td>True</td>\n",
       "      <td>False</td>\n",
       "      <td>True</td>\n",
       "      <td>True</td>\n",
       "      <td>True</td>\n",
       "      <td>False</td>\n",
       "    </tr>\n",
       "    <tr>\n",
       "      <th>6602</th>\n",
       "      <td>False</td>\n",
       "      <td>False</td>\n",
       "      <td>False</td>\n",
       "      <td>True</td>\n",
       "      <td>False</td>\n",
       "      <td>True</td>\n",
       "      <td>False</td>\n",
       "      <td>True</td>\n",
       "      <td>False</td>\n",
       "    </tr>\n",
       "  </tbody>\n",
       "</table>\n",
       "<p>6603 rows × 9 columns</p>\n",
       "</div>"
      ],
      "text/plain": [
       "       Date  Country  Population  Total Tests  Total Cases  Total Deaths  \\\n",
       "0     False    False       False        False        False         False   \n",
       "1     False    False       False        False        False         False   \n",
       "2     False    False       False        False        False         False   \n",
       "3     False    False       False        False        False         False   \n",
       "4     False    False       False        False        False         False   \n",
       "...     ...      ...         ...          ...          ...           ...   \n",
       "6598  False    False       False         True        False          True   \n",
       "6599  False    False       False         True        False          True   \n",
       "6600  False    False       False         True        False          True   \n",
       "6601  False    False       False         True        False          True   \n",
       "6602  False    False       False         True        False          True   \n",
       "\n",
       "      Total Recovered  Serious or Critical  Active Cases  \n",
       "0               False                False         False  \n",
       "1               False                False         False  \n",
       "2               False                False         False  \n",
       "3               False                False         False  \n",
       "4                True                False         False  \n",
       "...               ...                  ...           ...  \n",
       "6598            False                 True         False  \n",
       "6599            False                 True         False  \n",
       "6600            False                 True         False  \n",
       "6601             True                 True         False  \n",
       "6602            False                 True         False  \n",
       "\n",
       "[6603 rows x 9 columns]"
      ]
     },
     "execution_count": 432,
     "metadata": {},
     "output_type": "execute_result"
    }
   ],
   "source": [
    "df.isnull()"
   ]
  },
  {
   "cell_type": "code",
   "execution_count": 433,
   "metadata": {},
   "outputs": [
    {
     "data": {
      "text/plain": [
       "Population             3.637913e+07\n",
       "Total Tests            2.167252e+05\n",
       "Total Cases            1.692968e+04\n",
       "Total Deaths           1.416252e+03\n",
       "Total Recovered        5.855424e+03\n",
       "Serious or Critical    3.867484e+02\n",
       "Active Cases           9.964142e+03\n",
       "dtype: float64"
      ]
     },
     "execution_count": 433,
     "metadata": {},
     "output_type": "execute_result"
    }
   ],
   "source": [
    "df.mean()"
   ]
  },
  {
   "cell_type": "code",
   "execution_count": 434,
   "metadata": {},
   "outputs": [
    {
     "data": {
      "text/plain": [
       "Date                   0\n",
       "Country                0\n",
       "Population             0\n",
       "Total Tests            0\n",
       "Total Cases            0\n",
       "Total Deaths           0\n",
       "Total Recovered        0\n",
       "Serious or Critical    0\n",
       "Active Cases           0\n",
       "dtype: int64"
      ]
     },
     "execution_count": 434,
     "metadata": {},
     "output_type": "execute_result"
    }
   ],
   "source": [
    "df=df.fillna(df.mean())\n",
    "df.isnull().sum()"
   ]
  },
  {
   "cell_type": "code",
   "execution_count": 435,
   "metadata": {},
   "outputs": [
    {
     "name": "stdout",
     "output_type": "stream",
     "text": [
      "<class 'pandas.core.frame.DataFrame'>\n",
      "RangeIndex: 6603 entries, 0 to 6602\n",
      "Data columns (total 9 columns):\n",
      " #   Column               Non-Null Count  Dtype  \n",
      "---  ------               --------------  -----  \n",
      " 0   Date                 6603 non-null   object \n",
      " 1   Country              6603 non-null   object \n",
      " 2   Population           6603 non-null   int64  \n",
      " 3   Total Tests          6603 non-null   float64\n",
      " 4   Total Cases          6603 non-null   float64\n",
      " 5   Total Deaths         6603 non-null   float64\n",
      " 6   Total Recovered      6603 non-null   float64\n",
      " 7   Serious or Critical  6603 non-null   float64\n",
      " 8   Active Cases         6603 non-null   float64\n",
      "dtypes: float64(6), int64(1), object(2)\n",
      "memory usage: 464.4+ KB\n"
     ]
    }
   ],
   "source": [
    "df.info()"
   ]
  },
  {
   "cell_type": "code",
   "execution_count": 436,
   "metadata": {},
   "outputs": [
    {
     "data": {
      "text/plain": [
       "False"
      ]
     },
     "execution_count": 436,
     "metadata": {},
     "output_type": "execute_result"
    }
   ],
   "source": [
    "df.isnull().values.any()"
   ]
  },
  {
   "cell_type": "code",
   "execution_count": 437,
   "metadata": {},
   "outputs": [
    {
     "data": {
      "text/plain": [
       "<matplotlib.axes._subplots.AxesSubplot at 0x18a2eca7a00>"
      ]
     },
     "execution_count": 437,
     "metadata": {},
     "output_type": "execute_result"
    },
    {
     "data": {
      "image/png": "[encoded data removed]",
      "text/plain": [
       "<Figure size 1008x720 with 1 Axes>"
      ]
     },
     "metadata": {
      "needs_background": "light"
     },
     "output_type": "display_data"
    }
   ],
   "source": [
    "plt.figure(figsize=(14,10))\n",
    "sns.heatmap(df.isnull(),yticklabels=False,cbar=False,cmap='cool')"
   ]
  },
  {
   "cell_type": "code",
   "execution_count": 438,
   "metadata": {},
   "outputs": [
    {
     "name": "stdout",
     "output_type": "stream",
     "text": [
      "Date:['2020-04-18' '2020-04-19' '2020-04-20' '2020-04-21' '2020-04-22'\n",
      " '2020-04-23' '2020-04-24' '2020-04-25' '2020-04-26' '2020-04-27'\n",
      " '2020-04-28' '2020-04-29' '2020-04-30' '2020-05-01' '2020-05-02'\n",
      " '2020-05-03' '2020-05-04' '2020-05-05' '2020-05-06' '2020-05-07'\n",
      " '2020-05-08' '2020-05-09' '2020-05-10' '2020-05-11' '2020-05-12'\n",
      " '2020-05-13' '2020-05-14' '2020-05-15' '2020-05-16' '2020-05-17'\n",
      " '2020-05-18']\n",
      "2020-05-15    213\n",
      "2020-05-06    213\n",
      "2020-05-17    213\n",
      "2020-04-20    213\n",
      "2020-04-24    213\n",
      "2020-05-12    213\n",
      "2020-05-05    213\n",
      "2020-05-13    213\n",
      "2020-05-03    213\n",
      "2020-04-23    213\n",
      "2020-04-30    213\n",
      "2020-04-27    213\n",
      "2020-05-16    213\n",
      "2020-04-18    213\n",
      "2020-05-09    213\n",
      "2020-05-07    213\n",
      "2020-05-01    213\n",
      "2020-05-02    213\n",
      "2020-05-14    213\n",
      "2020-05-18    213\n",
      "2020-05-04    213\n",
      "2020-05-11    213\n",
      "2020-05-10    213\n",
      "2020-04-25    213\n",
      "2020-04-22    213\n",
      "2020-04-29    213\n",
      "2020-05-08    213\n",
      "2020-04-21    213\n",
      "2020-04-28    213\n",
      "2020-04-19    213\n",
      "2020-04-26    213\n",
      "Name: Date, dtype: int64\n",
      "**************************************************************************************************\n",
      "\n",
      "\n",
      "Country:['USA' 'Russia' 'Spain' 'Brazil' 'UK' 'Italy' 'France' 'Germany' 'Turkey'\n",
      " 'Iran' 'India' 'Peru' 'China' 'Canada' 'Saudi Arabia' 'Belgium' 'Mexico'\n",
      " 'Chile' 'Netherlands' 'Pakistan' 'Qatar' 'Ecuador' 'Switzerland'\n",
      " 'Belarus' 'Sweden' 'Portugal' 'Singapore' 'Ireland' 'UAE' 'Bangladesh'\n",
      " 'Poland' 'Ukraine' 'Indonesia' 'Romania' 'Israel' 'South Africa' 'Japan'\n",
      " 'Colombia' 'Austria' 'Kuwait' 'Egypt' 'Dominican Republic' 'Philippines'\n",
      " 'S. Korea' 'Denmark' 'Serbia' 'Panama' 'Czechia' 'Argentina' 'Norway'\n",
      " 'Algeria' 'Bahrain' 'Afghanistan' 'Australia' 'Morocco' 'Malaysia'\n",
      " 'Kazakhstan' 'Finland' 'Nigeria' 'Moldova' 'Ghana' 'Oman' 'Armenia'\n",
      " 'Bolivia' 'Luxembourg' 'Iraq' 'Hungary' 'Cameroon' 'Azerbaijan'\n",
      " 'Thailand' 'Greece' 'Guinea' 'Uzbekistan' 'Honduras' 'Sudan' 'Senegal'\n",
      " 'Bosnia and Herzegovina' 'Bulgaria' 'Croatia' 'Ivory Coast' 'Guatemala'\n",
      " 'Cuba' 'North Macedonia' 'Iceland' 'Estonia' 'Tajikistan' 'Lithuania'\n",
      " 'DRC' 'Djibouti' 'New Zealand' 'Slovakia' 'Slovenia' 'Somalia' 'Gabon'\n",
      " 'El Salvador' 'Mayotte' 'Kyrgyzstan' 'Maldives' 'Hong Kong' 'Tunisia'\n",
      " 'Guinea-Bissau' 'Latvia' 'Sri Lanka' 'Albania' 'Lebanon' 'Cyprus' 'Kenya'\n",
      " 'Niger' 'Mali' 'Costa Rica' 'Burkina Faso' 'Paraguay' 'Andorra' 'Zambia'\n",
      " 'Uruguay' 'Equatorial Guinea' 'Georgia' 'San Marino' 'Jordan' 'Venezuela'\n",
      " 'Malta' 'Channel Islands' 'Haiti' 'Jamaica' 'Chad' 'Sierra Leone'\n",
      " 'Tanzania' 'Réunion' 'Taiwan' 'Congo' 'Palestine' 'Nepal' 'Ethiopia'\n",
      " 'Benin' 'Isle of Man' 'Mauritius' 'Togo' 'Cabo Verde' 'CAR' 'Montenegro'\n",
      " 'Vietnam' 'Madagascar' 'Rwanda' 'South Sudan' 'Uganda'\n",
      " 'Sao Tome and Principe' 'Liberia' 'French Guiana' 'Eswatini' 'Martinique'\n",
      " 'Myanmar' 'Faeroe Islands' 'Guadeloupe' 'Gibraltar' 'Mozambique' 'Brunei'\n",
      " 'Mongolia' 'Yemen' 'Bermuda' 'Guyana' 'Cambodia' 'Trinidad and Tobago'\n",
      " 'Aruba' 'Monaco' 'Bahamas' 'Cayman Islands' 'Barbados' 'Liechtenstein'\n",
      " 'Mauritania' 'Sint Maarten' 'Malawi' 'Libya' 'French Polynesia' 'Syria'\n",
      " 'Angola' 'Zimbabwe' 'Macao' 'Burundi' 'Saint Martin' 'Eritrea'\n",
      " 'Nicaragua' 'Antigua and Barbuda' 'Botswana' 'Gambia' 'Timor-Leste'\n",
      " 'Grenada' 'Bhutan' 'Laos' 'Belize' 'Fiji' 'New Caledonia' 'Saint Lucia'\n",
      " 'St. Vincent Grenadines' 'Curaçao' 'Dominica' 'Namibia'\n",
      " 'Saint Kitts and Nevis' 'Falkland Islands' 'Turks and Caicos'\n",
      " 'Vatican City' 'Comoros' 'Montserrat' 'Suriname' 'Greenland' 'Seychelles'\n",
      " 'British Virgin Islands' 'Papua New Guinea' 'Caribbean Netherlands'\n",
      " 'St. Barth' 'Western Sahara' 'Anguilla' 'Lesotho' 'Saint Pierre Miquelon']\n",
      "Germany       31\n",
      "Thailand      31\n",
      "Lebanon       31\n",
      "Gibraltar     31\n",
      "Slovakia      31\n",
      "              ..\n",
      "USA           31\n",
      "Nicaragua     31\n",
      "Martinique    31\n",
      "Hong Kong     31\n",
      "Romania       31\n",
      "Name: Country, Length: 213, dtype: int64\n",
      "**************************************************************************************************\n",
      "\n",
      "\n"
     ]
    }
   ],
   "source": [
    "for column in df.columns:\n",
    "    if df[column].dtypes==object:\n",
    "        print(str(column)+ ':' +str(df[column].unique()))\n",
    "        print(df[column].value_counts())\n",
    "        print('**************************************************************************************************')\n",
    "        print('\\n')"
   ]
  },
  {
   "cell_type": "code",
   "execution_count": 439,
   "metadata": {},
   "outputs": [
    {
     "data": {
      "text/html": [
       "<div>\n",
       "<style scoped>\n",
       "    .dataframe tbody tr th:only-of-type {\n",
       "        vertical-align: middle;\n",
       "    }\n",
       "\n",
       "    .dataframe tbody tr th {\n",
       "        vertical-align: top;\n",
       "    }\n",
       "\n",
       "    .dataframe thead th {\n",
       "        text-align: right;\n",
       "    }\n",
       "</style>\n",
       "<table border=\"1\" class=\"dataframe\">\n",
       "  <thead>\n",
       "    <tr style=\"text-align: right;\">\n",
       "      <th></th>\n",
       "      <th>Population</th>\n",
       "      <th>Total Tests</th>\n",
       "      <th>Total Cases</th>\n",
       "      <th>Total Deaths</th>\n",
       "      <th>Total Recovered</th>\n",
       "      <th>Serious or Critical</th>\n",
       "      <th>Active Cases</th>\n",
       "    </tr>\n",
       "  </thead>\n",
       "  <tbody>\n",
       "    <tr>\n",
       "      <th>count</th>\n",
       "      <td>6.603000e+03</td>\n",
       "      <td>6.603000e+03</td>\n",
       "      <td>6.603000e+03</td>\n",
       "      <td>6603.000000</td>\n",
       "      <td>6603.000000</td>\n",
       "      <td>6603.000000</td>\n",
       "      <td>6.603000e+03</td>\n",
       "    </tr>\n",
       "    <tr>\n",
       "      <th>mean</th>\n",
       "      <td>3.637913e+07</td>\n",
       "      <td>2.167252e+05</td>\n",
       "      <td>1.692968e+04</td>\n",
       "      <td>1416.252096</td>\n",
       "      <td>5855.424185</td>\n",
       "      <td>386.748360</td>\n",
       "      <td>9.964142e+03</td>\n",
       "    </tr>\n",
       "    <tr>\n",
       "      <th>std</th>\n",
       "      <td>1.411537e+08</td>\n",
       "      <td>6.934856e+05</td>\n",
       "      <td>8.828521e+04</td>\n",
       "      <td>5990.992214</td>\n",
       "      <td>22955.519135</td>\n",
       "      <td>1309.473245</td>\n",
       "      <td>6.511732e+04</td>\n",
       "    </tr>\n",
       "    <tr>\n",
       "      <th>min</th>\n",
       "      <td>8.010000e+02</td>\n",
       "      <td>1.000000e+01</td>\n",
       "      <td>1.000000e+00</td>\n",
       "      <td>0.000000</td>\n",
       "      <td>1.000000</td>\n",
       "      <td>1.000000</td>\n",
       "      <td>0.000000e+00</td>\n",
       "    </tr>\n",
       "    <tr>\n",
       "      <th>25%</th>\n",
       "      <td>8.672680e+05</td>\n",
       "      <td>4.733000e+03</td>\n",
       "      <td>8.000000e+01</td>\n",
       "      <td>8.000000</td>\n",
       "      <td>29.000000</td>\n",
       "      <td>7.000000</td>\n",
       "      <td>2.700000e+01</td>\n",
       "    </tr>\n",
       "    <tr>\n",
       "      <th>50%</th>\n",
       "      <td>6.859926e+06</td>\n",
       "      <td>5.419500e+04</td>\n",
       "      <td>6.320000e+02</td>\n",
       "      <td>55.000000</td>\n",
       "      <td>253.000000</td>\n",
       "      <td>137.000000</td>\n",
       "      <td>2.840000e+02</td>\n",
       "    </tr>\n",
       "    <tr>\n",
       "      <th>75%</th>\n",
       "      <td>2.546422e+07</td>\n",
       "      <td>2.167252e+05</td>\n",
       "      <td>5.222500e+03</td>\n",
       "      <td>1416.252096</td>\n",
       "      <td>1786.500000</td>\n",
       "      <td>386.748360</td>\n",
       "      <td>2.230500e+03</td>\n",
       "    </tr>\n",
       "    <tr>\n",
       "      <th>max</th>\n",
       "      <td>1.439324e+09</td>\n",
       "      <td>1.230074e+07</td>\n",
       "      <td>1.550294e+06</td>\n",
       "      <td>91981.000000</td>\n",
       "      <td>356383.000000</td>\n",
       "      <td>18671.000000</td>\n",
       "      <td>1.101930e+06</td>\n",
       "    </tr>\n",
       "  </tbody>\n",
       "</table>\n",
       "</div>"
      ],
      "text/plain": [
       "         Population   Total Tests   Total Cases  Total Deaths  \\\n",
       "count  6.603000e+03  6.603000e+03  6.603000e+03   6603.000000   \n",
       "mean   3.637913e+07  2.167252e+05  1.692968e+04   1416.252096   \n",
       "std    1.411537e+08  6.934856e+05  8.828521e+04   5990.992214   \n",
       "min    8.010000e+02  1.000000e+01  1.000000e+00      0.000000   \n",
       "25%    8.672680e+05  4.733000e+03  8.000000e+01      8.000000   \n",
       "50%    6.859926e+06  5.419500e+04  6.320000e+02     55.000000   \n",
       "75%    2.546422e+07  2.167252e+05  5.222500e+03   1416.252096   \n",
       "max    1.439324e+09  1.230074e+07  1.550294e+06  91981.000000   \n",
       "\n",
       "       Total Recovered  Serious or Critical  Active Cases  \n",
       "count      6603.000000          6603.000000  6.603000e+03  \n",
       "mean       5855.424185           386.748360  9.964142e+03  \n",
       "std       22955.519135          1309.473245  6.511732e+04  \n",
       "min           1.000000             1.000000  0.000000e+00  \n",
       "25%          29.000000             7.000000  2.700000e+01  \n",
       "50%         253.000000           137.000000  2.840000e+02  \n",
       "75%        1786.500000           386.748360  2.230500e+03  \n",
       "max      356383.000000         18671.000000  1.101930e+06  "
      ]
     },
     "execution_count": 439,
     "metadata": {},
     "output_type": "execute_result"
    }
   ],
   "source": [
    "df.describe()"
   ]
  },
  {
   "cell_type": "code",
   "execution_count": 440,
   "metadata": {},
   "outputs": [
    {
     "data": {
      "text/html": [
       "<div>\n",
       "<style scoped>\n",
       "    .dataframe tbody tr th:only-of-type {\n",
       "        vertical-align: middle;\n",
       "    }\n",
       "\n",
       "    .dataframe tbody tr th {\n",
       "        vertical-align: top;\n",
       "    }\n",
       "\n",
       "    .dataframe thead th {\n",
       "        text-align: right;\n",
       "    }\n",
       "</style>\n",
       "<table border=\"1\" class=\"dataframe\">\n",
       "  <thead>\n",
       "    <tr style=\"text-align: right;\">\n",
       "      <th></th>\n",
       "      <th>Population</th>\n",
       "      <th>Total Tests</th>\n",
       "      <th>Total Cases</th>\n",
       "      <th>Total Deaths</th>\n",
       "      <th>Total Recovered</th>\n",
       "      <th>Serious or Critical</th>\n",
       "      <th>Active Cases</th>\n",
       "    </tr>\n",
       "  </thead>\n",
       "  <tbody>\n",
       "    <tr>\n",
       "      <th>Population</th>\n",
       "      <td>1.000000</td>\n",
       "      <td>0.223735</td>\n",
       "      <td>0.225844</td>\n",
       "      <td>0.176773</td>\n",
       "      <td>0.309361</td>\n",
       "      <td>0.170461</td>\n",
       "      <td>0.179359</td>\n",
       "    </tr>\n",
       "    <tr>\n",
       "      <th>Total Tests</th>\n",
       "      <td>0.223735</td>\n",
       "      <td>1.000000</td>\n",
       "      <td>0.896328</td>\n",
       "      <td>0.803680</td>\n",
       "      <td>0.795205</td>\n",
       "      <td>0.728773</td>\n",
       "      <td>0.853809</td>\n",
       "    </tr>\n",
       "    <tr>\n",
       "      <th>Total Cases</th>\n",
       "      <td>0.225844</td>\n",
       "      <td>0.896328</td>\n",
       "      <td>1.000000</td>\n",
       "      <td>0.930952</td>\n",
       "      <td>0.821121</td>\n",
       "      <td>0.881620</td>\n",
       "      <td>0.975361</td>\n",
       "    </tr>\n",
       "    <tr>\n",
       "      <th>Total Deaths</th>\n",
       "      <td>0.176773</td>\n",
       "      <td>0.803680</td>\n",
       "      <td>0.930952</td>\n",
       "      <td>1.000000</td>\n",
       "      <td>0.794887</td>\n",
       "      <td>0.822177</td>\n",
       "      <td>0.879732</td>\n",
       "    </tr>\n",
       "    <tr>\n",
       "      <th>Total Recovered</th>\n",
       "      <td>0.309361</td>\n",
       "      <td>0.795205</td>\n",
       "      <td>0.821121</td>\n",
       "      <td>0.794887</td>\n",
       "      <td>1.000000</td>\n",
       "      <td>0.707686</td>\n",
       "      <td>0.687265</td>\n",
       "    </tr>\n",
       "    <tr>\n",
       "      <th>Serious or Critical</th>\n",
       "      <td>0.170461</td>\n",
       "      <td>0.728773</td>\n",
       "      <td>0.881620</td>\n",
       "      <td>0.822177</td>\n",
       "      <td>0.707686</td>\n",
       "      <td>1.000000</td>\n",
       "      <td>0.869204</td>\n",
       "    </tr>\n",
       "    <tr>\n",
       "      <th>Active Cases</th>\n",
       "      <td>0.179359</td>\n",
       "      <td>0.853809</td>\n",
       "      <td>0.975361</td>\n",
       "      <td>0.879732</td>\n",
       "      <td>0.687265</td>\n",
       "      <td>0.869204</td>\n",
       "      <td>1.000000</td>\n",
       "    </tr>\n",
       "  </tbody>\n",
       "</table>\n",
       "</div>"
      ],
      "text/plain": [
       "                     Population  Total Tests  Total Cases  Total Deaths  \\\n",
       "Population             1.000000     0.223735     0.225844      0.176773   \n",
       "Total Tests            0.223735     1.000000     0.896328      0.803680   \n",
       "Total Cases            0.225844     0.896328     1.000000      0.930952   \n",
       "Total Deaths           0.176773     0.803680     0.930952      1.000000   \n",
       "Total Recovered        0.309361     0.795205     0.821121      0.794887   \n",
       "Serious or Critical    0.170461     0.728773     0.881620      0.822177   \n",
       "Active Cases           0.179359     0.853809     0.975361      0.879732   \n",
       "\n",
       "                     Total Recovered  Serious or Critical  Active Cases  \n",
       "Population                  0.309361             0.170461      0.179359  \n",
       "Total Tests                 0.795205             0.728773      0.853809  \n",
       "Total Cases                 0.821121             0.881620      0.975361  \n",
       "Total Deaths                0.794887             0.822177      0.879732  \n",
       "Total Recovered             1.000000             0.707686      0.687265  \n",
       "Serious or Critical         0.707686             1.000000      0.869204  \n",
       "Active Cases                0.687265             0.869204      1.000000  "
      ]
     },
     "execution_count": 440,
     "metadata": {},
     "output_type": "execute_result"
    }
   ],
   "source": [
    "df_cor=df.corr()\n",
    "df_cor"
   ]
  },
  {
   "cell_type": "code",
   "execution_count": 441,
   "metadata": {},
   "outputs": [
    {
     "data": {
      "image/png": "[encoded data removed]",
      "text/plain": [
       "<Figure size 1008x720 with 2 Axes>"
      ]
     },
     "metadata": {
      "needs_background": "light"
     },
     "output_type": "display_data"
    }
   ],
   "source": [
    "plt.figure(figsize=(14,10))\n",
    "sns.heatmap(df_cor,annot=True,fmt='.0%',cmap='BuPu')\n",
    "plt.show()"
   ]
  },
  {
   "cell_type": "code",
   "execution_count": 442,
   "metadata": {},
   "outputs": [
    {
     "data": {
      "text/plain": [
       "Text(0.5, 1.0, 'Correlation with target variable')"
      ]
     },
     "execution_count": 442,
     "metadata": {},
     "output_type": "execute_result"
    },
    {
     "data": {
      "image/png": "[encoded data removed]",
      "text/plain": [
       "<Figure size 864x432 with 1 Axes>"
      ]
     },
     "metadata": {
      "needs_background": "light"
     },
     "output_type": "display_data"
    }
   ],
   "source": [
    "plt.figure(figsize=(12,6))\n",
    "df.drop('Total Deaths',axis=1).corrwith(df['Total Deaths']).plot(kind='bar',grid=True)\n",
    "plt.xticks(rotation='vertical')\n",
    "plt.title('Correlation with target variable')"
   ]
  },
  {
   "cell_type": "code",
   "execution_count": 443,
   "metadata": {},
   "outputs": [
    {
     "data": {
      "image/png": "[encoded data removed]",
      "text/plain": [
       "<Figure size 432x288 with 1 Axes>"
      ]
     },
     "metadata": {
      "needs_background": "light"
     },
     "output_type": "display_data"
    },
    {
     "name": "stdout",
     "output_type": "stream",
     "text": [
      "1416.252096     1236\n",
      "1.000000         490\n",
      "3.000000         255\n",
      "2.000000         213\n",
      "10.000000        182\n",
      "                ... \n",
      "72271.000000       1\n",
      "6902.000000        1\n",
      "26771.000000       1\n",
      "27650.000000       1\n",
      "348.000000         1\n",
      "Name: Total Deaths, Length: 1186, dtype: int64\n"
     ]
    }
   ],
   "source": [
    "sns.boxplot(x='Total Deaths',data=df,palette='rainbow')\n",
    "plt.title('No of Total Deaths',fontsize=18)\n",
    "plt.show()\n",
    "print(df['Total Deaths'].value_counts())"
   ]
  },
  {
   "cell_type": "code",
   "execution_count": 444,
   "metadata": {},
   "outputs": [
    {
     "data": {
      "image/png": "[encoded data removed]",
      "text/plain": [
       "<Figure size 576x432 with 1 Axes>"
      ]
     },
     "metadata": {
      "needs_background": "light"
     },
     "output_type": "display_data"
    },
    {
     "name": "stdout",
     "output_type": "stream",
     "text": [
      "386.74836     2486\n",
      "1.00000        619\n",
      "4.00000        284\n",
      "2.00000        278\n",
      "3.00000        196\n",
      "              ... \n",
      "215.00000        1\n",
      "2573.00000       1\n",
      "2716.00000       1\n",
      "709.00000        1\n",
      "3079.00000       1\n",
      "Name: Serious or Critical, Length: 530, dtype: int64\n"
     ]
    }
   ],
   "source": [
    "plt.figure(figsize=(8,6))\n",
    "sns.boxplot(x='Serious or Critical',data=df,palette='rainbow')\n",
    "plt.title('Serious or Critical',fontsize=20)\n",
    "plt.show()\n",
    "print(df['Serious or Critical'].value_counts())"
   ]
  },
  {
   "cell_type": "code",
   "execution_count": 445,
   "metadata": {},
   "outputs": [
    {
     "data": {
      "image/png": "[encoded data removed]",
      "text/plain": [
       "<Figure size 1584x576 with 1 Axes>"
      ]
     },
     "metadata": {
      "needs_background": "light"
     },
     "output_type": "display_data"
    },
    {
     "name": "stdout",
     "output_type": "stream",
     "text": [
      "2020-05-15    213\n",
      "2020-05-06    213\n",
      "2020-05-17    213\n",
      "2020-04-20    213\n",
      "2020-04-24    213\n",
      "2020-05-12    213\n",
      "2020-05-05    213\n",
      "2020-05-13    213\n",
      "2020-05-03    213\n",
      "2020-04-23    213\n",
      "2020-04-30    213\n",
      "2020-04-27    213\n",
      "2020-05-16    213\n",
      "2020-04-18    213\n",
      "2020-05-09    213\n",
      "2020-05-07    213\n",
      "2020-05-01    213\n",
      "2020-05-02    213\n",
      "2020-05-14    213\n",
      "2020-05-18    213\n",
      "2020-05-04    213\n",
      "2020-05-11    213\n",
      "2020-05-10    213\n",
      "2020-04-25    213\n",
      "2020-04-22    213\n",
      "2020-04-29    213\n",
      "2020-05-08    213\n",
      "2020-04-21    213\n",
      "2020-04-28    213\n",
      "2020-04-19    213\n",
      "2020-04-26    213\n",
      "Name: Date, dtype: int64\n"
     ]
    }
   ],
   "source": [
    "plt.subplots(figsize=(22,8))\n",
    "sns.countplot(x='Date',data=df,palette='rainbow')\n",
    "plt.title('No of incident a/c to date',fontsize=26)\n",
    "plt.xticks(rotation='vertical')\n",
    "plt.show()\n",
    "print(df['Date'].value_counts())"
   ]
  },
  {
   "cell_type": "code",
   "execution_count": 446,
   "metadata": {},
   "outputs": [
    {
     "data": {
      "image/png": "[encoded data removed]",
      "text/plain": [
       "<Figure size 432x288 with 1 Axes>"
      ]
     },
     "metadata": {
      "needs_background": "light"
     },
     "output_type": "display_data"
    },
    {
     "name": "stdout",
     "output_type": "stream",
     "text": [
      "Germany       31\n",
      "Thailand      31\n",
      "Lebanon       31\n",
      "Gibraltar     31\n",
      "Slovakia      31\n",
      "              ..\n",
      "USA           31\n",
      "Nicaragua     31\n",
      "Martinique    31\n",
      "Hong Kong     31\n",
      "Romania       31\n",
      "Name: Country, Length: 213, dtype: int64\n"
     ]
    }
   ],
   "source": [
    "\n",
    "sns.countplot(x='Country',data=df,palette='rainbow')\n",
    "plt.title('No of incident a/c to country',fontsize=16)\n",
    "plt.show()\n",
    "print(df['Country'].value_counts())"
   ]
  },
  {
   "cell_type": "code",
   "execution_count": 447,
   "metadata": {},
   "outputs": [
    {
     "data": {
      "image/png": "[encoded data removed]",
      "text/plain": [
       "<Figure size 432x288 with 1 Axes>"
      ]
     },
     "metadata": {
      "needs_background": "light"
     },
     "output_type": "display_data"
    },
    {
     "data": {
      "image/png": "[encoded data removed]",
      "text/plain": [
       "<Figure size 432x288 with 1 Axes>"
      ]
     },
     "metadata": {
      "needs_background": "light"
     },
     "output_type": "display_data"
    },
    {
     "data": {
      "image/png": "[encoded data removed]",
      "text/plain": [
       "<Figure size 432x288 with 1 Axes>"
      ]
     },
     "metadata": {
      "needs_background": "light"
     },
     "output_type": "display_data"
    },
    {
     "data": {
      "image/png": "[encoded data removed]",
      "text/plain": [
       "<Figure size 432x288 with 1 Axes>"
      ]
     },
     "metadata": {
      "needs_background": "light"
     },
     "output_type": "display_data"
    },
    {
     "data": {
      "image/png": "[encoded data removed]",
      "text/plain": [
       "<Figure size 432x288 with 1 Axes>"
      ]
     },
     "metadata": {
      "needs_background": "light"
     },
     "output_type": "display_data"
    },
    {
     "data": {
      "image/png": "[encoded data removed]",
      "text/plain": [
       "<Figure size 432x288 with 1 Axes>"
      ]
     },
     "metadata": {
      "needs_background": "light"
     },
     "output_type": "display_data"
    },
    {
     "data": {
      "image/png": "[encoded data removed]",
      "text/plain": [
       "<Figure size 432x288 with 1 Axes>"
      ]
     },
     "metadata": {
      "needs_background": "light"
     },
     "output_type": "display_data"
    }
   ],
   "source": [
    "for col in df.describe().columns:\n",
    "    sns.distplot(df[col],color='r')\n",
    "    plt.show()"
   ]
  },
  {
   "cell_type": "code",
   "execution_count": 448,
   "metadata": {},
   "outputs": [
    {
     "data": {
      "text/plain": [
       "Population              8.743503\n",
       "Total Tests             9.340104\n",
       "Total Cases            12.079982\n",
       "Total Deaths            8.951957\n",
       "Total Recovered         7.220713\n",
       "Serious or Critical     9.199670\n",
       "Active Cases           13.301517\n",
       "dtype: float64"
      ]
     },
     "execution_count": 448,
     "metadata": {},
     "output_type": "execute_result"
    }
   ],
   "source": [
    "df.skew()"
   ]
  },
  {
   "cell_type": "code",
   "execution_count": 449,
   "metadata": {},
   "outputs": [],
   "source": [
    "df['Total Recovered']=np.log(df['Total Recovered'])"
   ]
  },
  {
   "cell_type": "code",
   "execution_count": 450,
   "metadata": {},
   "outputs": [
    {
     "data": {
      "text/plain": [
       "Population              8.743503\n",
       "Total Tests             9.340104\n",
       "Total Cases            12.079982\n",
       "Total Deaths            8.951957\n",
       "Total Recovered         0.178644\n",
       "Serious or Critical     9.199670\n",
       "Active Cases           13.301517\n",
       "dtype: float64"
      ]
     },
     "execution_count": 450,
     "metadata": {},
     "output_type": "execute_result"
    }
   ],
   "source": [
    "df.skew()"
   ]
  },
  {
   "cell_type": "code",
   "execution_count": 451,
   "metadata": {},
   "outputs": [],
   "source": [
    "from sklearn.preprocessing import LabelEncoder\n",
    "\n",
    "le=LabelEncoder()\n",
    "\n",
    "for column in df.columns:\n",
    "    if df[column].dtype==np.number:\n",
    "        continue\n",
    "    df[column]=le.fit_transform(df[column])"
   ]
  },
  {
   "cell_type": "code",
   "execution_count": 452,
   "metadata": {},
   "outputs": [
    {
     "data": {
      "text/html": [
       "<div>\n",
       "<style scoped>\n",
       "    .dataframe tbody tr th:only-of-type {\n",
       "        vertical-align: middle;\n",
       "    }\n",
       "\n",
       "    .dataframe tbody tr th {\n",
       "        vertical-align: top;\n",
       "    }\n",
       "\n",
       "    .dataframe thead th {\n",
       "        text-align: right;\n",
       "    }\n",
       "</style>\n",
       "<table border=\"1\" class=\"dataframe\">\n",
       "  <thead>\n",
       "    <tr style=\"text-align: right;\">\n",
       "      <th></th>\n",
       "      <th>Date</th>\n",
       "      <th>Country</th>\n",
       "      <th>Population</th>\n",
       "      <th>Total Tests</th>\n",
       "      <th>Total Cases</th>\n",
       "      <th>Total Deaths</th>\n",
       "      <th>Total Recovered</th>\n",
       "      <th>Serious or Critical</th>\n",
       "      <th>Active Cases</th>\n",
       "    </tr>\n",
       "  </thead>\n",
       "  <tbody>\n",
       "    <tr>\n",
       "      <th>0</th>\n",
       "      <td>0</td>\n",
       "      <td>201</td>\n",
       "      <td>210</td>\n",
       "      <td>3722145.0</td>\n",
       "      <td>738792.0</td>\n",
       "      <td>39014.0</td>\n",
       "      <td>11.131211</td>\n",
       "      <td>13551.0</td>\n",
       "      <td>631509.0</td>\n",
       "    </tr>\n",
       "    <tr>\n",
       "      <th>1</th>\n",
       "      <td>0</td>\n",
       "      <td>158</td>\n",
       "      <td>204</td>\n",
       "      <td>1831892.0</td>\n",
       "      <td>36793.0</td>\n",
       "      <td>313.0</td>\n",
       "      <td>8.025189</td>\n",
       "      <td>8.0</td>\n",
       "      <td>33423.0</td>\n",
       "    </tr>\n",
       "    <tr>\n",
       "      <th>2</th>\n",
       "      <td>0</td>\n",
       "      <td>180</td>\n",
       "      <td>183</td>\n",
       "      <td>930230.0</td>\n",
       "      <td>194416.0</td>\n",
       "      <td>20043.0</td>\n",
       "      <td>11.222533</td>\n",
       "      <td>7371.0</td>\n",
       "      <td>99576.0</td>\n",
       "    </tr>\n",
       "    <tr>\n",
       "      <th>3</th>\n",
       "      <td>0</td>\n",
       "      <td>26</td>\n",
       "      <td>207</td>\n",
       "      <td>62985.0</td>\n",
       "      <td>36722.0</td>\n",
       "      <td>2361.0</td>\n",
       "      <td>9.548668</td>\n",
       "      <td>6634.0</td>\n",
       "      <td>20335.0</td>\n",
       "    </tr>\n",
       "    <tr>\n",
       "      <th>4</th>\n",
       "      <td>0</td>\n",
       "      <td>200</td>\n",
       "      <td>192</td>\n",
       "      <td>460437.0</td>\n",
       "      <td>114217.0</td>\n",
       "      <td>15464.0</td>\n",
       "      <td>8.675124</td>\n",
       "      <td>1559.0</td>\n",
       "      <td>98409.0</td>\n",
       "    </tr>\n",
       "  </tbody>\n",
       "</table>\n",
       "</div>"
      ],
      "text/plain": [
       "   Date  Country  Population  Total Tests  Total Cases  Total Deaths  \\\n",
       "0     0      201         210    3722145.0     738792.0       39014.0   \n",
       "1     0      158         204    1831892.0      36793.0         313.0   \n",
       "2     0      180         183     930230.0     194416.0       20043.0   \n",
       "3     0       26         207      62985.0      36722.0        2361.0   \n",
       "4     0      200         192     460437.0     114217.0       15464.0   \n",
       "\n",
       "   Total Recovered  Serious or Critical  Active Cases  \n",
       "0        11.131211              13551.0      631509.0  \n",
       "1         8.025189                  8.0       33423.0  \n",
       "2        11.222533               7371.0       99576.0  \n",
       "3         9.548668               6634.0       20335.0  \n",
       "4         8.675124               1559.0       98409.0  "
      ]
     },
     "execution_count": 452,
     "metadata": {},
     "output_type": "execute_result"
    }
   ],
   "source": [
    "df.head()"
   ]
  },
  {
   "cell_type": "code",
   "execution_count": 453,
   "metadata": {},
   "outputs": [
    {
     "data": {
      "text/plain": [
       "array([[1.67705098e+00, 1.54503887e+00, 1.69141098e+00, ...,\n",
       "        2.06820006e+00, 1.00538508e+01, 9.54572314e+00],\n",
       "       [1.67705098e+00, 8.45705489e-01, 1.59382958e+00, ...,\n",
       "        9.17287478e-01, 2.89259093e-01, 3.60282544e-01],\n",
       "       [1.67705098e+00, 1.20350397e+00, 1.25229467e+00, ...,\n",
       "        2.10203872e+00, 5.33403840e+00, 1.37626428e+00],\n",
       "       ...,\n",
       "       [1.67705098e+00, 1.64262028e+00, 1.64262028e+00, ...,\n",
       "        1.64930262e+00, 4.34126653e-17, 1.53029891e-01],\n",
       "       [1.67705098e+00, 6.50542684e-02, 6.01751983e-01, ...,\n",
       "        1.15811570e+00, 4.34126653e-17, 1.53014533e-01],\n",
       "       [1.67705098e+00, 9.59550459e-01, 1.67514741e+00, ...,\n",
       "        2.05638499e+00, 4.34126653e-17, 1.53029891e-01]])"
      ]
     },
     "execution_count": 453,
     "metadata": {},
     "output_type": "execute_result"
    }
   ],
   "source": [
    "from scipy.stats import zscore\n",
    "z=np.abs(zscore(df))\n",
    "z"
   ]
  },
  {
   "cell_type": "code",
   "execution_count": 454,
   "metadata": {},
   "outputs": [
    {
     "name": "stdout",
     "output_type": "stream",
     "text": [
      "(array([   0,    0,    0,    0,    0,    2,    2,    3,    5,    6,  213,\n",
      "        213,  213,  213,  213,  215,  215,  216,  218,  219,  219,  426,\n",
      "        426,  426,  426,  426,  428,  428,  429,  431,  432,  432,  639,\n",
      "        639,  639,  639,  639,  641,  641,  642,  644,  645,  645,  852,\n",
      "        852,  852,  852,  852,  854,  854,  855,  857,  858,  858, 1065,\n",
      "       1065, 1065, 1065, 1065, 1066, 1067, 1067, 1068, 1070, 1071, 1071,\n",
      "       1278, 1278, 1278, 1278, 1278, 1279, 1280, 1280, 1281, 1282, 1283,\n",
      "       1284, 1284, 1491, 1491, 1491, 1491, 1491, 1492, 1493, 1493, 1494,\n",
      "       1495, 1496, 1497, 1497, 1704, 1704, 1704, 1704, 1704, 1705, 1706,\n",
      "       1706, 1707, 1708, 1709, 1710, 1710, 1917, 1917, 1917, 1917, 1917,\n",
      "       1918, 1919, 1919, 1920, 1921, 1922, 1923, 1923, 2130, 2130, 2130,\n",
      "       2130, 2130, 2131, 2132, 2132, 2133, 2134, 2135, 2136, 2136, 2343,\n",
      "       2343, 2343, 2343, 2343, 2344, 2345, 2345, 2346, 2347, 2348, 2349,\n",
      "       2350, 2556, 2556, 2556, 2556, 2556, 2557, 2558, 2559, 2560, 2561,\n",
      "       2562, 2563, 2769, 2769, 2769, 2769, 2769, 2770, 2771, 2772, 2773,\n",
      "       2774, 2775, 2776, 2982, 2982, 2982, 2982, 2982, 2983, 2984, 2985,\n",
      "       2986, 2987, 2988, 2989, 3195, 3195, 3195, 3195, 3195, 3196, 3197,\n",
      "       3198, 3199, 3200, 3201, 3202, 3408, 3408, 3408, 3408, 3408, 3409,\n",
      "       3410, 3411, 3412, 3413, 3414, 3415, 3621, 3621, 3621, 3621, 3621,\n",
      "       3622, 3623, 3624, 3625, 3626, 3627, 3628, 3834, 3834, 3834, 3834,\n",
      "       3834, 3835, 3836, 3837, 3838, 3839, 3839, 3840, 3841, 4047, 4047,\n",
      "       4047, 4047, 4047, 4048, 4049, 4050, 4051, 4052, 4052, 4053, 4054,\n",
      "       4260, 4260, 4260, 4260, 4260, 4261, 4262, 4263, 4264, 4265, 4265,\n",
      "       4266, 4267, 4473, 4473, 4473, 4473, 4473, 4474, 4475, 4475, 4476,\n",
      "       4477, 4478, 4478, 4479, 4480, 4686, 4686, 4686, 4686, 4686, 4687,\n",
      "       4688, 4688, 4689, 4690, 4691, 4691, 4692, 4693, 4899, 4899, 4899,\n",
      "       4899, 4899, 4900, 4901, 4901, 4902, 4903, 4904, 4904, 4905, 4906,\n",
      "       5112, 5112, 5112, 5112, 5112, 5113, 5114, 5114, 5115, 5116, 5117,\n",
      "       5117, 5118, 5119, 5325, 5325, 5325, 5325, 5325, 5326, 5327, 5327,\n",
      "       5328, 5329, 5330, 5330, 5331, 5332, 5538, 5538, 5538, 5538, 5538,\n",
      "       5539, 5540, 5540, 5541, 5542, 5543, 5543, 5544, 5545, 5751, 5751,\n",
      "       5751, 5751, 5751, 5752, 5753, 5753, 5754, 5755, 5755, 5756, 5756,\n",
      "       5757, 5758, 5964, 5964, 5964, 5964, 5964, 5965, 5965, 5966, 5966,\n",
      "       5967, 5968, 5968, 5969, 5969, 5970, 5971, 6177, 6177, 6177, 6177,\n",
      "       6177, 6178, 6178, 6179, 6179, 6180, 6181, 6181, 6182, 6182, 6183,\n",
      "       6184, 6390, 6390, 6390, 6390, 6390, 6391, 6391, 6391, 6392, 6392,\n",
      "       6393, 6394, 6394, 6395, 6395, 6396, 6397, 6400], dtype=int64), array([3, 4, 5, 7, 8, 5, 7, 7, 5, 7, 3, 4, 5, 7, 8, 5, 7, 7, 5, 5, 7, 3,\n",
      "       4, 5, 7, 8, 5, 7, 7, 5, 5, 7, 3, 4, 5, 7, 8, 5, 7, 7, 5, 5, 7, 3,\n",
      "       4, 5, 7, 8, 5, 7, 7, 5, 5, 7, 3, 4, 5, 7, 8, 3, 5, 7, 7, 5, 5, 7,\n",
      "       3, 4, 5, 7, 8, 3, 5, 7, 7, 5, 5, 5, 7, 3, 4, 5, 7, 8, 3, 5, 7, 7,\n",
      "       5, 5, 5, 7, 3, 4, 5, 7, 8, 3, 5, 7, 7, 5, 5, 5, 7, 3, 4, 5, 7, 8,\n",
      "       3, 5, 7, 7, 5, 5, 5, 7, 3, 4, 5, 7, 8, 3, 5, 7, 7, 5, 5, 5, 7, 3,\n",
      "       4, 5, 7, 8, 3, 5, 7, 7, 5, 5, 5, 3, 3, 4, 5, 7, 8, 3, 5, 7, 5, 5,\n",
      "       5, 3, 3, 4, 5, 7, 8, 3, 5, 7, 5, 5, 5, 3, 3, 4, 5, 7, 8, 3, 5, 7,\n",
      "       5, 5, 5, 3, 3, 4, 5, 7, 8, 3, 5, 7, 5, 5, 5, 3, 3, 4, 5, 7, 8, 3,\n",
      "       5, 7, 5, 5, 5, 3, 3, 4, 5, 7, 8, 3, 5, 7, 5, 5, 5, 3, 3, 4, 5, 7,\n",
      "       8, 3, 5, 7, 5, 3, 5, 5, 3, 3, 4, 5, 7, 8, 3, 5, 7, 5, 3, 5, 5, 3,\n",
      "       3, 4, 5, 7, 8, 3, 5, 7, 5, 3, 5, 5, 3, 3, 4, 5, 7, 8, 3, 3, 5, 7,\n",
      "       5, 3, 5, 5, 3, 3, 4, 5, 7, 8, 3, 3, 5, 7, 5, 3, 5, 5, 3, 3, 4, 5,\n",
      "       7, 8, 3, 3, 5, 7, 5, 3, 5, 5, 3, 3, 4, 5, 7, 8, 3, 3, 5, 7, 5, 3,\n",
      "       5, 5, 3, 3, 4, 5, 7, 8, 3, 3, 5, 7, 5, 3, 5, 5, 3, 3, 4, 5, 7, 8,\n",
      "       3, 3, 5, 7, 5, 3, 5, 5, 3, 3, 4, 5, 7, 8, 3, 3, 5, 7, 3, 5, 3, 5,\n",
      "       5, 3, 3, 4, 5, 7, 8, 3, 8, 3, 5, 7, 3, 5, 3, 5, 5, 3, 3, 4, 5, 7,\n",
      "       8, 3, 8, 3, 5, 7, 3, 5, 3, 5, 5, 3, 3, 4, 5, 7, 8, 3, 4, 8, 3, 5,\n",
      "       7, 3, 5, 3, 5, 5, 3, 3], dtype=int64))\n"
     ]
    }
   ],
   "source": [
    "threshold=3\n",
    "print(np.where(z>3))"
   ]
  },
  {
   "cell_type": "code",
   "execution_count": 455,
   "metadata": {},
   "outputs": [],
   "source": [
    "df_new=df[(z<3).all(axis=1)]"
   ]
  },
  {
   "cell_type": "code",
   "execution_count": 456,
   "metadata": {},
   "outputs": [
    {
     "name": "stdout",
     "output_type": "stream",
     "text": [
      "(6603, 9) \t\t (6376, 9)\n"
     ]
    }
   ],
   "source": [
    "print(df.shape,'\\t\\t',df_new.shape)"
   ]
  },
  {
   "cell_type": "code",
   "execution_count": 457,
   "metadata": {},
   "outputs": [
    {
     "data": {
      "text/plain": [
       "(6376, 9)"
      ]
     },
     "execution_count": 457,
     "metadata": {},
     "output_type": "execute_result"
    }
   ],
   "source": [
    "df=df_new\n",
    "df.shape"
   ]
  },
  {
   "cell_type": "code",
   "execution_count": 458,
   "metadata": {},
   "outputs": [
    {
     "data": {
      "text/html": [
       "<div>\n",
       "<style scoped>\n",
       "    .dataframe tbody tr th:only-of-type {\n",
       "        vertical-align: middle;\n",
       "    }\n",
       "\n",
       "    .dataframe tbody tr th {\n",
       "        vertical-align: top;\n",
       "    }\n",
       "\n",
       "    .dataframe thead th {\n",
       "        text-align: right;\n",
       "    }\n",
       "</style>\n",
       "<table border=\"1\" class=\"dataframe\">\n",
       "  <thead>\n",
       "    <tr style=\"text-align: right;\">\n",
       "      <th></th>\n",
       "      <th>Date</th>\n",
       "      <th>Country</th>\n",
       "      <th>Population</th>\n",
       "      <th>Total Tests</th>\n",
       "      <th>Total Cases</th>\n",
       "      <th>Total Recovered</th>\n",
       "      <th>Serious or Critical</th>\n",
       "      <th>Active Cases</th>\n",
       "    </tr>\n",
       "  </thead>\n",
       "  <tbody>\n",
       "    <tr>\n",
       "      <th>1</th>\n",
       "      <td>0</td>\n",
       "      <td>158</td>\n",
       "      <td>204</td>\n",
       "      <td>1831892.0</td>\n",
       "      <td>36793.0</td>\n",
       "      <td>8.025189</td>\n",
       "      <td>8.0</td>\n",
       "      <td>33423.0</td>\n",
       "    </tr>\n",
       "    <tr>\n",
       "      <th>4</th>\n",
       "      <td>0</td>\n",
       "      <td>200</td>\n",
       "      <td>192</td>\n",
       "      <td>460437.0</td>\n",
       "      <td>114217.0</td>\n",
       "      <td>8.675124</td>\n",
       "      <td>1559.0</td>\n",
       "      <td>98409.0</td>\n",
       "    </tr>\n",
       "    <tr>\n",
       "      <th>7</th>\n",
       "      <td>0</td>\n",
       "      <td>75</td>\n",
       "      <td>194</td>\n",
       "      <td>1728357.0</td>\n",
       "      <td>143724.0</td>\n",
       "      <td>11.355101</td>\n",
       "      <td>2922.0</td>\n",
       "      <td>53786.0</td>\n",
       "    </tr>\n",
       "    <tr>\n",
       "      <th>8</th>\n",
       "      <td>0</td>\n",
       "      <td>197</td>\n",
       "      <td>196</td>\n",
       "      <td>598933.0</td>\n",
       "      <td>82329.0</td>\n",
       "      <td>9.254644</td>\n",
       "      <td>1894.0</td>\n",
       "      <td>69986.0</td>\n",
       "    </tr>\n",
       "    <tr>\n",
       "      <th>9</th>\n",
       "      <td>0</td>\n",
       "      <td>93</td>\n",
       "      <td>195</td>\n",
       "      <td>330137.0</td>\n",
       "      <td>80868.0</td>\n",
       "      <td>10.932875</td>\n",
       "      <td>3513.0</td>\n",
       "      <td>19850.0</td>\n",
       "    </tr>\n",
       "  </tbody>\n",
       "</table>\n",
       "</div>"
      ],
      "text/plain": [
       "   Date  Country  Population  Total Tests  Total Cases  Total Recovered  \\\n",
       "1     0      158         204    1831892.0      36793.0         8.025189   \n",
       "4     0      200         192     460437.0     114217.0         8.675124   \n",
       "7     0       75         194    1728357.0     143724.0        11.355101   \n",
       "8     0      197         196     598933.0      82329.0         9.254644   \n",
       "9     0       93         195     330137.0      80868.0        10.932875   \n",
       "\n",
       "   Serious or Critical  Active Cases  \n",
       "1                  8.0       33423.0  \n",
       "4               1559.0       98409.0  \n",
       "7               2922.0       53786.0  \n",
       "8               1894.0       69986.0  \n",
       "9               3513.0       19850.0  "
      ]
     },
     "execution_count": 458,
     "metadata": {},
     "output_type": "execute_result"
    }
   ],
   "source": [
    "x=df.drop(columns=['Total Deaths'],axis=1)\n",
    "x.head()"
   ]
  },
  {
   "cell_type": "code",
   "execution_count": 459,
   "metadata": {},
   "outputs": [
    {
     "data": {
      "text/plain": [
       "1      313.0\n",
       "4    15464.0\n",
       "7     4538.0\n",
       "8     1890.0\n",
       "9     5031.0\n",
       "Name: Total Deaths, dtype: float64"
      ]
     },
     "execution_count": 459,
     "metadata": {},
     "output_type": "execute_result"
    }
   ],
   "source": [
    "y=df['Total Deaths']\n",
    "y.head()"
   ]
  },
  {
   "cell_type": "code",
   "execution_count": 460,
   "metadata": {},
   "outputs": [
    {
     "name": "stdout",
     "output_type": "stream",
     "text": [
      "(6376, 8) \t\t (6376,)\n"
     ]
    }
   ],
   "source": [
    "print(x.shape,'\\t\\t',y.shape)"
   ]
  },
  {
   "cell_type": "code",
   "execution_count": 461,
   "metadata": {},
   "outputs": [],
   "source": [
    "from sklearn.preprocessing import StandardScaler\n",
    "ss=StandardScaler()\n",
    "x=ss.fit_transform(x)"
   ]
  },
  {
   "cell_type": "code",
   "execution_count": 462,
   "metadata": {},
   "outputs": [],
   "source": [
    "from sklearn.model_selection import train_test_split\n",
    "x_train,x_test,y_train,y_test=train_test_split(x,y,test_size=20,random_state=42)"
   ]
  },
  {
   "cell_type": "code",
   "execution_count": 463,
   "metadata": {},
   "outputs": [
    {
     "name": "stdout",
     "output_type": "stream",
     "text": [
      "(6356, 8) \t\t (20, 8)\n"
     ]
    }
   ],
   "source": [
    "print(x_train.shape,'\\t\\t',x_test.shape)"
   ]
  },
  {
   "cell_type": "code",
   "execution_count": 464,
   "metadata": {},
   "outputs": [
    {
     "name": "stdout",
     "output_type": "stream",
     "text": [
      "(6356,) \t\t (20,)\n"
     ]
    }
   ],
   "source": [
    "print(y_train.shape,'\\t\\t',y_test.shape)"
   ]
  },
  {
   "cell_type": "code",
   "execution_count": 465,
   "metadata": {},
   "outputs": [],
   "source": [
    "from sklearn.linear_model import LinearRegression\n",
    "lr=LinearRegression()"
   ]
  },
  {
   "cell_type": "code",
   "execution_count": 466,
   "metadata": {},
   "outputs": [
    {
     "data": {
      "text/plain": [
       "LinearRegression()"
      ]
     },
     "execution_count": 466,
     "metadata": {},
     "output_type": "execute_result"
    }
   ],
   "source": [
    "lr.fit(x_train,y_train)"
   ]
  },
  {
   "cell_type": "code",
   "execution_count": 467,
   "metadata": {},
   "outputs": [
    {
     "data": {
      "text/plain": [
       "array([  -5.06978682,   28.25146177, -109.10909546, -207.01156679,\n",
       "        782.789726  ,  -98.95483409,  218.3007928 ,  160.57474393])"
      ]
     },
     "execution_count": 467,
     "metadata": {},
     "output_type": "execute_result"
    }
   ],
   "source": [
    "lr.coef_"
   ]
  },
  {
   "cell_type": "code",
   "execution_count": 468,
   "metadata": {},
   "outputs": [
    {
     "data": {
      "text/plain": [
       "576.408602793802"
      ]
     },
     "execution_count": 468,
     "metadata": {},
     "output_type": "execute_result"
    }
   ],
   "source": [
    "lr.intercept_"
   ]
  },
  {
   "cell_type": "code",
   "execution_count": 469,
   "metadata": {},
   "outputs": [
    {
     "data": {
      "text/plain": [
       "0.5478754358161189"
      ]
     },
     "execution_count": 469,
     "metadata": {},
     "output_type": "execute_result"
    }
   ],
   "source": [
    "lr.score(x_train,y_train)"
   ]
  },
  {
   "cell_type": "code",
   "execution_count": 470,
   "metadata": {},
   "outputs": [
    {
     "name": "stdout",
     "output_type": "stream",
     "text": [
      "Predicted active: [ 42.47669557 438.18854156 379.84874362 592.00733725 305.49562103\n",
      " 527.83233642 670.10463809 665.2644505  299.08255725 552.42900807\n",
      " 130.54379439 642.36777242 343.7196616  753.69607203 324.55756932\n",
      " 172.25040297 423.22356712 146.97540087 460.63530357  72.96949132]\n",
      "actual active 5218      36.000000\n",
      "820        3.000000\n",
      "5030    1416.252096\n",
      "3957       9.000000\n",
      "3469      12.000000\n",
      "243      360.000000\n",
      "1180       1.000000\n",
      "306        1.000000\n",
      "1189    1416.252096\n",
      "1408       4.000000\n",
      "553     1416.252096\n",
      "5726       2.000000\n",
      "5930    1416.252096\n",
      "5145    1002.000000\n",
      "101        5.000000\n",
      "5647       8.000000\n",
      "1679       2.000000\n",
      "5199      44.000000\n",
      "3151      13.000000\n",
      "484       22.000000\n",
      "Name: Total Deaths, dtype: float64\n"
     ]
    }
   ],
   "source": [
    "Active=lr.predict(x_test)\n",
    "print('Predicted active:',Active)\n",
    "print('actual active',y_test)"
   ]
  },
  {
   "cell_type": "code",
   "execution_count": 471,
   "metadata": {},
   "outputs": [
    {
     "name": "stdout",
     "output_type": "stream",
     "text": [
      "error:\n",
      "Mean absolute error: 513.7447845885476\n",
      "Mean squared error: 397537.9692250391\n"
     ]
    }
   ],
   "source": [
    "from sklearn.metrics import mean_absolute_error,mean_squared_error\n",
    "print('error:')\n",
    "print('Mean absolute error:',mean_absolute_error(y_test,Active))\n",
    "\n",
    "print('Mean squared error:',mean_squared_error(y_test,Active))"
   ]
  },
  {
   "cell_type": "code",
   "execution_count": 472,
   "metadata": {},
   "outputs": [
    {
     "name": "stdout",
     "output_type": "stream",
     "text": [
      "-0.20890524992192794\n"
     ]
    }
   ],
   "source": [
    "from sklearn.metrics import r2_score\n",
    "print(r2_score(y_test,Active))"
   ]
  },
  {
   "cell_type": "code",
   "execution_count": 473,
   "metadata": {},
   "outputs": [
    {
     "data": {
      "text/plain": [
       "0.5166245799898894"
      ]
     },
     "execution_count": 473,
     "metadata": {},
     "output_type": "execute_result"
    }
   ],
   "source": [
    "from sklearn.model_selection import cross_val_score\n",
    "from sklearn import linear_model\n",
    "cross_val_score(linear_model.LinearRegression(),x,y,cv=5,scoring='r2').mean()"
   ]
  },
  {
   "cell_type": "code",
   "execution_count": 474,
   "metadata": {},
   "outputs": [],
   "source": [
    "from sklearn.linear_model import LinearRegression,Lasso,Ridge,ElasticNet\n",
    "from sklearn.svm import SVR\n",
    "from sklearn.neighbors import KNeighborsRegressor\n",
    "from sklearn.tree import DecisionTreeRegressor\n",
    "from sklearn.ensemble import RandomForestClassifier\n",
    "from sklearn.ensemble import AdaBoostClassifier\n",
    "from sklearn.ensemble import GradientBoostingClassifier\n",
    "from sklearn.ensemble import BaggingClassifier\n",
    "from sklearn.ensemble import ExtraTreesClassifier"
   ]
  },
  {
   "cell_type": "code",
   "execution_count": 476,
   "metadata": {},
   "outputs": [
    {
     "name": "stdout",
     "output_type": "stream",
     "text": [
      "Score of LinearRegression() is: 0.5478754358161189\n",
      "Error:\n",
      "Mean absolute error: 513.7447845885476\n",
      "Mean squared error: 397537.9692250391\n",
      "r2_score: -0.20890524992192794\n",
      "***************************************************************\n",
      "\n",
      "\n",
      "Score of DecisionTreeRegressor() is: 1.0\n",
      "Error:\n",
      "Mean absolute error: 73.46260480715495\n",
      "Mean squared error: 100189.72478187145\n",
      "r2_score: 0.6953249911872602\n",
      "***************************************************************\n",
      "\n",
      "\n",
      "Score of KNeighborsRegressor() is: 0.984351230738241\n",
      "Error:\n",
      "Mean absolute error: 17.35252096143096\n",
      "Mean squared error: 4059.188991274857\n",
      "r2_score: 0.9876560850488231\n",
      "***************************************************************\n",
      "\n",
      "\n",
      "Score of SVR() is: -0.12007953293454587\n",
      "Error:\n",
      "Mean absolute error: 346.56795650506115\n",
      "Mean squared error: 415806.64198287256\n",
      "r2_score: -0.26445992926262907\n",
      "***************************************************************\n",
      "\n",
      "\n",
      "Score of Lasso() is: 0.5478669955871298\n",
      "Error:\n",
      "Mean absolute error: 512.6961228559268\n",
      "Mean squared error: 395801.9641289223\n",
      "r2_score: -0.20362609211298222\n",
      "***************************************************************\n",
      "\n",
      "\n",
      "Score of Ridge() is: 0.5478753855984222\n",
      "Error:\n",
      "Mean absolute error: 513.6833203984006\n",
      "Mean squared error: 397439.8707818341\n",
      "r2_score: -0.2086069344598076\n",
      "***************************************************************\n",
      "\n",
      "\n",
      "Score of ElasticNet() is: 0.4985245744893231\n",
      "Error:\n",
      "Mean absolute error: 469.24428902740493\n",
      "Mean squared error: 310029.5087830612\n",
      "r2_score: 0.05720628012165141\n",
      "***************************************************************\n",
      "\n",
      "\n"
     ]
    }
   ],
   "source": [
    "model=[LinearRegression(),DecisionTreeRegressor(),KNeighborsRegressor(),SVR(),Lasso(),Ridge(),ElasticNet(),]\n",
    "for m in model:\n",
    "    m.fit(x_train,y_train)\n",
    "    print('Score of',m,'is:',m.score(x_train,y_train))\n",
    "    predm=m.predict(x_test)\n",
    "    print('Error:')\n",
    "    print('Mean absolute error:',mean_absolute_error(y_test,predm))\n",
    "    print('Mean squared error:',mean_squared_error(y_test,predm))\n",
    "    print('r2_score:',r2_score(y_test,predm))\n",
    "    print('***************************************************************')\n",
    "    print('\\n')"
   ]
  },
  {
   "cell_type": "code",
   "execution_count": 477,
   "metadata": {},
   "outputs": [
    {
     "data": {
      "text/plain": [
       "['worldometer_snapshots_April18_to_May18.csv']"
      ]
     },
     "execution_count": 477,
     "metadata": {},
     "output_type": "execute_result"
    }
   ],
   "source": [
    "import joblib\n",
    "joblib.dump(KNeighborsRegressor,'worldometer_snapshots_April18_to_May18.csv')"
   ]
  },
  {
   "cell_type": "code",
   "execution_count": null,
   "metadata": {},
   "outputs": [],
   "source": []
  }
 ],
 "metadata": {
  "kernelspec": {
   "display_name": "Python 3",
   "language": "python",
   "name": "python3"
  },
  "language_info": {
   "codemirror_mode": {
    "name": "ipython",
    "version": 3
   },
   "file_extension": ".py",
   "mimetype": "text/x-python",
   "name": "python",
   "nbconvert_exporter": "python",
   "pygments_lexer": "ipython3",
   "version": "3.8.3"
  }
 },
 "nbformat": 4,
 "nbformat_minor": 4
}
