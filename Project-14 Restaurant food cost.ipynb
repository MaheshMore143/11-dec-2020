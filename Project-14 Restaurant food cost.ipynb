{
 "cells": [
  {
   "cell_type": "code",
   "execution_count": 1,
   "metadata": {},
   "outputs": [],
   "source": [
    "import pandas as pd\n",
    "import numpy as np\n",
    "import matplotlib.pyplot as plt\n",
    "import seaborn as sns\n",
    "%matplotlib inline\n",
    "\n",
    "import warnings\n",
    "warnings.filterwarnings('ignore')"
   ]
  },
  {
   "cell_type": "code",
   "execution_count": 2,
   "metadata": {},
   "outputs": [],
   "source": [
    "Train_data=pd.read_excel('Data_Train.xlsx')\n",
    "Test_data=pd.read_excel('Data_Test.xlsx')"
   ]
  },
  {
   "cell_type": "code",
   "execution_count": 3,
   "metadata": {},
   "outputs": [],
   "source": [
    "pd.set_option('display.max_columns',None)"
   ]
  },
  {
   "cell_type": "code",
   "execution_count": 4,
   "metadata": {},
   "outputs": [
    {
     "data": {
      "text/html": [
       "<div>\n",
       "<style scoped>\n",
       "    .dataframe tbody tr th:only-of-type {\n",
       "        vertical-align: middle;\n",
       "    }\n",
       "\n",
       "    .dataframe tbody tr th {\n",
       "        vertical-align: top;\n",
       "    }\n",
       "\n",
       "    .dataframe thead th {\n",
       "        text-align: right;\n",
       "    }\n",
       "</style>\n",
       "<table border=\"1\" class=\"dataframe\">\n",
       "  <thead>\n",
       "    <tr style=\"text-align: right;\">\n",
       "      <th></th>\n",
       "      <th>TITLE</th>\n",
       "      <th>RESTAURANT_ID</th>\n",
       "      <th>CUISINES</th>\n",
       "      <th>TIME</th>\n",
       "      <th>CITY</th>\n",
       "      <th>LOCALITY</th>\n",
       "      <th>RATING</th>\n",
       "      <th>VOTES</th>\n",
       "      <th>COST</th>\n",
       "    </tr>\n",
       "  </thead>\n",
       "  <tbody>\n",
       "    <tr>\n",
       "      <th>0</th>\n",
       "      <td>CASUAL DINING</td>\n",
       "      <td>9438</td>\n",
       "      <td>Malwani, Goan, North Indian</td>\n",
       "      <td>11am – 4pm, 7:30pm – 11:30pm (Mon-Sun)</td>\n",
       "      <td>Thane</td>\n",
       "      <td>Dombivali East</td>\n",
       "      <td>3.6</td>\n",
       "      <td>49 votes</td>\n",
       "      <td>1200</td>\n",
       "    </tr>\n",
       "    <tr>\n",
       "      <th>1</th>\n",
       "      <td>CASUAL DINING,BAR</td>\n",
       "      <td>13198</td>\n",
       "      <td>Asian, Modern Indian, Japanese</td>\n",
       "      <td>6pm – 11pm (Mon-Sun)</td>\n",
       "      <td>Chennai</td>\n",
       "      <td>Ramapuram</td>\n",
       "      <td>4.2</td>\n",
       "      <td>30 votes</td>\n",
       "      <td>1500</td>\n",
       "    </tr>\n",
       "    <tr>\n",
       "      <th>2</th>\n",
       "      <td>CASUAL DINING</td>\n",
       "      <td>10915</td>\n",
       "      <td>North Indian, Chinese, Biryani, Hyderabadi</td>\n",
       "      <td>11am – 3:30pm, 7pm – 11pm (Mon-Sun)</td>\n",
       "      <td>Chennai</td>\n",
       "      <td>Saligramam</td>\n",
       "      <td>3.8</td>\n",
       "      <td>221 votes</td>\n",
       "      <td>800</td>\n",
       "    </tr>\n",
       "    <tr>\n",
       "      <th>3</th>\n",
       "      <td>QUICK BITES</td>\n",
       "      <td>6346</td>\n",
       "      <td>Tibetan, Chinese</td>\n",
       "      <td>11:30am – 1am (Mon-Sun)</td>\n",
       "      <td>Mumbai</td>\n",
       "      <td>Bandra West</td>\n",
       "      <td>4.1</td>\n",
       "      <td>24 votes</td>\n",
       "      <td>800</td>\n",
       "    </tr>\n",
       "    <tr>\n",
       "      <th>4</th>\n",
       "      <td>DESSERT PARLOR</td>\n",
       "      <td>15387</td>\n",
       "      <td>Desserts</td>\n",
       "      <td>11am – 1am (Mon-Sun)</td>\n",
       "      <td>Mumbai</td>\n",
       "      <td>Lower Parel</td>\n",
       "      <td>3.8</td>\n",
       "      <td>165 votes</td>\n",
       "      <td>300</td>\n",
       "    </tr>\n",
       "  </tbody>\n",
       "</table>\n",
       "</div>"
      ],
      "text/plain": [
       "               TITLE  RESTAURANT_ID  \\\n",
       "0      CASUAL DINING           9438   \n",
       "1  CASUAL DINING,BAR          13198   \n",
       "2      CASUAL DINING          10915   \n",
       "3        QUICK BITES           6346   \n",
       "4     DESSERT PARLOR          15387   \n",
       "\n",
       "                                     CUISINES  \\\n",
       "0                 Malwani, Goan, North Indian   \n",
       "1              Asian, Modern Indian, Japanese   \n",
       "2  North Indian, Chinese, Biryani, Hyderabadi   \n",
       "3                            Tibetan, Chinese   \n",
       "4                                    Desserts   \n",
       "\n",
       "                                     TIME     CITY        LOCALITY RATING  \\\n",
       "0  11am – 4pm, 7:30pm – 11:30pm (Mon-Sun)    Thane  Dombivali East    3.6   \n",
       "1                    6pm – 11pm (Mon-Sun)  Chennai       Ramapuram    4.2   \n",
       "2     11am – 3:30pm, 7pm – 11pm (Mon-Sun)  Chennai      Saligramam    3.8   \n",
       "3                 11:30am – 1am (Mon-Sun)   Mumbai     Bandra West    4.1   \n",
       "4                    11am – 1am (Mon-Sun)   Mumbai     Lower Parel    3.8   \n",
       "\n",
       "       VOTES  COST  \n",
       "0   49 votes  1200  \n",
       "1   30 votes  1500  \n",
       "2  221 votes   800  \n",
       "3   24 votes   800  \n",
       "4  165 votes   300  "
      ]
     },
     "execution_count": 4,
     "metadata": {},
     "output_type": "execute_result"
    }
   ],
   "source": [
    "Train_data.head()"
   ]
  },
  {
   "cell_type": "code",
   "execution_count": 5,
   "metadata": {},
   "outputs": [
    {
     "data": {
      "text/html": [
       "<div>\n",
       "<style scoped>\n",
       "    .dataframe tbody tr th:only-of-type {\n",
       "        vertical-align: middle;\n",
       "    }\n",
       "\n",
       "    .dataframe tbody tr th {\n",
       "        vertical-align: top;\n",
       "    }\n",
       "\n",
       "    .dataframe thead th {\n",
       "        text-align: right;\n",
       "    }\n",
       "</style>\n",
       "<table border=\"1\" class=\"dataframe\">\n",
       "  <thead>\n",
       "    <tr style=\"text-align: right;\">\n",
       "      <th></th>\n",
       "      <th>TITLE</th>\n",
       "      <th>RESTAURANT_ID</th>\n",
       "      <th>CUISINES</th>\n",
       "      <th>TIME</th>\n",
       "      <th>CITY</th>\n",
       "      <th>LOCALITY</th>\n",
       "      <th>RATING</th>\n",
       "      <th>VOTES</th>\n",
       "    </tr>\n",
       "  </thead>\n",
       "  <tbody>\n",
       "    <tr>\n",
       "      <th>0</th>\n",
       "      <td>CASUAL DINING</td>\n",
       "      <td>4085</td>\n",
       "      <td>North Indian, Chinese, Mughlai, Kebab</td>\n",
       "      <td>12noon – 12midnight (Mon-Sun)</td>\n",
       "      <td>Noida</td>\n",
       "      <td>Sector 18</td>\n",
       "      <td>4.3</td>\n",
       "      <td>564 votes</td>\n",
       "    </tr>\n",
       "    <tr>\n",
       "      <th>1</th>\n",
       "      <td>QUICK BITES</td>\n",
       "      <td>12680</td>\n",
       "      <td>South Indian, Fast Food, Pizza, North Indian</td>\n",
       "      <td>7am – 12:30AM (Mon-Sun)</td>\n",
       "      <td>Mumbai</td>\n",
       "      <td>Grant Road</td>\n",
       "      <td>4.2</td>\n",
       "      <td>61 votes</td>\n",
       "    </tr>\n",
       "    <tr>\n",
       "      <th>2</th>\n",
       "      <td>CASUAL DINING</td>\n",
       "      <td>1411</td>\n",
       "      <td>North Indian, Seafood, Biryani, Chinese</td>\n",
       "      <td>11am – 11:30pm (Mon-Sun)</td>\n",
       "      <td>Mumbai</td>\n",
       "      <td>Marine Lines</td>\n",
       "      <td>3.8</td>\n",
       "      <td>350 votes</td>\n",
       "    </tr>\n",
       "    <tr>\n",
       "      <th>3</th>\n",
       "      <td>None</td>\n",
       "      <td>204</td>\n",
       "      <td>Biryani</td>\n",
       "      <td>9am – 10pm (Mon, Wed, Thu, Fri, Sat, Sun), 10:...</td>\n",
       "      <td>Faridabad</td>\n",
       "      <td>NIT</td>\n",
       "      <td>3.8</td>\n",
       "      <td>1445 votes</td>\n",
       "    </tr>\n",
       "    <tr>\n",
       "      <th>4</th>\n",
       "      <td>QUICK BITES</td>\n",
       "      <td>13453</td>\n",
       "      <td>South Indian, Kerala</td>\n",
       "      <td>11am – 10pm (Mon-Sun)</td>\n",
       "      <td>Kochi</td>\n",
       "      <td>Kaloor</td>\n",
       "      <td>3.6</td>\n",
       "      <td>23 votes</td>\n",
       "    </tr>\n",
       "  </tbody>\n",
       "</table>\n",
       "</div>"
      ],
      "text/plain": [
       "           TITLE  RESTAURANT_ID                                      CUISINES  \\\n",
       "0  CASUAL DINING           4085         North Indian, Chinese, Mughlai, Kebab   \n",
       "1    QUICK BITES          12680  South Indian, Fast Food, Pizza, North Indian   \n",
       "2  CASUAL DINING           1411       North Indian, Seafood, Biryani, Chinese   \n",
       "3           None            204                                       Biryani   \n",
       "4    QUICK BITES          13453                          South Indian, Kerala   \n",
       "\n",
       "                                                TIME       CITY      LOCALITY  \\\n",
       "0                      12noon – 12midnight (Mon-Sun)      Noida     Sector 18   \n",
       "1                            7am – 12:30AM (Mon-Sun)     Mumbai    Grant Road   \n",
       "2                           11am – 11:30pm (Mon-Sun)     Mumbai  Marine Lines   \n",
       "3  9am – 10pm (Mon, Wed, Thu, Fri, Sat, Sun), 10:...  Faridabad           NIT   \n",
       "4                              11am – 10pm (Mon-Sun)      Kochi        Kaloor   \n",
       "\n",
       "  RATING       VOTES  \n",
       "0    4.3   564 votes  \n",
       "1    4.2    61 votes  \n",
       "2    3.8   350 votes  \n",
       "3    3.8  1445 votes  \n",
       "4    3.6    23 votes  "
      ]
     },
     "execution_count": 5,
     "metadata": {},
     "output_type": "execute_result"
    }
   ],
   "source": [
    "Test_data.head()"
   ]
  },
  {
   "cell_type": "code",
   "execution_count": 6,
   "metadata": {},
   "outputs": [
    {
     "name": "stdout",
     "output_type": "stream",
     "text": [
      "Train_data: (12690, 9)\n",
      "\n",
      "\n",
      "Test_data: (4231, 8)\n"
     ]
    }
   ],
   "source": [
    "print('Train_data:',Train_data.shape)\n",
    "print('\\n')\n",
    "print('Test_data:',Test_data.shape)"
   ]
  },
  {
   "cell_type": "code",
   "execution_count": 7,
   "metadata": {},
   "outputs": [
    {
     "data": {
      "text/plain": [
       "(12690, 9)"
      ]
     },
     "execution_count": 7,
     "metadata": {},
     "output_type": "execute_result"
    }
   ],
   "source": [
    "Train_data.shape"
   ]
  },
  {
   "cell_type": "code",
   "execution_count": 8,
   "metadata": {},
   "outputs": [
    {
     "data": {
      "text/plain": [
       "Index(['TITLE', 'RESTAURANT_ID', 'CUISINES', 'TIME', 'CITY', 'LOCALITY',\n",
       "       'RATING', 'VOTES', 'COST'],\n",
       "      dtype='object')"
      ]
     },
     "execution_count": 8,
     "metadata": {},
     "output_type": "execute_result"
    }
   ],
   "source": [
    "Train_data.columns"
   ]
  },
  {
   "cell_type": "code",
   "execution_count": 9,
   "metadata": {},
   "outputs": [
    {
     "data": {
      "text/plain": [
       "TITLE               0\n",
       "RESTAURANT_ID       0\n",
       "CUISINES            0\n",
       "TIME                0\n",
       "CITY              112\n",
       "LOCALITY           98\n",
       "RATING              2\n",
       "VOTES            1204\n",
       "COST                0\n",
       "dtype: int64"
      ]
     },
     "execution_count": 9,
     "metadata": {},
     "output_type": "execute_result"
    }
   ],
   "source": [
    "Train_data.isnull().sum()"
   ]
  },
  {
   "cell_type": "code",
   "execution_count": 10,
   "metadata": {},
   "outputs": [
    {
     "data": {
      "text/plain": [
       "<matplotlib.axes._subplots.AxesSubplot at 0x1b41f658760>"
      ]
     },
     "execution_count": 10,
     "metadata": {},
     "output_type": "execute_result"
    },
    {
     "data": {
      "image/png": "[encoded data removed]",
      "text/plain": [
       "<Figure size 360x360 with 1 Axes>"
      ]
     },
     "metadata": {
      "needs_background": "light"
     },
     "output_type": "display_data"
    }
   ],
   "source": [
    "plt.figure(figsize=(5,5))\n",
    "sns.heatmap(Train_data.isnull(),yticklabels=False,cbar=False)"
   ]
  },
  {
   "cell_type": "code",
   "execution_count": 11,
   "metadata": {},
   "outputs": [
    {
     "data": {
      "text/html": [
       "<div>\n",
       "<style scoped>\n",
       "    .dataframe tbody tr th:only-of-type {\n",
       "        vertical-align: middle;\n",
       "    }\n",
       "\n",
       "    .dataframe tbody tr th {\n",
       "        vertical-align: top;\n",
       "    }\n",
       "\n",
       "    .dataframe thead th {\n",
       "        text-align: right;\n",
       "    }\n",
       "</style>\n",
       "<table border=\"1\" class=\"dataframe\">\n",
       "  <thead>\n",
       "    <tr style=\"text-align: right;\">\n",
       "      <th></th>\n",
       "      <th>TITLE</th>\n",
       "      <th>RESTAURANT_ID</th>\n",
       "      <th>CUISINES</th>\n",
       "      <th>TIME</th>\n",
       "      <th>CITY</th>\n",
       "      <th>LOCALITY</th>\n",
       "      <th>RATING</th>\n",
       "      <th>VOTES</th>\n",
       "      <th>COST</th>\n",
       "    </tr>\n",
       "  </thead>\n",
       "  <tbody>\n",
       "    <tr>\n",
       "      <th>0</th>\n",
       "      <td>False</td>\n",
       "      <td>False</td>\n",
       "      <td>False</td>\n",
       "      <td>False</td>\n",
       "      <td>False</td>\n",
       "      <td>False</td>\n",
       "      <td>False</td>\n",
       "      <td>False</td>\n",
       "      <td>False</td>\n",
       "    </tr>\n",
       "    <tr>\n",
       "      <th>1</th>\n",
       "      <td>False</td>\n",
       "      <td>False</td>\n",
       "      <td>False</td>\n",
       "      <td>False</td>\n",
       "      <td>False</td>\n",
       "      <td>False</td>\n",
       "      <td>False</td>\n",
       "      <td>False</td>\n",
       "      <td>False</td>\n",
       "    </tr>\n",
       "    <tr>\n",
       "      <th>2</th>\n",
       "      <td>False</td>\n",
       "      <td>False</td>\n",
       "      <td>False</td>\n",
       "      <td>False</td>\n",
       "      <td>False</td>\n",
       "      <td>False</td>\n",
       "      <td>False</td>\n",
       "      <td>False</td>\n",
       "      <td>False</td>\n",
       "    </tr>\n",
       "    <tr>\n",
       "      <th>3</th>\n",
       "      <td>False</td>\n",
       "      <td>False</td>\n",
       "      <td>False</td>\n",
       "      <td>False</td>\n",
       "      <td>False</td>\n",
       "      <td>False</td>\n",
       "      <td>False</td>\n",
       "      <td>False</td>\n",
       "      <td>False</td>\n",
       "    </tr>\n",
       "    <tr>\n",
       "      <th>4</th>\n",
       "      <td>False</td>\n",
       "      <td>False</td>\n",
       "      <td>False</td>\n",
       "      <td>False</td>\n",
       "      <td>False</td>\n",
       "      <td>False</td>\n",
       "      <td>False</td>\n",
       "      <td>False</td>\n",
       "      <td>False</td>\n",
       "    </tr>\n",
       "    <tr>\n",
       "      <th>...</th>\n",
       "      <td>...</td>\n",
       "      <td>...</td>\n",
       "      <td>...</td>\n",
       "      <td>...</td>\n",
       "      <td>...</td>\n",
       "      <td>...</td>\n",
       "      <td>...</td>\n",
       "      <td>...</td>\n",
       "      <td>...</td>\n",
       "    </tr>\n",
       "    <tr>\n",
       "      <th>12685</th>\n",
       "      <td>False</td>\n",
       "      <td>False</td>\n",
       "      <td>False</td>\n",
       "      <td>False</td>\n",
       "      <td>False</td>\n",
       "      <td>False</td>\n",
       "      <td>False</td>\n",
       "      <td>False</td>\n",
       "      <td>False</td>\n",
       "    </tr>\n",
       "    <tr>\n",
       "      <th>12686</th>\n",
       "      <td>False</td>\n",
       "      <td>False</td>\n",
       "      <td>False</td>\n",
       "      <td>False</td>\n",
       "      <td>False</td>\n",
       "      <td>False</td>\n",
       "      <td>False</td>\n",
       "      <td>False</td>\n",
       "      <td>False</td>\n",
       "    </tr>\n",
       "    <tr>\n",
       "      <th>12687</th>\n",
       "      <td>False</td>\n",
       "      <td>False</td>\n",
       "      <td>False</td>\n",
       "      <td>False</td>\n",
       "      <td>False</td>\n",
       "      <td>False</td>\n",
       "      <td>False</td>\n",
       "      <td>False</td>\n",
       "      <td>False</td>\n",
       "    </tr>\n",
       "    <tr>\n",
       "      <th>12688</th>\n",
       "      <td>False</td>\n",
       "      <td>False</td>\n",
       "      <td>False</td>\n",
       "      <td>False</td>\n",
       "      <td>False</td>\n",
       "      <td>False</td>\n",
       "      <td>False</td>\n",
       "      <td>False</td>\n",
       "      <td>False</td>\n",
       "    </tr>\n",
       "    <tr>\n",
       "      <th>12689</th>\n",
       "      <td>False</td>\n",
       "      <td>False</td>\n",
       "      <td>False</td>\n",
       "      <td>False</td>\n",
       "      <td>False</td>\n",
       "      <td>False</td>\n",
       "      <td>False</td>\n",
       "      <td>False</td>\n",
       "      <td>False</td>\n",
       "    </tr>\n",
       "  </tbody>\n",
       "</table>\n",
       "<p>12690 rows × 9 columns</p>\n",
       "</div>"
      ],
      "text/plain": [
       "       TITLE  RESTAURANT_ID  CUISINES   TIME   CITY  LOCALITY  RATING  VOTES  \\\n",
       "0      False          False     False  False  False     False   False  False   \n",
       "1      False          False     False  False  False     False   False  False   \n",
       "2      False          False     False  False  False     False   False  False   \n",
       "3      False          False     False  False  False     False   False  False   \n",
       "4      False          False     False  False  False     False   False  False   \n",
       "...      ...            ...       ...    ...    ...       ...     ...    ...   \n",
       "12685  False          False     False  False  False     False   False  False   \n",
       "12686  False          False     False  False  False     False   False  False   \n",
       "12687  False          False     False  False  False     False   False  False   \n",
       "12688  False          False     False  False  False     False   False  False   \n",
       "12689  False          False     False  False  False     False   False  False   \n",
       "\n",
       "        COST  \n",
       "0      False  \n",
       "1      False  \n",
       "2      False  \n",
       "3      False  \n",
       "4      False  \n",
       "...      ...  \n",
       "12685  False  \n",
       "12686  False  \n",
       "12687  False  \n",
       "12688  False  \n",
       "12689  False  \n",
       "\n",
       "[12690 rows x 9 columns]"
      ]
     },
     "execution_count": 11,
     "metadata": {},
     "output_type": "execute_result"
    }
   ],
   "source": [
    "Train_data.isnull()"
   ]
  },
  {
   "cell_type": "code",
   "execution_count": 12,
   "metadata": {},
   "outputs": [
    {
     "data": {
      "text/plain": [
       "True"
      ]
     },
     "execution_count": 12,
     "metadata": {},
     "output_type": "execute_result"
    }
   ],
   "source": [
    "Train_data.isnull().values.any()"
   ]
  },
  {
   "cell_type": "code",
   "execution_count": 13,
   "metadata": {},
   "outputs": [],
   "source": [
    "Train_data.dropna(inplace=True)"
   ]
  },
  {
   "cell_type": "code",
   "execution_count": 14,
   "metadata": {},
   "outputs": [
    {
     "data": {
      "text/plain": [
       "False"
      ]
     },
     "execution_count": 14,
     "metadata": {},
     "output_type": "execute_result"
    }
   ],
   "source": [
    "Train_data.isnull().values.any()"
   ]
  },
  {
   "cell_type": "code",
   "execution_count": 15,
   "metadata": {},
   "outputs": [
    {
     "data": {
      "text/plain": [
       "(11393, 9)"
      ]
     },
     "execution_count": 15,
     "metadata": {},
     "output_type": "execute_result"
    }
   ],
   "source": [
    "Train_data.shape"
   ]
  },
  {
   "cell_type": "code",
   "execution_count": 16,
   "metadata": {},
   "outputs": [
    {
     "name": "stdout",
     "output_type": "stream",
     "text": [
      "<class 'pandas.core.frame.DataFrame'>\n",
      "Int64Index: 11393 entries, 0 to 12689\n",
      "Data columns (total 9 columns):\n",
      " #   Column         Non-Null Count  Dtype \n",
      "---  ------         --------------  ----- \n",
      " 0   TITLE          11393 non-null  object\n",
      " 1   RESTAURANT_ID  11393 non-null  int64 \n",
      " 2   CUISINES       11393 non-null  object\n",
      " 3   TIME           11393 non-null  object\n",
      " 4   CITY           11393 non-null  object\n",
      " 5   LOCALITY       11393 non-null  object\n",
      " 6   RATING         11393 non-null  object\n",
      " 7   VOTES          11393 non-null  object\n",
      " 8   COST           11393 non-null  int64 \n",
      "dtypes: int64(2), object(7)\n",
      "memory usage: 890.1+ KB\n"
     ]
    }
   ],
   "source": [
    "Train_data.info()"
   ]
  },
  {
   "cell_type": "code",
   "execution_count": 17,
   "metadata": {},
   "outputs": [
    {
     "data": {
      "text/html": [
       "<div>\n",
       "<style scoped>\n",
       "    .dataframe tbody tr th:only-of-type {\n",
       "        vertical-align: middle;\n",
       "    }\n",
       "\n",
       "    .dataframe tbody tr th {\n",
       "        vertical-align: top;\n",
       "    }\n",
       "\n",
       "    .dataframe thead th {\n",
       "        text-align: right;\n",
       "    }\n",
       "</style>\n",
       "<table border=\"1\" class=\"dataframe\">\n",
       "  <thead>\n",
       "    <tr style=\"text-align: right;\">\n",
       "      <th></th>\n",
       "      <th>RESTAURANT_ID</th>\n",
       "      <th>COST</th>\n",
       "    </tr>\n",
       "  </thead>\n",
       "  <tbody>\n",
       "    <tr>\n",
       "      <th>count</th>\n",
       "      <td>11393.000000</td>\n",
       "      <td>11393.000000</td>\n",
       "    </tr>\n",
       "    <tr>\n",
       "      <th>mean</th>\n",
       "      <td>7791.278329</td>\n",
       "      <td>682.670148</td>\n",
       "    </tr>\n",
       "    <tr>\n",
       "      <th>std</th>\n",
       "      <td>4508.401395</td>\n",
       "      <td>646.942238</td>\n",
       "    </tr>\n",
       "    <tr>\n",
       "      <th>min</th>\n",
       "      <td>0.000000</td>\n",
       "      <td>50.000000</td>\n",
       "    </tr>\n",
       "    <tr>\n",
       "      <th>25%</th>\n",
       "      <td>3883.000000</td>\n",
       "      <td>300.000000</td>\n",
       "    </tr>\n",
       "    <tr>\n",
       "      <th>50%</th>\n",
       "      <td>7807.000000</td>\n",
       "      <td>500.000000</td>\n",
       "    </tr>\n",
       "    <tr>\n",
       "      <th>75%</th>\n",
       "      <td>11730.000000</td>\n",
       "      <td>800.000000</td>\n",
       "    </tr>\n",
       "    <tr>\n",
       "      <th>max</th>\n",
       "      <td>15573.000000</td>\n",
       "      <td>14000.000000</td>\n",
       "    </tr>\n",
       "  </tbody>\n",
       "</table>\n",
       "</div>"
      ],
      "text/plain": [
       "       RESTAURANT_ID          COST\n",
       "count   11393.000000  11393.000000\n",
       "mean     7791.278329    682.670148\n",
       "std      4508.401395    646.942238\n",
       "min         0.000000     50.000000\n",
       "25%      3883.000000    300.000000\n",
       "50%      7807.000000    500.000000\n",
       "75%     11730.000000    800.000000\n",
       "max     15573.000000  14000.000000"
      ]
     },
     "execution_count": 17,
     "metadata": {},
     "output_type": "execute_result"
    }
   ],
   "source": [
    "Train_data.describe()"
   ]
  },
  {
   "cell_type": "code",
   "execution_count": 18,
   "metadata": {},
   "outputs": [
    {
     "data": {
      "image/png": "[encoded data removed]",
      "text/plain": [
       "<Figure size 432x288 with 1 Axes>"
      ]
     },
     "metadata": {
      "needs_background": "light"
     },
     "output_type": "display_data"
    }
   ],
   "source": [
    "price=Train_data['COST'].hist(bins=60)\n",
    "mean_val=np.mean(Train_data['COST'])\n",
    "plt.axvline(mean_val,linewidth=4,color='red',label='mean cost')\n",
    "plt.xlabel('COST')\n",
    "plt.ylabel('count')\n",
    "plt.legend()\n",
    "plt.show()"
   ]
  },
  {
   "cell_type": "code",
   "execution_count": 19,
   "metadata": {},
   "outputs": [
    {
     "name": "stdout",
     "output_type": "stream",
     "text": [
      "TITLE:['CASUAL DINING' 'CASUAL DINING,BAR' 'QUICK BITES' 'DESSERT PARLOR' 'CAFÉ'\n",
      " 'MICROBREWERY' 'QUICK BITES,BEVERAGE SHOP' 'CASUAL DINING,IRANI CAFE'\n",
      " 'BAKERY,QUICK BITES' 'None' 'BAR,CASUAL DINING' 'BAR' 'PUB'\n",
      " 'BEVERAGE SHOP' 'FINE DINING' 'CAFÉ,QUICK BITES'\n",
      " 'BEVERAGE SHOP,DESSERT PARLOR' 'SWEET SHOP,QUICK BITES'\n",
      " 'DESSERT PARLOR,SWEET SHOP' 'BAKERY' 'BAKERY,DESSERT PARLOR' 'BAR,LOUNGE'\n",
      " 'FOOD COURT' 'LOUNGE' 'DESSERT PARLOR,BEVERAGE SHOP'\n",
      " 'LOUNGE,CASUAL DINING' 'QUICK BITES,FOOD COURT' 'SWEET SHOP'\n",
      " 'PUB,CASUAL DINING' 'MESS' 'MICROBREWERY,CASUAL DINING'\n",
      " 'CASUAL DINING,SWEET SHOP' 'KIOSK' 'QUICK BITES,KIOSK' 'CLUB'\n",
      " 'FINE DINING,BAR' 'DESSERT PARLOR,QUICK BITES' 'FOOD COURT,QUICK BITES'\n",
      " 'LOUNGE,CAFÉ' 'BAKERY,CONFECTIONERY' 'DHABA' 'CAFÉ,DESSERT PARLOR'\n",
      " 'CASUAL DINING,CAFÉ' 'QUICK BITES,DESSERT PARLOR' 'PUB,MICROBREWERY'\n",
      " 'LOUNGE,BAR' 'DESSERT PARLOR,CAFÉ' 'CAFÉ,BAR' 'SWEET SHOP,CONFECTIONERY'\n",
      " 'CASUAL DINING,PUB' 'MICROBREWERY,BAR' 'QUICK BITES,SWEET SHOP'\n",
      " 'BEVERAGE SHOP,QUICK BITES' 'CASUAL DINING,LOUNGE' 'QUICK BITES,CAFÉ'\n",
      " 'BAR,CAFÉ' 'CAFÉ,CASUAL DINING' 'QUICK BITES,CASUAL DINING'\n",
      " 'CASUAL DINING,MICROBREWERY' 'CASUAL DINING,BAKERY' 'CAFÉ,BAKERY'\n",
      " 'MEAT SHOP' 'QUICK BITES,BAKERY' 'DESSERT PARLOR,BAKERY'\n",
      " 'BAR,FINE DINING' 'SWEET SHOP,CASUAL DINING' 'MEAT SHOP,QUICK BITES'\n",
      " 'FOOD TRUCK' 'PUB,LOUNGE' 'COCKTAIL BAR' 'FINE DINING,LOUNGE'\n",
      " 'CONFECTIONERY' 'QUICK BITES,BAR' 'BAKERY,FOOD COURT' 'BAKERY,CAFÉ'\n",
      " 'PUB,BAR' 'DESSERT PARLOR,FOOD COURT' 'QUICK BITES,FOOD TRUCK'\n",
      " 'BAKERY,BEVERAGE SHOP' 'CLUB,BAR' 'BAKERY,SWEET SHOP'\n",
      " 'CASUAL DINING,FOOD COURT' 'PAAN SHOP' 'BEVERAGE SHOP,CAFÉ'\n",
      " 'FOOD COURT,DESSERT PARLOR' 'CLUB,MICROBREWERY' 'CAFÉ,BEVERAGE SHOP'\n",
      " 'SWEET SHOP,BAKERY' 'DESSERT PARLOR,PAAN SHOP' 'MICROBREWERY,LOUNGE'\n",
      " 'LOUNGE,CLUB' 'SWEET SHOP,DESSERT PARLOR' 'BAR,PUB'\n",
      " 'CONFECTIONERY,QUICK BITES' 'DESSERT PARLOR,KIOSK' 'LOUNGE,PUB'\n",
      " 'SWEET SHOP,BEVERAGE SHOP' 'FINE DINING,CAFÉ'\n",
      " 'BEVERAGE SHOP,CASUAL DINING' 'KIOSK,QUICK BITES'\n",
      " 'CASUAL DINING,DESSERT PARLOR' 'LOUNGE,FINE DINING' 'PUB,CAFÉ'\n",
      " 'CAFÉ,LOUNGE' 'BAR,CLUB' 'COCKTAIL BAR,CASUAL DINING' 'MICROBREWERY,PUB'\n",
      " 'CASUAL DINING,CLUB' 'KIOSK,FOOD COURT' 'LOUNGE,MICROBREWERY'\n",
      " 'BAR,MICROBREWERY']\n",
      "QUICK BITES                 3674\n",
      "CASUAL DINING               3399\n",
      "None                         800\n",
      "CAFÉ                         543\n",
      "DESSERT PARLOR               340\n",
      "                            ... \n",
      "SWEET SHOP,BEVERAGE SHOP       1\n",
      "BAR,CLUB                       1\n",
      "MEAT SHOP                      1\n",
      "PUB,CAFÉ                       1\n",
      "DESSERT PARLOR,PAAN SHOP       1\n",
      "Name: TITLE, Length: 111, dtype: int64\n",
      "**************************************************************************************************\n",
      "\n",
      "\n",
      "CUISINES:['Malwani, Goan, North Indian' 'Asian, Modern Indian, Japanese'\n",
      " 'North Indian, Chinese, Biryani, Hyderabadi' ...\n",
      " 'North Indian, Burger, Kebab' 'Goan, Continental'\n",
      " 'Finger Food, Continental, Asian, Chinese']\n",
      "North Indian, Chinese                               457\n",
      "South Indian                                        456\n",
      "North Indian                                        449\n",
      "Fast Food                                           238\n",
      "Chinese                                             155\n",
      "                                                   ... \n",
      "Chinese, South Indian, Mangalorean, North Indian      1\n",
      "North Indian, Continental, Asian, Chinese             1\n",
      "Chinese, Biryani, South Indian                        1\n",
      "Biryani, Chinese, South Indian, North Indian          1\n",
      "Juices, Ice Cream, Street Food, Beverages             1\n",
      "Name: CUISINES, Length: 3913, dtype: int64\n",
      "**************************************************************************************************\n",
      "\n",
      "\n",
      "TIME:['11am – 4pm, 7:30pm – 11:30pm (Mon-Sun)' '6pm – 11pm (Mon-Sun)'\n",
      " '11am – 3:30pm, 7pm – 11pm (Mon-Sun)' ... '12:1pm – 4am (Mon-Sun)'\n",
      " '12:30pm – 9:45pm (Mon-Sun)'\n",
      " '12noon – 1am (Mon-Fri),11am – 5pm, 7pm – 1am...']\n",
      "11am – 11pm (Mon-Sun)                               1246\n",
      "12noon – 12midnight (Mon-Sun)                        434\n",
      "12noon – 11pm (Mon-Sun)                              382\n",
      "11am – 12midnight (Mon-Sun)                          278\n",
      "12noon – 1am (Mon-Sun)                               188\n",
      "                                                    ... \n",
      "8am – 4pm (Mon),8am – 4pm, 6pm – 11pm (Tue-Sun)        1\n",
      "10am – 9:30pm (Mon, Wed, Thu, Fri, Sat, Sun)...        1\n",
      "10am – 10:30pm (Mon-Fri),9am – 10:30pm (Sat-Sun)       1\n",
      "7pm – 10:30pm (Mon-Thu),7pm – 11pm (Fri-Sun)           1\n",
      "9:30am – 3am (Mon-Sun)                                 1\n",
      "Name: TIME, Length: 2543, dtype: int64\n",
      "**************************************************************************************************\n",
      "\n",
      "\n",
      "CITY:['Thane' 'Chennai' 'Mumbai' 'Bangalore' 'Gurgaon' 'Hyderabad' 'Kochi'\n",
      " 'Thane West' 'Andheri Lokhandwala' 'New Delhi' 'Andheri West'\n",
      " 'Malad East' '682036' 'Bangalor' 'Navi Mumbai' 'Bandra West' 'Delhi'\n",
      " 'Noida' 'Secunderabad' 'India' 'Madhuranagar' 'Chennai Teynampet'\n",
      " 'Faridabad' 'Chembur.' 'Maharashtra' 'opp gurudwara Shakurpur'\n",
      " 'Telagana Land Line:040-48507016' 'Ghaziabad' 'Karnataka' 'Kerala'\n",
      " 'Bengalore' 'Near Reliance Fresh' 'Kilpauk' 'Bengaluru' 'Kothaguda'\n",
      " 'Goregaon West' 'Banglore' 'Tamil Nadu' 'Kakkanad' 'Outer Ring Road'\n",
      " 'Mulund East' 'Secunderabad main road near signal NMREC COLLEGE'\n",
      " 'Telangana' 'Ponnuruni Kochi' 'Gachibowli' 'Semmancheri'\n",
      " '5th Main Teachers Colony Koramangala Block 1 Bangalore 560034'\n",
      " 'Mumbai Mahim' 'Powai (Next to Powai Plaza)' 'Dombivali East' 'Kandivali'\n",
      " 'Dewan Rama Road' 'Gurugram' 'Sector 51 Noida' 'Besant Nagar'\n",
      " 'Arumbakkam chennai-600106.' 'Adjacent To Commercial Street' 'Delhi NCR'\n",
      " 'Dwarka' 'Kalyan West' 'Avadi' 'Kondapur' 'Mehdipatnam' 'Gandipet'\n",
      " 'Velachery' 'Pallavaram' 'Vijaya Nagar' 'BTM Layout' 'Chennai 600034.'\n",
      " 'Metro Pillar No 21. Mettuguda main road near railway degree college.'\n",
      " 'Chennai - 600040' 'JP Nagar Bangalore' 'Madhapur' 'Sarjapur'\n",
      " 'Whitefield Bangalore' 'Kochi Chullickal' 'Kochi-683101'\n",
      " 'Bangalore - 560076' 'Rohini' 'Hyderabad Behind Vacs Pastries'\n",
      " 'Hyderabad neerus emporium.' 'Navi Mumbai.' 'Karol Bagh' 'Perungudi'\n",
      " 'Thykoodam' 'Greater Noida' 'Bangalore.' 'Khairatabad' 'chullickal'\n",
      " 'Grant Road West' 'Hitech City' 'West Maredpally' 'Mumbai - 400007'\n",
      " 'Chennai Padur' 'Chander Nagar New Delhi' 'Nedumbassery' 'MG Road'\n",
      " 'Naya Nagar Mira Road' 'Pitampura' 'Lower Parel' 'HBR Layout'\n",
      " 'Telangana 500003' 'Rajiv gandhi Nagar' 'New Delhi.' 'Medavakkam'\n",
      " 'Sathya Nagar' 'p.o Kochi' 'Behind Ramalayam Temple' 'Palarivattom'\n",
      " 'Brigade Road' 'Mumbai.' 'Mumbai Andheri East' 'Virar West' 'B-1 Stage'\n",
      " 'Chennai Kovalam' 'Hyderabad.' 'Aluva' 'Telangana 500034'\n",
      " 'IOB Bank Kamala Nagar' 'HSR Layout' 'DLF Galleria'\n",
      " 'Nallathambi Main Road' 'Chennai opp: Vasanth & co' 'Citypark'\n",
      " 'Karnataka 560103' 'Bhayandar' 'Thammenahalli Village' 'SG Palya'\n",
      " 'Attapur.' 'Near Shangrilla Bus Stop' 'Khar (west)' 'Road 3' 'Kukatpally'\n",
      " 'Telangana 500032' 'Dilsukhnagar' 'Mogappair. Chennai' 'Kaloor'\n",
      " 'Near Munrshwara Temple' 'Off Brigade Road' 'khar west' 'Potheri'\n",
      " 'Chennai Perungudi' 'Chennai Thuraipakkam' 'OMR Karapakkam'\n",
      " 'Hyderabad-500032' 'Ernakulam' 'Mumbai Dombivali East'\n",
      " 'Chennai Thousand Lights' 'Mahim' 'Lingampally' 'Powai'\n",
      " 'New Delhi-110024' 'Chennai- 600107' 'Vasai West.' 'Thane (W)'\n",
      " 'Near Santosh Banjara Hyderabad'\n",
      " 'Banaswadi (Next to Indian Bank) Bangalore' 'BTM Bangalore'\n",
      " 'Greater Kailash 2 New Delhi' 'Secunderabad ECIL'\n",
      " 'Bangalore Koramangala 7th Block' 'bangalore : 560085' 'navi mumbai'\n",
      " 'Gachibowli Hyderabad'\n",
      " 'CPR layout harlur main road opposite to ozone ever green apartment Bangalore -'\n",
      " 'ECR NEELANKARAI Chennai 600115' 'ward X11' 'kochi' 'Mira raod east'\n",
      " 'Chennai.' 'Pokhran Road 2' 'Uttar Pradesh' 'Karnataka 560102'\n",
      " 'Mumbai - 400013' 'Naharpar' 'Hosur Road' 'Near Bharat Petroleum.'\n",
      " 'Chennai (Bang Opposite Indian Bank)' 'Sriram nagar' 'Vyttila'\n",
      " 'Banjara Hills' 'MALAPALLIPURAM P .O THRISSUR' 'Andheri west Mumbai'\n",
      " 'Karnataka 560043' 'Panampilly Nagar' 'hyderabad' 'Borivali East.' 'ECIL'\n",
      " 'Jubilee Hills'\n",
      " 'Amrit kaur market opposite new delhi railway station paharganj'\n",
      " 'Chennai Opposite 5C Bus stand' 'Telengana' 'Kochi Ravipuram' 'Rajanpada'\n",
      " 'Mahabalipuram' 'Secunderabad. WE HAVE NO BRANCHES.' 'Telangana 500081'\n",
      " 'Gurgoan' 'Elamakkara' 'Sector 1' 'Bandra W' 'Kolathur'\n",
      " 'Chennai Mahabalipuram' '3rd Street' 'Mumbai Chakala' 'Borivali West'\n",
      " 'Rodeo Drive Sector 49' 'Delhi 110085' 'Sector 51' 'Champapet'\n",
      " 'Andavar Nagar' 'Bangalore - 560103' 'Edappally'\n",
      " 'opp mukteshwar ashram powai' 'Nungambakkam' 'BK Guda'\n",
      " 'Jogeshwari (w) Mumbai' 'Kukatapally' 'Near Sector 110 Noida' 'Navallur'\n",
      " 'Beside Excellency Gardens' 'Mumbai - 80' 'Begumpet'\n",
      " 'Maharaja Hotel Beside Gardania Bar' 'Ashok Vihar Phase 1' 'Kochi-18'\n",
      " 'Narayanguda' 'Thevera' 'Chennai-40' 'Palm Beach Road'\n",
      " 'East Coast Road (ECR)' 'Ramapuram' 'Chennai Chrompet' 'Nandanam' 'Saket'\n",
      " 'MG Road Ernakulam' 'Andheri Lokhandwala.' 'Indiranagar' 'Thiruvanmiyur'\n",
      " 'Ambattur' 'Banglaore' 'Chennai - 34 Landmark - Near Loyola College'\n",
      " 'Anna Nagar West' 'Old Railway Road' 'East Mumbai'\n",
      " 'Kanakapura Road Banglore' 'Kochi Kakkanad' 'Kalyan'\n",
      " 'Near Ramlila Ground' 'Serilingampally' 'Himayath Nagar' 'Nallala Street'\n",
      " 'Anna Salai' 'Old Delhi' 'Wagle Estate' '1st Stage' 'Kochi-16'\n",
      " 'First Street' 'Chenn ai' '6 & 7 - 4/64 Subhash Nagar' '1st Tavarekere'\n",
      " 'Perambur' 'Block F' 'Sector 7 Dwarka' 'Opposite Barathi Gas Company'\n",
      " 'Vadapalani' 'Kondapur.' 'Badlapur West.' 'Kalamassery' 'Palavakkam'\n",
      " 'TCS Synergy park' 'Kochi Palarivattom' 'NEW BEL ROAD 560054'\n",
      " 'Veliaveetil house Vivekananda Nagar Elamakkara' 'Sholinganallur'\n",
      " 'Maharashtra 400102' 'Lower Parel West' 'Tripunithura' 'Mogappair'\n",
      " 'Telangana 500070' 'JP Nagar' 'Navi-Mumbai' 'Ashok Nagar' 'Marathahalli'\n",
      " 'Haridwar Apartments' 'Kerala 682001 India' 'Karnataka 560037'\n",
      " 'Kerala 683585' 'Chennai. (Near Hotel Matshya)' 'Indirapuram'\n",
      " 'West Mumbai' 'Begumpet Hyderabad' 'Manikonda'\n",
      " 'Bangalore land mark above mahaveer hard ware' 'Kerala 682304' 'GST Road'\n",
      " 'Fort Kochi' 'Lahari Apartments' 'Ramanthapur' 'Mulund west'\n",
      " 'Gurgaon Haryana India' 'New Delhi..Near by SBI bank' 'Kochi Aluva 102'\n",
      " 'Hyderabad Manikonda'\n",
      " 'Mumbai This is a Delivery & Take-away Restaurant only.' '10th avenue'\n",
      " 'Uppal' 'New Delhi 110075' 'Nizampet' 'Ulsoo' 'Bangalore 560076'\n",
      " 'PVR plaza cinema building Connaught Place' 'Gurgaon Haryana' 'Chromepet'\n",
      " 'Kerala 682024' 'Janakpuri' 'Secunderabad.' 'chennai'\n",
      " 'B.B.M.P East (Karnataka) - 560049' 'Tambaram' 'Malleshwaram Bangalore'\n",
      " 'Vadapalani.' 'Dist. Center New Delhi' 'Bangalore Road' 'aluva circle'\n",
      " 'Kochi.' 'Thane Mumbai' 'Vasai west' 'Mig Housing Society' 'Haryana'\n",
      " 'Borivali West.' 'Golf Course Road' 'Khar Mumbai'\n",
      " 'Near Jyothinivas College' 'Anna Nagar East' 'Masab Tank']\n",
      "Chennai               2135\n",
      "Bangalore             1977\n",
      "Hyderabad             1806\n",
      "Mumbai                1578\n",
      "New Delhi             1210\n",
      "                      ... \n",
      "Mulund west              1\n",
      "Anna Nagar East          1\n",
      "JP Nagar Bangalore       1\n",
      "Khar Mumbai              1\n",
      "Kochi Aluva 102          1\n",
      "Name: CITY, Length: 336, dtype: int64\n",
      "**************************************************************************************************\n",
      "\n",
      "\n",
      "LOCALITY:['Dombivali East' 'Ramapuram' 'Saligramam' ... 'OMR Padur' 'Near Perambur'\n",
      " 'Near Malviya Nagar']\n",
      "Gachibowli                     166\n",
      "Indiranagar                    132\n",
      "Madhapur                       116\n",
      "Kukatpally                     115\n",
      "HSR                            113\n",
      "                              ... \n",
      "New Shopping Complex             1\n",
      "Zehra Nagar                      1\n",
      "hsr layout                       1\n",
      "South Extension 2                1\n",
      "Off Indiranagar Double Road      1\n",
      "Name: LOCALITY, Length: 1311, dtype: int64\n",
      "**************************************************************************************************\n",
      "\n",
      "\n",
      "RATING:['3.6' '4.2' '3.8' '4.1' '4.0' '4.3' '3.9' '3.3' '3.4' '4.5' '3.5' '4.4'\n",
      " '2.7' '3.7' '4.7' '3.1' '2.5' '4.6' '2.8' '3.0' '3.2' '2.6' '2.9' '4.9'\n",
      " '4.8' '2.4' '2.3' '2.0' '2.1' '2.2']\n",
      "3.9    1236\n",
      "3.8    1184\n",
      "4.0    1092\n",
      "3.7    1077\n",
      "3.6     940\n",
      "4.1     926\n",
      "3.5     762\n",
      "4.2     714\n",
      "3.4     570\n",
      "4.3     553\n",
      "3.3     363\n",
      "4.4     359\n",
      "3.2     265\n",
      "4.5     196\n",
      "2.9     186\n",
      "3.1     185\n",
      "3.0     169\n",
      "2.8     146\n",
      "4.6     134\n",
      "2.7      89\n",
      "4.7      66\n",
      "2.6      61\n",
      "2.5      35\n",
      "4.8      31\n",
      "4.9      22\n",
      "2.4      15\n",
      "2.3      10\n",
      "2.1       3\n",
      "2.0       2\n",
      "2.2       2\n",
      "Name: RATING, dtype: int64\n",
      "**************************************************************************************************\n",
      "\n",
      "\n",
      "VOTES:['49 votes' '30 votes' '221 votes' ... '2723 votes' '1426 votes'\n",
      " '1214 votes']\n",
      "44 votes      69\n",
      "29 votes      65\n",
      "28 votes      65\n",
      "38 votes      65\n",
      "35 votes      64\n",
      "              ..\n",
      "1381 votes     1\n",
      "844 votes      1\n",
      "2323 votes     1\n",
      "918 votes      1\n",
      "926 votes      1\n",
      "Name: VOTES, Length: 1846, dtype: int64\n",
      "**************************************************************************************************\n",
      "\n",
      "\n"
     ]
    }
   ],
   "source": [
    "for column in Train_data.columns:\n",
    "    if Train_data[column].dtypes==object:\n",
    "        print(str(column)+ ':' +str(Train_data[column].unique()))\n",
    "        print(Train_data[column].value_counts())\n",
    "        print('**************************************************************************************************')\n",
    "        print('\\n')"
   ]
  },
  {
   "cell_type": "code",
   "execution_count": 20,
   "metadata": {},
   "outputs": [
    {
     "data": {
      "text/html": [
       "<div>\n",
       "<style scoped>\n",
       "    .dataframe tbody tr th:only-of-type {\n",
       "        vertical-align: middle;\n",
       "    }\n",
       "\n",
       "    .dataframe tbody tr th {\n",
       "        vertical-align: top;\n",
       "    }\n",
       "\n",
       "    .dataframe thead th {\n",
       "        text-align: right;\n",
       "    }\n",
       "</style>\n",
       "<table border=\"1\" class=\"dataframe\">\n",
       "  <thead>\n",
       "    <tr style=\"text-align: right;\">\n",
       "      <th></th>\n",
       "      <th>RESTAURANT_ID</th>\n",
       "      <th>COST</th>\n",
       "    </tr>\n",
       "  </thead>\n",
       "  <tbody>\n",
       "    <tr>\n",
       "      <th>RESTAURANT_ID</th>\n",
       "      <td>1.0000</td>\n",
       "      <td>0.0411</td>\n",
       "    </tr>\n",
       "    <tr>\n",
       "      <th>COST</th>\n",
       "      <td>0.0411</td>\n",
       "      <td>1.0000</td>\n",
       "    </tr>\n",
       "  </tbody>\n",
       "</table>\n",
       "</div>"
      ],
      "text/plain": [
       "               RESTAURANT_ID    COST\n",
       "RESTAURANT_ID         1.0000  0.0411\n",
       "COST                  0.0411  1.0000"
      ]
     },
     "execution_count": 20,
     "metadata": {},
     "output_type": "execute_result"
    }
   ],
   "source": [
    "Train_data_cor=Train_data.corr()\n",
    "Train_data_cor"
   ]
  },
  {
   "cell_type": "code",
   "execution_count": 21,
   "metadata": {},
   "outputs": [
    {
     "data": {
      "image/png": "[encoded data removed]",
      "text/plain": [
       "<Figure size 360x360 with 2 Axes>"
      ]
     },
     "metadata": {
      "needs_background": "light"
     },
     "output_type": "display_data"
    }
   ],
   "source": [
    "plt.figure(figsize=(5,5))\n",
    "sns.heatmap(Train_data_cor,annot=True,fmt='.0%',cmap='BuPu')\n",
    "plt.show()"
   ]
  },
  {
   "cell_type": "code",
   "execution_count": 22,
   "metadata": {},
   "outputs": [
    {
     "data": {
      "text/plain": [
       "RESTAURANT_ID   -0.006335\n",
       "RATING          -0.517737\n",
       "COST             3.897526\n",
       "dtype: float64"
      ]
     },
     "execution_count": 22,
     "metadata": {},
     "output_type": "execute_result"
    }
   ],
   "source": [
    "Train_data.skew()"
   ]
  },
  {
   "cell_type": "code",
   "execution_count": 23,
   "metadata": {},
   "outputs": [],
   "source": [
    "from sklearn.preprocessing import LabelEncoder\n",
    "\n",
    "le=LabelEncoder()\n",
    "\n",
    "for column in Train_data.columns:\n",
    "    if Train_data[column].dtype==np.number:\n",
    "        continue\n",
    "    Train_data[column]=le.fit_transform(Train_data[column])"
   ]
  },
  {
   "cell_type": "code",
   "execution_count": 24,
   "metadata": {},
   "outputs": [
    {
     "data": {
      "text/html": [
       "<div>\n",
       "<style scoped>\n",
       "    .dataframe tbody tr th:only-of-type {\n",
       "        vertical-align: middle;\n",
       "    }\n",
       "\n",
       "    .dataframe tbody tr th {\n",
       "        vertical-align: top;\n",
       "    }\n",
       "\n",
       "    .dataframe thead th {\n",
       "        text-align: right;\n",
       "    }\n",
       "</style>\n",
       "<table border=\"1\" class=\"dataframe\">\n",
       "  <thead>\n",
       "    <tr style=\"text-align: right;\">\n",
       "      <th></th>\n",
       "      <th>TITLE</th>\n",
       "      <th>RESTAURANT_ID</th>\n",
       "      <th>CUISINES</th>\n",
       "      <th>TIME</th>\n",
       "      <th>CITY</th>\n",
       "      <th>LOCALITY</th>\n",
       "      <th>RATING</th>\n",
       "      <th>VOTES</th>\n",
       "      <th>COST</th>\n",
       "    </tr>\n",
       "  </thead>\n",
       "  <tbody>\n",
       "    <tr>\n",
       "      <th>0</th>\n",
       "      <td>29</td>\n",
       "      <td>6443</td>\n",
       "      <td>2463</td>\n",
       "      <td>700</td>\n",
       "      <td>300</td>\n",
       "      <td>267</td>\n",
       "      <td>16</td>\n",
       "      <td>1277</td>\n",
       "      <td>34</td>\n",
       "    </tr>\n",
       "    <tr>\n",
       "      <th>1</th>\n",
       "      <td>31</td>\n",
       "      <td>9060</td>\n",
       "      <td>275</td>\n",
       "      <td>1799</td>\n",
       "      <td>63</td>\n",
       "      <td>961</td>\n",
       "      <td>22</td>\n",
       "      <td>949</td>\n",
       "      <td>41</td>\n",
       "    </tr>\n",
       "    <tr>\n",
       "      <th>2</th>\n",
       "      <td>29</td>\n",
       "      <td>7484</td>\n",
       "      <td>2800</td>\n",
       "      <td>623</td>\n",
       "      <td>63</td>\n",
       "      <td>1015</td>\n",
       "      <td>18</td>\n",
       "      <td>711</td>\n",
       "      <td>26</td>\n",
       "    </tr>\n",
       "    <tr>\n",
       "      <th>3</th>\n",
       "      <td>93</td>\n",
       "      <td>4349</td>\n",
       "      <td>3893</td>\n",
       "      <td>257</td>\n",
       "      <td>206</td>\n",
       "      <td>128</td>\n",
       "      <td>21</td>\n",
       "      <td>786</td>\n",
       "      <td>26</td>\n",
       "    </tr>\n",
       "    <tr>\n",
       "      <th>4</th>\n",
       "      <td>48</td>\n",
       "      <td>10581</td>\n",
       "      <td>1663</td>\n",
       "      <td>581</td>\n",
       "      <td>206</td>\n",
       "      <td>573</td>\n",
       "      <td>18</td>\n",
       "      <td>469</td>\n",
       "      <td>12</td>\n",
       "    </tr>\n",
       "  </tbody>\n",
       "</table>\n",
       "</div>"
      ],
      "text/plain": [
       "   TITLE  RESTAURANT_ID  CUISINES  TIME  CITY  LOCALITY  RATING  VOTES  COST\n",
       "0     29           6443      2463   700   300       267      16   1277    34\n",
       "1     31           9060       275  1799    63       961      22    949    41\n",
       "2     29           7484      2800   623    63      1015      18    711    26\n",
       "3     93           4349      3893   257   206       128      21    786    26\n",
       "4     48          10581      1663   581   206       573      18    469    12"
      ]
     },
     "execution_count": 24,
     "metadata": {},
     "output_type": "execute_result"
    }
   ],
   "source": [
    "Train_data.head()"
   ]
  },
  {
   "cell_type": "code",
   "execution_count": 25,
   "metadata": {},
   "outputs": [
    {
     "data": {
      "text/plain": [
       "(11393, 9)"
      ]
     },
     "execution_count": 25,
     "metadata": {},
     "output_type": "execute_result"
    }
   ],
   "source": [
    "Train_data.shape"
   ]
  },
  {
   "cell_type": "code",
   "execution_count": 26,
   "metadata": {},
   "outputs": [
    {
     "data": {
      "text/html": [
       "<div>\n",
       "<style scoped>\n",
       "    .dataframe tbody tr th:only-of-type {\n",
       "        vertical-align: middle;\n",
       "    }\n",
       "\n",
       "    .dataframe tbody tr th {\n",
       "        vertical-align: top;\n",
       "    }\n",
       "\n",
       "    .dataframe thead th {\n",
       "        text-align: right;\n",
       "    }\n",
       "</style>\n",
       "<table border=\"1\" class=\"dataframe\">\n",
       "  <thead>\n",
       "    <tr style=\"text-align: right;\">\n",
       "      <th></th>\n",
       "      <th>TITLE</th>\n",
       "      <th>RESTAURANT_ID</th>\n",
       "      <th>CUISINES</th>\n",
       "      <th>TIME</th>\n",
       "      <th>CITY</th>\n",
       "      <th>LOCALITY</th>\n",
       "      <th>RATING</th>\n",
       "      <th>VOTES</th>\n",
       "    </tr>\n",
       "  </thead>\n",
       "  <tbody>\n",
       "    <tr>\n",
       "      <th>0</th>\n",
       "      <td>CASUAL DINING</td>\n",
       "      <td>4085</td>\n",
       "      <td>North Indian, Chinese, Mughlai, Kebab</td>\n",
       "      <td>12noon – 12midnight (Mon-Sun)</td>\n",
       "      <td>Noida</td>\n",
       "      <td>Sector 18</td>\n",
       "      <td>4.3</td>\n",
       "      <td>564 votes</td>\n",
       "    </tr>\n",
       "    <tr>\n",
       "      <th>1</th>\n",
       "      <td>QUICK BITES</td>\n",
       "      <td>12680</td>\n",
       "      <td>South Indian, Fast Food, Pizza, North Indian</td>\n",
       "      <td>7am – 12:30AM (Mon-Sun)</td>\n",
       "      <td>Mumbai</td>\n",
       "      <td>Grant Road</td>\n",
       "      <td>4.2</td>\n",
       "      <td>61 votes</td>\n",
       "    </tr>\n",
       "    <tr>\n",
       "      <th>2</th>\n",
       "      <td>CASUAL DINING</td>\n",
       "      <td>1411</td>\n",
       "      <td>North Indian, Seafood, Biryani, Chinese</td>\n",
       "      <td>11am – 11:30pm (Mon-Sun)</td>\n",
       "      <td>Mumbai</td>\n",
       "      <td>Marine Lines</td>\n",
       "      <td>3.8</td>\n",
       "      <td>350 votes</td>\n",
       "    </tr>\n",
       "    <tr>\n",
       "      <th>3</th>\n",
       "      <td>None</td>\n",
       "      <td>204</td>\n",
       "      <td>Biryani</td>\n",
       "      <td>9am – 10pm (Mon, Wed, Thu, Fri, Sat, Sun), 10:...</td>\n",
       "      <td>Faridabad</td>\n",
       "      <td>NIT</td>\n",
       "      <td>3.8</td>\n",
       "      <td>1445 votes</td>\n",
       "    </tr>\n",
       "    <tr>\n",
       "      <th>4</th>\n",
       "      <td>QUICK BITES</td>\n",
       "      <td>13453</td>\n",
       "      <td>South Indian, Kerala</td>\n",
       "      <td>11am – 10pm (Mon-Sun)</td>\n",
       "      <td>Kochi</td>\n",
       "      <td>Kaloor</td>\n",
       "      <td>3.6</td>\n",
       "      <td>23 votes</td>\n",
       "    </tr>\n",
       "  </tbody>\n",
       "</table>\n",
       "</div>"
      ],
      "text/plain": [
       "           TITLE  RESTAURANT_ID                                      CUISINES  \\\n",
       "0  CASUAL DINING           4085         North Indian, Chinese, Mughlai, Kebab   \n",
       "1    QUICK BITES          12680  South Indian, Fast Food, Pizza, North Indian   \n",
       "2  CASUAL DINING           1411       North Indian, Seafood, Biryani, Chinese   \n",
       "3           None            204                                       Biryani   \n",
       "4    QUICK BITES          13453                          South Indian, Kerala   \n",
       "\n",
       "                                                TIME       CITY      LOCALITY  \\\n",
       "0                      12noon – 12midnight (Mon-Sun)      Noida     Sector 18   \n",
       "1                            7am – 12:30AM (Mon-Sun)     Mumbai    Grant Road   \n",
       "2                           11am – 11:30pm (Mon-Sun)     Mumbai  Marine Lines   \n",
       "3  9am – 10pm (Mon, Wed, Thu, Fri, Sat, Sun), 10:...  Faridabad           NIT   \n",
       "4                              11am – 10pm (Mon-Sun)      Kochi        Kaloor   \n",
       "\n",
       "  RATING       VOTES  \n",
       "0    4.3   564 votes  \n",
       "1    4.2    61 votes  \n",
       "2    3.8   350 votes  \n",
       "3    3.8  1445 votes  \n",
       "4    3.6    23 votes  "
      ]
     },
     "execution_count": 26,
     "metadata": {},
     "output_type": "execute_result"
    }
   ],
   "source": [
    "Test_data.head()"
   ]
  },
  {
   "cell_type": "code",
   "execution_count": 27,
   "metadata": {},
   "outputs": [
    {
     "data": {
      "text/plain": [
       "(4231, 8)"
      ]
     },
     "execution_count": 27,
     "metadata": {},
     "output_type": "execute_result"
    }
   ],
   "source": [
    "Test_data.shape"
   ]
  },
  {
   "cell_type": "code",
   "execution_count": 28,
   "metadata": {},
   "outputs": [
    {
     "data": {
      "text/plain": [
       "Index(['TITLE', 'RESTAURANT_ID', 'CUISINES', 'TIME', 'CITY', 'LOCALITY',\n",
       "       'RATING', 'VOTES'],\n",
       "      dtype='object')"
      ]
     },
     "execution_count": 28,
     "metadata": {},
     "output_type": "execute_result"
    }
   ],
   "source": [
    "Test_data.columns"
   ]
  },
  {
   "cell_type": "code",
   "execution_count": 29,
   "metadata": {},
   "outputs": [
    {
     "data": {
      "text/plain": [
       "TITLE              0\n",
       "RESTAURANT_ID      0\n",
       "CUISINES           0\n",
       "TIME               0\n",
       "CITY              35\n",
       "LOCALITY          30\n",
       "RATING             2\n",
       "VOTES            402\n",
       "dtype: int64"
      ]
     },
     "execution_count": 29,
     "metadata": {},
     "output_type": "execute_result"
    }
   ],
   "source": [
    "Test_data.isnull().sum()"
   ]
  },
  {
   "cell_type": "code",
   "execution_count": 30,
   "metadata": {},
   "outputs": [
    {
     "data": {
      "text/plain": [
       "<matplotlib.axes._subplots.AxesSubplot at 0x1b41ef57fa0>"
      ]
     },
     "execution_count": 30,
     "metadata": {},
     "output_type": "execute_result"
    },
    {
     "data": {
      "image/png": "[encoded data removed]",
      "text/plain": [
       "<Figure size 360x360 with 1 Axes>"
      ]
     },
     "metadata": {
      "needs_background": "light"
     },
     "output_type": "display_data"
    }
   ],
   "source": [
    "plt.figure(figsize=(5,5))\n",
    "sns.heatmap(Test_data.isnull(),yticklabels=False,cbar=False)"
   ]
  },
  {
   "cell_type": "code",
   "execution_count": 31,
   "metadata": {},
   "outputs": [
    {
     "data": {
      "text/html": [
       "<div>\n",
       "<style scoped>\n",
       "    .dataframe tbody tr th:only-of-type {\n",
       "        vertical-align: middle;\n",
       "    }\n",
       "\n",
       "    .dataframe tbody tr th {\n",
       "        vertical-align: top;\n",
       "    }\n",
       "\n",
       "    .dataframe thead th {\n",
       "        text-align: right;\n",
       "    }\n",
       "</style>\n",
       "<table border=\"1\" class=\"dataframe\">\n",
       "  <thead>\n",
       "    <tr style=\"text-align: right;\">\n",
       "      <th></th>\n",
       "      <th>TITLE</th>\n",
       "      <th>RESTAURANT_ID</th>\n",
       "      <th>CUISINES</th>\n",
       "      <th>TIME</th>\n",
       "      <th>CITY</th>\n",
       "      <th>LOCALITY</th>\n",
       "      <th>RATING</th>\n",
       "      <th>VOTES</th>\n",
       "    </tr>\n",
       "  </thead>\n",
       "  <tbody>\n",
       "    <tr>\n",
       "      <th>0</th>\n",
       "      <td>False</td>\n",
       "      <td>False</td>\n",
       "      <td>False</td>\n",
       "      <td>False</td>\n",
       "      <td>False</td>\n",
       "      <td>False</td>\n",
       "      <td>False</td>\n",
       "      <td>False</td>\n",
       "    </tr>\n",
       "    <tr>\n",
       "      <th>1</th>\n",
       "      <td>False</td>\n",
       "      <td>False</td>\n",
       "      <td>False</td>\n",
       "      <td>False</td>\n",
       "      <td>False</td>\n",
       "      <td>False</td>\n",
       "      <td>False</td>\n",
       "      <td>False</td>\n",
       "    </tr>\n",
       "    <tr>\n",
       "      <th>2</th>\n",
       "      <td>False</td>\n",
       "      <td>False</td>\n",
       "      <td>False</td>\n",
       "      <td>False</td>\n",
       "      <td>False</td>\n",
       "      <td>False</td>\n",
       "      <td>False</td>\n",
       "      <td>False</td>\n",
       "    </tr>\n",
       "    <tr>\n",
       "      <th>3</th>\n",
       "      <td>False</td>\n",
       "      <td>False</td>\n",
       "      <td>False</td>\n",
       "      <td>False</td>\n",
       "      <td>False</td>\n",
       "      <td>False</td>\n",
       "      <td>False</td>\n",
       "      <td>False</td>\n",
       "    </tr>\n",
       "    <tr>\n",
       "      <th>4</th>\n",
       "      <td>False</td>\n",
       "      <td>False</td>\n",
       "      <td>False</td>\n",
       "      <td>False</td>\n",
       "      <td>False</td>\n",
       "      <td>False</td>\n",
       "      <td>False</td>\n",
       "      <td>False</td>\n",
       "    </tr>\n",
       "    <tr>\n",
       "      <th>...</th>\n",
       "      <td>...</td>\n",
       "      <td>...</td>\n",
       "      <td>...</td>\n",
       "      <td>...</td>\n",
       "      <td>...</td>\n",
       "      <td>...</td>\n",
       "      <td>...</td>\n",
       "      <td>...</td>\n",
       "    </tr>\n",
       "    <tr>\n",
       "      <th>4226</th>\n",
       "      <td>False</td>\n",
       "      <td>False</td>\n",
       "      <td>False</td>\n",
       "      <td>False</td>\n",
       "      <td>False</td>\n",
       "      <td>False</td>\n",
       "      <td>False</td>\n",
       "      <td>False</td>\n",
       "    </tr>\n",
       "    <tr>\n",
       "      <th>4227</th>\n",
       "      <td>False</td>\n",
       "      <td>False</td>\n",
       "      <td>False</td>\n",
       "      <td>False</td>\n",
       "      <td>False</td>\n",
       "      <td>False</td>\n",
       "      <td>False</td>\n",
       "      <td>False</td>\n",
       "    </tr>\n",
       "    <tr>\n",
       "      <th>4228</th>\n",
       "      <td>False</td>\n",
       "      <td>False</td>\n",
       "      <td>False</td>\n",
       "      <td>False</td>\n",
       "      <td>False</td>\n",
       "      <td>False</td>\n",
       "      <td>False</td>\n",
       "      <td>False</td>\n",
       "    </tr>\n",
       "    <tr>\n",
       "      <th>4229</th>\n",
       "      <td>False</td>\n",
       "      <td>False</td>\n",
       "      <td>False</td>\n",
       "      <td>False</td>\n",
       "      <td>False</td>\n",
       "      <td>False</td>\n",
       "      <td>False</td>\n",
       "      <td>True</td>\n",
       "    </tr>\n",
       "    <tr>\n",
       "      <th>4230</th>\n",
       "      <td>False</td>\n",
       "      <td>False</td>\n",
       "      <td>False</td>\n",
       "      <td>False</td>\n",
       "      <td>False</td>\n",
       "      <td>False</td>\n",
       "      <td>False</td>\n",
       "      <td>False</td>\n",
       "    </tr>\n",
       "  </tbody>\n",
       "</table>\n",
       "<p>4231 rows × 8 columns</p>\n",
       "</div>"
      ],
      "text/plain": [
       "      TITLE  RESTAURANT_ID  CUISINES   TIME   CITY  LOCALITY  RATING  VOTES\n",
       "0     False          False     False  False  False     False   False  False\n",
       "1     False          False     False  False  False     False   False  False\n",
       "2     False          False     False  False  False     False   False  False\n",
       "3     False          False     False  False  False     False   False  False\n",
       "4     False          False     False  False  False     False   False  False\n",
       "...     ...            ...       ...    ...    ...       ...     ...    ...\n",
       "4226  False          False     False  False  False     False   False  False\n",
       "4227  False          False     False  False  False     False   False  False\n",
       "4228  False          False     False  False  False     False   False  False\n",
       "4229  False          False     False  False  False     False   False   True\n",
       "4230  False          False     False  False  False     False   False  False\n",
       "\n",
       "[4231 rows x 8 columns]"
      ]
     },
     "execution_count": 31,
     "metadata": {},
     "output_type": "execute_result"
    }
   ],
   "source": [
    "Test_data.isnull()"
   ]
  },
  {
   "cell_type": "code",
   "execution_count": 32,
   "metadata": {},
   "outputs": [
    {
     "data": {
      "text/plain": [
       "True"
      ]
     },
     "execution_count": 32,
     "metadata": {},
     "output_type": "execute_result"
    }
   ],
   "source": [
    "Test_data.isnull().values.any()"
   ]
  },
  {
   "cell_type": "code",
   "execution_count": 33,
   "metadata": {},
   "outputs": [],
   "source": [
    "Test_data.dropna(inplace=True)"
   ]
  },
  {
   "cell_type": "code",
   "execution_count": 34,
   "metadata": {},
   "outputs": [
    {
     "data": {
      "text/plain": [
       "False"
      ]
     },
     "execution_count": 34,
     "metadata": {},
     "output_type": "execute_result"
    }
   ],
   "source": [
    "Test_data.isnull().values.any()"
   ]
  },
  {
   "cell_type": "code",
   "execution_count": 35,
   "metadata": {},
   "outputs": [
    {
     "data": {
      "text/plain": [
       "(3797, 8)"
      ]
     },
     "execution_count": 35,
     "metadata": {},
     "output_type": "execute_result"
    }
   ],
   "source": [
    "Test_data.shape"
   ]
  },
  {
   "cell_type": "code",
   "execution_count": 36,
   "metadata": {},
   "outputs": [
    {
     "name": "stdout",
     "output_type": "stream",
     "text": [
      "<class 'pandas.core.frame.DataFrame'>\n",
      "Int64Index: 3797 entries, 0 to 4230\n",
      "Data columns (total 8 columns):\n",
      " #   Column         Non-Null Count  Dtype \n",
      "---  ------         --------------  ----- \n",
      " 0   TITLE          3797 non-null   object\n",
      " 1   RESTAURANT_ID  3797 non-null   int64 \n",
      " 2   CUISINES       3797 non-null   object\n",
      " 3   TIME           3797 non-null   object\n",
      " 4   CITY           3797 non-null   object\n",
      " 5   LOCALITY       3797 non-null   object\n",
      " 6   RATING         3797 non-null   object\n",
      " 7   VOTES          3797 non-null   object\n",
      "dtypes: int64(1), object(7)\n",
      "memory usage: 267.0+ KB\n"
     ]
    }
   ],
   "source": [
    "Test_data.info()"
   ]
  },
  {
   "cell_type": "code",
   "execution_count": 37,
   "metadata": {},
   "outputs": [
    {
     "data": {
      "text/html": [
       "<div>\n",
       "<style scoped>\n",
       "    .dataframe tbody tr th:only-of-type {\n",
       "        vertical-align: middle;\n",
       "    }\n",
       "\n",
       "    .dataframe tbody tr th {\n",
       "        vertical-align: top;\n",
       "    }\n",
       "\n",
       "    .dataframe thead th {\n",
       "        text-align: right;\n",
       "    }\n",
       "</style>\n",
       "<table border=\"1\" class=\"dataframe\">\n",
       "  <thead>\n",
       "    <tr style=\"text-align: right;\">\n",
       "      <th></th>\n",
       "      <th>RESTAURANT_ID</th>\n",
       "    </tr>\n",
       "  </thead>\n",
       "  <tbody>\n",
       "    <tr>\n",
       "      <th>count</th>\n",
       "      <td>3797.000000</td>\n",
       "    </tr>\n",
       "    <tr>\n",
       "      <th>mean</th>\n",
       "      <td>7822.147221</td>\n",
       "    </tr>\n",
       "    <tr>\n",
       "      <th>std</th>\n",
       "      <td>4468.346917</td>\n",
       "    </tr>\n",
       "    <tr>\n",
       "      <th>min</th>\n",
       "      <td>5.000000</td>\n",
       "    </tr>\n",
       "    <tr>\n",
       "      <th>25%</th>\n",
       "      <td>3923.000000</td>\n",
       "    </tr>\n",
       "    <tr>\n",
       "      <th>50%</th>\n",
       "      <td>7851.000000</td>\n",
       "    </tr>\n",
       "    <tr>\n",
       "      <th>75%</th>\n",
       "      <td>11691.000000</td>\n",
       "    </tr>\n",
       "    <tr>\n",
       "      <th>max</th>\n",
       "      <td>15572.000000</td>\n",
       "    </tr>\n",
       "  </tbody>\n",
       "</table>\n",
       "</div>"
      ],
      "text/plain": [
       "       RESTAURANT_ID\n",
       "count    3797.000000\n",
       "mean     7822.147221\n",
       "std      4468.346917\n",
       "min         5.000000\n",
       "25%      3923.000000\n",
       "50%      7851.000000\n",
       "75%     11691.000000\n",
       "max     15572.000000"
      ]
     },
     "execution_count": 37,
     "metadata": {},
     "output_type": "execute_result"
    }
   ],
   "source": [
    "Test_data.describe()"
   ]
  },
  {
   "cell_type": "code",
   "execution_count": 38,
   "metadata": {},
   "outputs": [
    {
     "data": {
      "image/png": "[encoded data removed]",
      "text/plain": [
       "<Figure size 432x288 with 1 Axes>"
      ]
     },
     "metadata": {
      "needs_background": "light"
     },
     "output_type": "display_data"
    }
   ],
   "source": [
    "price=Train_data['RESTAURANT_ID'].hist(bins=60)\n",
    "mean_val=np.mean(Train_data['RESTAURANT_ID'])\n",
    "plt.axvline(mean_val,linewidth=4,color='red',label='mean restaurant id')\n",
    "plt.xlabel('RESTAURANT_ID')\n",
    "plt.ylabel('count')\n",
    "plt.legend()\n",
    "plt.show()"
   ]
  },
  {
   "cell_type": "code",
   "execution_count": 39,
   "metadata": {},
   "outputs": [
    {
     "name": "stdout",
     "output_type": "stream",
     "text": [
      "TITLE:['CASUAL DINING' 'QUICK BITES' 'None' 'FOOD TRUCK,DESSERT PARLOR'\n",
      " 'DESSERT PARLOR,QUICK BITES' 'CASUAL DINING,BAR' 'LOUNGE' 'BEVERAGE SHOP'\n",
      " 'CASUAL DINING,PUB' 'DESSERT PARLOR' 'PUB' 'CAFÉ' 'BAKERY' 'LOUNGE,BAR'\n",
      " 'BAKERY,QUICK BITES' 'SWEET SHOP' 'SWEET SHOP,QUICK BITES'\n",
      " 'BEVERAGE SHOP,QUICK BITES' 'CAFÉ,QUICK BITES' 'DHABA'\n",
      " 'QUICK BITES,DESSERT PARLOR' 'FINE DINING' 'IRANI CAFE,BAKERY'\n",
      " 'PUB,CASUAL DINING' 'BAR' 'FOOD COURT' 'QUICK BITES,SWEET SHOP'\n",
      " 'CAFÉ,BAR' 'BAR,PUB' 'BAKERY,DESSERT PARLOR' 'KIOSK' 'CAFÉ,BAKERY'\n",
      " 'CASUAL DINING,BAKERY' 'BAKERY,CAFÉ' 'CASUAL DINING,CAFÉ' 'MESS'\n",
      " 'BAR,CASUAL DINING' 'BEVERAGE SHOP,CAFÉ' 'BEVERAGE SHOP,DESSERT PARLOR'\n",
      " 'PUB,FINE DINING' 'CASUAL DINING,FOOD COURT' 'CAFÉ,CASUAL DINING'\n",
      " 'LOUNGE,CASUAL DINING' 'DESSERT PARLOR,CAFÉ' 'FINE DINING,BAR'\n",
      " 'CASUAL DINING,SWEET SHOP' 'LOUNGE,FINE DINING' 'MICROBREWERY,PUB'\n",
      " 'FOOD TRUCK' 'CASUAL DINING,MICROBREWERY' 'CLUB' 'CAFÉ,FOOD COURT'\n",
      " 'CAFÉ,DESSERT PARLOR' 'MICROBREWERY,CASUAL DINING'\n",
      " 'DESSERT PARLOR,BAKERY' 'QUICK BITES,BAKERY' 'FINE DINING,MICROBREWERY'\n",
      " 'CASUAL DINING,LOUNGE' 'CLUB,FINE DINING' 'PUB,MICROBREWERY'\n",
      " 'SWEET SHOP,DESSERT PARLOR' 'COCKTAIL BAR,CASUAL DINING'\n",
      " 'DESSERT PARLOR,BEVERAGE SHOP' 'FOOD COURT,QUICK BITES' 'LOUNGE,CLUB'\n",
      " 'MICROBREWERY' 'DESSERT PARLOR,FOOD COURT' 'PUB,BAR'\n",
      " 'BAKERY,BEVERAGE SHOP' 'QUICK BITES,MEAT SHOP' 'CAFÉ,LOUNGE'\n",
      " 'FINE DINING,LOUNGE' 'PAAN SHOP' 'CLUB,CASUAL DINING' 'FINE DINING,CAFÉ'\n",
      " 'PUB,LOUNGE' 'PUB,CAFÉ' 'BAR,LOUNGE' 'QUICK BITES,BEVERAGE SHOP'\n",
      " 'QUICK BITES,CASUAL DINING' 'CASUAL DINING,IRANI CAFE' 'CLUB,BAR'\n",
      " 'BHOJANALYA']\n",
      "QUICK BITES                  1225\n",
      "CASUAL DINING                1157\n",
      "None                          240\n",
      "CAFÉ                          205\n",
      "DESSERT PARLOR                109\n",
      "                             ... \n",
      "DESSERT PARLOR,FOOD COURT       1\n",
      "PUB,FINE DINING                 1\n",
      "BEVERAGE SHOP,CAFÉ              1\n",
      "FINE DINING,MICROBREWERY        1\n",
      "CASUAL DINING,FOOD COURT        1\n",
      "Name: TITLE, Length: 83, dtype: int64\n",
      "**************************************************************************************************\n",
      "\n",
      "\n",
      "CUISINES:['North Indian, Chinese, Mughlai, Kebab'\n",
      " 'South Indian, Fast Food, Pizza, North Indian'\n",
      " 'North Indian, Seafood, Biryani, Chinese' ...\n",
      " 'Biryani, Hyderabadi, Chinese'\n",
      " 'South Indian, North Indian, Fast Food, Chinese, Beverages'\n",
      " 'North Indian, Chinese, Kebab, Juices']\n",
      "North Indian, Chinese                                     199\n",
      "North Indian                                              172\n",
      "South Indian                                              146\n",
      "Fast Food                                                  63\n",
      "Chinese                                                    53\n",
      "                                                         ... \n",
      "Korean, Salad                                               1\n",
      "Biryani, North Indian, South Indian                         1\n",
      "Arabian, Lebanese, Mughlai, North Indian, BBQ, Chinese      1\n",
      "Lebanese, Mediterranean, Afghan                             1\n",
      "American, Burger, Pizza, Continental                        1\n",
      "Name: CUISINES, Length: 1621, dtype: int64\n",
      "**************************************************************************************************\n",
      "\n",
      "\n",
      "TIME:['12noon – 12midnight (Mon-Sun)' '7am – 12:30AM (Mon-Sun)'\n",
      " '11am – 11:30pm (Mon-Sun)' ...\n",
      " '7pm – 1:30am (Mon-Tue),12noon – 1:30am (Wed-Sun)'\n",
      " '12noon – 4pm, 7pm – 10:30pm (Mon-Sat),12noon –...'\n",
      " '6am – 12:30AM (Mon, Tue, Wed, Thu, Sat, Sun), 6am...']\n",
      "11am – 11pm (Mon-Sun)                              373\n",
      "12noon – 12midnight (Mon-Sun)                      127\n",
      "12noon – 11pm (Mon-Sun)                            126\n",
      "11am – 12midnight (Mon-Sun)                        103\n",
      "10am – 11pm (Mon-Sun)                               68\n",
      "                                                  ... \n",
      "7am – 10:30am, 12noon – 3pm, 7pm – 10:45pm...        1\n",
      "12noon – 3pm, 6pm – 12midnight (Mon-Sun)             1\n",
      "9am – 10:45pm (Mon-Sun)                              1\n",
      "12noon – 3pm, 7pm – 11pm (Mon-Sat),9am – 3pm...      1\n",
      "12noon – 11pm (Mon-Fri),9am – 11pm (Sat-Sun)         1\n",
      "Name: TIME, Length: 1120, dtype: int64\n",
      "**************************************************************************************************\n",
      "\n",
      "\n",
      "CITY:['Noida' 'Mumbai' 'Faridabad' 'Kochi' 'Hyderabad' 'Chennai' 'New Delhi'\n",
      " 'Bangalore' 'Vasai Mumbai' 'Gurgaon' 'Navi Mumbai' 'Palarivattom'\n",
      " 'Ernakulam' 'Thane West' 'Ghaziabad' 'Chennai.' 'Thane' 'Telangana'\n",
      " 'Bandra West' 'Potheri' 'Panathur Main Road' 'Secunderabad' 'JP Nagar'\n",
      " 'Near Andheri West Station'\n",
      " 'opposite to western side of ITPL Service gate' 'Kalkaji' 'Bengaluru'\n",
      " 'APR Chambers' 'Tamil Nadu 600102' 'Andheri West' 'India'\n",
      " 'Serilingampally' 'Maharashtra.' 'Gandhinagar Rd'\n",
      " 'Near Andheri East Station' 'HSR Layout' 'Greater Noida' 'Dwarka'\n",
      " 'Velachery' 'Anna Nagar West' 'Indiranagar' 'Whitefield' 'Kerala 682036'\n",
      " 'Madhapur' 'Hyderabad.' 'India Gate New Delhi' 'Bangalore - 560095'\n",
      " '1st Stage' 'Sholinganallur. Chennai' 'Chennai (Above Bombay Brasserie)'\n",
      " 'Powai' 'Marathahalli' 'Chennai 37' 'kochi' '682024' 'Tripunithura'\n",
      " 'Girgaum' 'Greater Kailash 1 (GK 1) New Delhi' 'Kurla (W)'\n",
      " 'Secunderabad.' 'Thane West Thane West' 'Banjara Hills'\n",
      " 'Kochi Panampilly Nagar' 'Maharashtra 400092' 'Near Sector 34'\n",
      " 'Bengalore' 'Mehdipatnam Hyderabad' 'Gurugram' 'Nallagandla' 'Vandalur'\n",
      " 'Mulund West' 'Chennai 40' 'Delhi' 'Maharashtra' 'Banglore' 'Secunderbad'\n",
      " 'MM Nagar' 'Mumbai 400070' 'Dilsukhnagar' 'Chittethukkara' 'BTM'\n",
      " 'Dombivli' 'Sahakara Nagar' 'Mohammad Ali Road Mumbai' 'Chennai 600040'\n",
      " 'Tavarekere Main Road' 'Community Centre' 'Kakkanad' 'Kerala 682022'\n",
      " 'Delh.' 'Sector-6 Noida 201301' 'Kaaraikudi Complex'\n",
      " 'Thiruvanmiyur (Opp Eurokids LB Road)' 'Virar Mumbai' 'Bangalore.'\n",
      " 'Tolichowki' 'Kochi International Airport VIP Road' 'Hyderaba'\n",
      " 'Navi Mumbai.' 'Alwarpet' 'Nungambakkam' 'Gachibowli'\n",
      " 'Mumbai Veera Desai Area' 'Kerala 682028' 'Suraram' 'Chennai Velachery'\n",
      " 'Forum Sujana Mall Opposite to Malaysian township' 'Old Hafeezpet'\n",
      " 'Yousufguda' 'Chennai-600008' 'Mumbai Ulhasnagar'\n",
      " 'Jogeshwari West Mumbai' 'Chepauk' 'Chowpatty' 'Delhi NCR'\n",
      " 'Church Street' 'Balavinayagar Nagar Chennai' 'RA Puram'\n",
      " 'Hyderabad.Star hypermarket opposite side Service road'\n",
      " 'Chennai Injambakkam' 'Mumbai Mumbra' 'Chennai Teynampet' 'Habsiguda'\n",
      " 'Kurla Mumbai' 'Telangana 500027' 'Kaloor' 'Chenna' 'Kerala 682021'\n",
      " 'Kochi Ravipuram' 'Kandivali West' 'chennai-119' 'Kerala'\n",
      " 'Noida Extention' 'Shihab Thangal Road' 'GST Road' 'New Delhi 110011'\n",
      " 'Miumbai' 'Borivali (W) Mumbai: 400 092.' 'Vanasthalipuram'\n",
      " 'Chennai - 600018' 'Karnataka' 'Opposite Ellora Building']\n",
      "Chennai                        671\n",
      "Hyderabad                      637\n",
      "Bangalore                      633\n",
      "Mumbai                         547\n",
      "New Delhi                      399\n",
      "                              ... \n",
      "Dombivli                         1\n",
      "Miumbai                          1\n",
      "Kerala                           1\n",
      "Telangana 500027                 1\n",
      "Balavinayagar Nagar Chennai      1\n",
      "Name: CITY, Length: 142, dtype: int64\n",
      "**************************************************************************************************\n",
      "\n",
      "\n",
      "LOCALITY:['Sector 18' 'Grant Road' 'Marine Lines' 'NIT' 'Kaloor' 'Banjara Hills'\n",
      " 'Navalur' 'IP Extension' 'Palarivattom' 'Electronic City' 'West Mambalam'\n",
      " 'Worli' 'Ulsoor' 'Abids' 'MG Road' 'Dahisar West' 'Vijay Nagar' 'Fort'\n",
      " 'East' 'DLF Phase 4' 'Jubilee Hills' 'Sector 15' 'Elamkulam' 'Aluva'\n",
      " 'Indiranagar' 'Marol' 'Whitefield' 'Fort Kochi' 'Film Nagar' 'Kharghar'\n",
      " 'Bandra Kurla Complex' 'Marathahalli' 'Dombivali East'\n",
      " 'N.W.A Punjabi Bagh' 'Kodambakkam' 'Anna Nagar West' 'Sarjapur Road'\n",
      " 'Tripunithura' 'Matunga East' 'Kathrikadavu' 'Mylapore' 'Kakkanad'\n",
      " 'Malakpet' 'Kandivali West' 'Sector 31' 'Kalyan East' 'Necklace Road'\n",
      " 'Sector 49' 'Miyapur' 'Ashok Nagar' 'BTM' 'Aerocity' 'Purasavakkam'\n",
      " 'Srinagar Colony' 'Madhapur' 'Kalyan' 'Subhash Nagar'\n",
      " '35/581&582 Janatha Junction' 'Krishna Nagar' 'Chanakyapuri'\n",
      " 'Vasant Vihar' 'Indirapuram' 'Ghatkopar East' 'Anna nagar'\n",
      " 'Bannerghatta Road' 'Parel' 'Colaba'\n",
      " 'Opposite New Panjabi Hotel Old Airport Road' 'Jama Masjid' 'Egmore'\n",
      " 'Old Railway Road' 'Kurla' 'Andheri West' 'Thane West' 'Secunderabad'\n",
      " 'Gachibowli' 'Kilpauk' 'Kolathur' 'Koramangala 5th Block' 'Washermenpet'\n",
      " 'Maduravoyal' 'Thousand Lights' 'Ambattur' 'Guduvancherry' 'Azad Nagar'\n",
      " 'Thiruvanmiyur' 'Palam Vihar' 'Shalimar Bagh' 'Chandrayanagutta'\n",
      " 'Chembur' 'Vasant Kunj' 'Velachery' 'Marine Drive' 'Breach Candy'\n",
      " 'Sector 22' 'Kalamassery' 'Linking Road' 'Koramangala 4th Block'\n",
      " 'Kandivali East' 'Mulund West' 'Rajouri Garden' 'Suraram' 'Chengalpattu'\n",
      " 'Goregaon East' 'Anna Nagar East' 'Pitampura' 'Anna Nagar' 'Porur'\n",
      " 'Mehdipatnam' 'Ernakulam' 'Basavanagudi' 'Koramangala 7th Block' 'Powai'\n",
      " 'Mohammad Ali Road' 'Vile Parle East' 'Jeevan Bhima Nagar' 'Anna Street'\n",
      " 'kadubeesanahalli' 'Elphinstone' 'Attapur' 'Karkhana' 'Injambakkam'\n",
      " 'Telangana S R Nagar' 'New Perungalathur' 'Nungambakkam' 'RA Puram'\n",
      " 'Bhayandar' 'Lodhi Colony' 'Old Airport Road' 'Royapettah' 'Kirti Nagar'\n",
      " 'Vashi' 'K.K. Nagar' 'Dadar East' 'Kompally' 'Phase 5' 'Vasai' 'Akkarai'\n",
      " 'Race Course Road' 'Opposite National Shopping Centre' 'Vyttila'\n",
      " 'Residency Road' 'Hyderabad' 'Munirka' 'Mayur Vihar Phase 2'\n",
      " 'Mayur Vihar Phase 1' 'Ghansoli' 'Kukatpally' 'Uttam Nagar' 'Sector 55'\n",
      " 'Tolichowki' 'Alwarpet' 'Kelambakkam' 'Mira Road' 'Karkardooma'\n",
      " 'Malleshwaram' 'Near Sector 110' 'Malad West' 'Chandivali' 'Padur'\n",
      " 'Kothaguda' 'Greater Kailash 1 (GK1)' 'Karapakkam' 'Kalyan Nagar' 'Mahim'\n",
      " 'Near Deshbandhu College' 'Telangana 500001' 'Jayanagar'\n",
      " 'Greater Kailash (GK) 1' 'Near Sohna Road' 'Hitech City' 'Trimulgherry'\n",
      " 'Bommanahalli' 'Guindy' 'Edappally' 'Surya Nagar' 'Vanasthalipuram'\n",
      " 'Kondapur' 'Koramangala' 'Plot 22 Sector 135' 'Pallimukku' 'Chanda Nagar'\n",
      " 'Ghatkopar West' 'Saidapet' 'T. Nagar' 'Indira Nagar' 'Triplicane'\n",
      " 'Satyaniketan' 'Greater Noida' 'Brookefield' 'House 3-5-909/B/1'\n",
      " 'Chennai' 'Parrys' 'Chowpatty' 'West Mogappair' 'Shamirpet' 'Sainikpuri'\n",
      " 'Vadapalani' 'Delhi University-GTB Nagar' 'Jeedimetla' 'Medavakkam'\n",
      " 'Malviya Nagar' 'Golf Course Road' 'Banaswadi' 'Navallur' 'Daryaganj'\n",
      " 'L B Nagar' 'Hennur' 'DLF Cyber City' 'Moti Nagar' 'Angamali'\n",
      " '7 Bungalows' 'Sadashiv Nagar' 'Vypin' 'Bellandur' 'Lower Parel'\n",
      " 'Willingdon Island' 'Lajpat Nagar 2' 'Koramangala 6th Block'\n",
      " 'Lingampally' 'Kamla Nagar' 'Sector 62' 'Kumaraswamy Layout'\n",
      " 'Dahisar East' 'Saket' 'Mattancherry' 'Sector 29' 'Amberpet'\n",
      " 'Telangana 500081' 'Habsiguda' 'Sector 72' 'CBD-Belapur' 'Kalbadevi'\n",
      " 'Gachibowli-Kondapur Road' 'Yeshwantpur' 'Sainik Farms' 'Thane'\n",
      " 'New Friends Colony' 'Bandra West' 'Yelahanka' 'Majiwada' 'Adambakkam'\n",
      " 'S P Road' 'Vasai West' 'JP Nagar' 'Himayath Nagar' 'Selaiyur'\n",
      " 'Kaggadasapura' 'Potheri' 'HSR Layout' 'Adyar' 'Thuraipakkam'\n",
      " 'Kadavanthra' 'Pallavaram' '38/72 B1' 'HSR' 'Ameerpet' 'Near Sector 45'\n",
      " 'Paradise Circle' 'Church Street' 'Sector 132' 'Byculla' 'Sector 50'\n",
      " 'Paschim Vihar' 'Mogappair' 'Tambaram' 'Juhu' 'Panampilly Nagar' 'Dwarka'\n",
      " 'Borivali West' 'Chittoor Road' 'Chromepet' 'Safdarjung' 'Gopalapuram'\n",
      " 'Domlur' 'Besant Nagar' 'ECIL' 'Sector 14' 'Kopar Khairane'\n",
      " 'Connaught Place' 'Santacruz West' 'St. Thomas Mount' 'Somajiguda'\n",
      " 'Model Town 1' 'Defence Colony' 'Old Nagardas Road' 'Perambur'\n",
      " 'Goregaon West' 'Prabhadevi' 'Panjagutta' 'Padmarao Nagar' 'Seawoods'\n",
      " 'GST Road' 'Frazer Town' 'Sector 1' 'Shamshabad' 'Gaur City 1'\n",
      " 'Telangana 500047' 'Sector 7' 'Mahabalipuram' 'Sholinganallur' 'S D Road'\n",
      " 'Banashankari' 'Choolaimedu' 'West Patel Nagar' 'East Patel Nagar'\n",
      " 'South Extension 2' 'Malkajgiri' 'Majestic' '16th cross' 'Airoli'\n",
      " 'Semmancheri' 'Sector 12' 'Mahipalpur'\n",
      " 'Near Cochin International Airport Nedumbassery' 'Rajarajeshwari Nagar'\n",
      " 'Royapuram' 'Jose Junction' 'Ravipuram' 'Madipakkam' 'Lakdikapul'\n",
      " 'S R Nagar' 'Kadavanthara' 'Koramangala 1st Block' 'Tarnaka'\n",
      " 'Rajajinagar' 'Borivali East' 'Sushant Lok' 'Janakpuri' 'A S Rao Nagar'\n",
      " 'Jangpura' 'Sector 4' 'SDA' 'Kanchipuram District' 'Nagarbhavi'\n",
      " 'Manikonda' '7th main HAL 2nd stage' 'Paharganj' 'Dadar West'\n",
      " 'ITPL Main Road' 'Raj Nagar' 'Koyambedu' 'Hauz Khas Village'\n",
      " 'Mumbai Central' 'Khairatabad' 'Andheri Lokhandwala' 'Begumpet'\n",
      " 'Sector 38' 'Palam' 'Perungudi' 'Panch Pakhadi' 'Dilsukhnagar' 'Nagole'\n",
      " 'Veera Desai Area' 'Manpada' 'Chetpet' 'Kochi' 'Neredmet' 'Rohini'\n",
      " 'Nallakunta' 'Naupada' 'Dwaraka Nagar Colony' 'Sector 63' 'Virar'\n",
      " 'Vennala' '4th phase' 'Andheri East' 'Kothapet' 'Majnu ka Tila'\n",
      " 'Nagawara' 'Kalkaji' 'Wallace garden 3rd street Nungambakkam' 'Shahdara'\n",
      " 'Musheerabad' 'Mahakali' 'Ramapuram' 'Kacheripady' 'Nampally'\n",
      " 'Netaji Subhash Place' 'Pandara Road' 'Chakala' 'Gandipet' 'Narayanguda'\n",
      " 'George Town' 'Uppal' 'DLF Phase 3' 'Vile Parle West'\n",
      " 'Utsav Chowk Kharghar' 'Marad' 'Khar' 'Sarojini Nagar' 'Muttukadu'\n",
      " 'Jalahalli' 'East Coast Road (ECR)' 'Sector 19' 'Girgaum' 'Hauz Khas'\n",
      " 'Tardeo' 'Crossing Republik' 'Marredpally' 'Hafeezpet' 'Neelangarai'\n",
      " 'East Krishna Nagar' 'Near Charminar' 'Falaknuma' 'Karol Bagh'\n",
      " 'Pali Hill' 'Nalasopara' 'Laxmi Nagar' 'Punjabi Bagh' 'Geeta Colony'\n",
      " 'Lajpat Nagar 1' 'Sector 83' 'Kammanahalli' 'PG Road' 'Egatoor'\n",
      " 'South City 2' 'Lavelle Road' 'Maruthi Nagar Main Road' 'CBD Belapur'\n",
      " 'Nerul' 'New Panvel' 'Charminar' 'Jogeshwari' 'Tilak Nagar'\n",
      " 'Hiranandani Gardens' 'Munnekolal' 'Badkal Lake' 'Mayur Vihar'\n",
      " 'Opposite 10th Avenue Gaur City 2' 'HBR Layout' 'Avadi' 'Juhu Road'\n",
      " 'Near PVR Plaza' 'Patparganj' 'Janpath' 'kakkanad' 'Sarita Vihar'\n",
      " 'Adikmet' 'Moosapet' 'Thippasandra' 'Old Madras Road' 'Churchgate'\n",
      " 'Khel Gaon Marg' 'Richmond Road' 'Seshadripuram' 'Mandi House' 'Vaishali'\n",
      " 'Vivek Vihar' 'Puthiya Road' 'Sector 10'\n",
      " 'Chandras Complex Near Flyover Bridge Annojiguda' 'Chowpatty Bridge'\n",
      " 'Greater Kailash 1 (GK 1)' 'Charni Road' 'GK 1' 'Saroor Nagar'\n",
      " 'Dadar Shivaji Park' 'R-5' 'Sakinaka' 'Oshiwara' 'Vikaspuri'\n",
      " 'Cunningham Road' 'Opp. Kalpana Talkies' 'DLF Phase 2' 'Nanganallur'\n",
      " 'Rajendra Place' 'Anand Vihar' 'Secunderabad Division' 'Sohna Road'\n",
      " 'Masab Tank' 'Nacharam' 'Santacruz East' 'Taramani' 'Versova'\n",
      " 'Green Valley' 'Anna Salai' 'Elamakkara' 'Govind Puram' 'Nizampet'\n",
      " 'Mulund East' 'Block A Kalkaji' 'Brigade Road' 'Near Sector 72'\n",
      " 'Kanakapura Road' 'Mumbai' 'Sector 32' 'Reclamation'\n",
      " 'Koramangala 3rd Block' 'New BEL Road' 'Rajaji Nagar' 'DLF Phase 1'\n",
      " 'Castle Mill' 'Kerala' 'Pillar 76' 'Near Andheri West Station'\n",
      " 'Golf Course Extension Road' 'Manjeera Diamond Entrance Road'\n",
      " 'BTM 2nd Stage' 'Valasaravakkam' 'Mayapuri Phase 2' 'M.G. Road'\n",
      " 'Gaddanaram' 'Lajpat Nagar 4' 'Preet Vihar' 'Near Panch Rasta' 'SR Nagar'\n",
      " 'Amar Colony' 'Ashok Vihar Phase 1' 'Kamothe' 'Shenoy Nagar'\n",
      " 'East of Kailash' 'Anna nagar East' 'RDC Raj Nagar'\n",
      " 'N Block Connaught Place' 'Nehru Place' 'Thopumpady' 'Turbe' 'Kovalam'\n",
      " 'Sector 6' 'Ignou Main Road Sainik Farms' 'Mira Road East' 'Kacheguda'\n",
      " 'Hill Road' 'Sector 110' 'Near Pallimukku' 'Mysore Road' 'Saligramam'\n",
      " 'Sion' 'Koramangala 8th Block' 'Vikhroli East' 'Bandra East' 'Koti'\n",
      " 'RT Nagar' 'Sector 37' 'Vandalur' 'Koramangala 2nd Block'\n",
      " 'Greater Kailash 2 (GK2)' 'Prashant Vihar' 'Thevera' 'Chittaranjan Park'\n",
      " 'Vazhakkala' 'Mahesh Nagar Radhika circle A S Rao Nagar'\n",
      " 'Kanakapura Main Road' 'Sunder Nagar' 'Telangana 500082'\n",
      " 'No 1 Sri Vari Nagar Fortune Select Grand Hotel - GST Road SP Koil'\n",
      " 'Vijaya Nagar' 'Mallapur' 'Basheer Bagh' 'Gaur City 2' 'Kurla west'\n",
      " 'lane besides to King’s Burger. Next to nellore mess' 'Janak Puri'\n",
      " 'Alandur' 'Medchal Road' 'Telangana' 'Sector 30' 'Pallikaranai'\n",
      " 'Mahalaxmi' 'Chandni Chowk' 'Aminijikarai' 'Seaport - Airport Road'\n",
      " 'Langer Houz' 'Yapral' 'Ekkaduthangal' 'Bannergatta Road' '2nd Stage'\n",
      " 'Sector 16' 'Bowenpally' 'Cuffe Parade' 'Bangalore' 'Pandav Nagar'\n",
      " 'Near Kodihalli Masjid' 'Panchsheel Park' 'Poonamalle' 'Dombivli East'\n",
      " 'Jasola' 'Off Kodigehalli Main Road' 'Patka Manzil Bhindi Bazar'\n",
      " 'Pragati Maidan' 'Dombivali West' 'Arumbakkam' 'Jail Road' 'Makana Tower'\n",
      " 'Teynampet' 'Model Town 2' 'Near Tripunithura' 'PVR Anupam Complex'\n",
      " 'Vikhroli' 'Indranagar' 'Bhandup' '5th Block Jayanagar' 'Rajinder Nagar'\n",
      " 'Greater Kailash (GK) 3' 'Near Pitampura' 'ITO' 'Kasarvadavli'\n",
      " 'Basaveshwara Nagar' 'Geetanjali Enclave' 'Sahakara Nagar'\n",
      " 'Off Brigade Road' 'Mayapuri Phase 1' 'Moosarambagh' 'Chunabhatti East'\n",
      " 'Thaikkavu Aluva 6' 'Kuzhikattumoola' 'Barakhamba Road'\n",
      " 'Vengalarao S R Nagar' 'T.Nagar' 'Rammurthy Nagar' 'Mukherjee Nagar'\n",
      " 'B-28' 'Lado Sarai' 'Dr. Radhakrishnan Salai' 'Nandanam' 'Andheri'\n",
      " 'New Ashok Nagar Main Matrket Mayur Vihar Phase 1' 'Gole Market' 'Alwal'\n",
      " 'Alaknanda' 'Naraina' 'Sector 11' 'Near Andheri East Station' 'Sector 41'\n",
      " '17 Malaviya Avenue' 'Tirupati Nagar' 'Nedumbassery'\n",
      " 'Opposite DLF City Court DLF Phase 2' 'Market Lane Borivali West'\n",
      " 'Sikanderpur' 'Sheikpet' 'Kerala 682034' 'Courtyard by Marriott'\n",
      " '(ground floor of Sunrise Chambers)' 'Infantry Road'\n",
      " 'Near Andheri Lokhandwala' 'Gujranwala Town' 'Satya Niketan'\n",
      " 'Ramanthapur' 'Nariman Point' 'T.T.K Road'\n",
      " 'Chennai Opposite the MRF Building' 'Jayanagar 4 th Block'\n",
      " 'Okhla Phase 2' 'Vasundhara' 'Railway Station Road' 'Wilson Garden'\n",
      " 'Virar West' 'Kumbalangi' 'Mogappair East' 'A Block Preet Vihar'\n",
      " 'Suraram Main Road' 'Near Sector 132' 'Anna Nagar Chennai'\n",
      " 'Ernakulam Circle' 'Virugambakkam' 'CV Raman Nagar' 'Shop No - VG 16'\n",
      " 'Tamil Nadu 600006' 'Infopark - Smart City Short Road' 'KR Puram'\n",
      " 'Khan Market' 'Mehrauli' 'Beside ESSR Petrol pump' 'Srinagar Colony Road'\n",
      " 'Chinchpokli' 'Sector 28' 'Outer Circle Connaught Place' 'Adchini'\n",
      " 'Near Saroor Nagar' 'Sector 26' 'Ulhasnagar' 'S Block DLF Phase 3'\n",
      " 'Sowcarpet' 'Sector 8' 'New link Rd Oshiwara' 'CNK Salai' 'Green Park'\n",
      " 'Sector 54' 'Hiranandani Estate' 'Opposite Stella Petrol Pump Vasai'\n",
      " 'Thoraipakkam' 'Sector 25' 'Sector 15 Part 1' 'Sector 27'\n",
      " 'Opposite Opera House' 'Sector 44' 'MRC Nagar' 'Shakarpur' 'Ghaziabad'\n",
      " 'Chittethukara' 'Yousufguda' 'Cherlapalli' '33' 'Marve' 'Kotturpuram'\n",
      " 'Bangalore Road' 'Near Mahindra World City' 'A yyavoo Colony' 'Kalwa'\n",
      " 'Malleswaram' '7th Sector HSR' 'Jubilee hills' 'Sector 56'\n",
      " 'Govindaswamy Nagar' 'Chullickal' 'International Airport' 'Ghansi Bazaar'\n",
      " 'Kondapur X Roads Kondapur' 'Mumbra' 'Sector 21' 'West Jogeshwar'\n",
      " 'Near Sector 31' 'Edappally Toll' 'LBS BKC Junction'\n",
      " 'Opposite Private Bus Stand' 'Bhayandar East' '4 Bungalows'\n",
      " 'Near Sector 34' 'Greater Kailash 2 (GK 2)' 'St. Marks Road' 'New Delhi'\n",
      " 'Vepery' 'Kaushambi' 'Near Kundanahalli Signal' 'Adayar' 'Mahavir Nagar'\n",
      " 'Near Sector 50' 'P.O Kakkanad' 'Venkatagiri Jubilee Hills'\n",
      " 'J.N Road Anna Nagar West' 'Sector 53' 'Sikandarpur' 'Banjara hills'\n",
      " 'sholinganallur' 'Erragadda' 'North Railway station' 'Chander Nagar'\n",
      " 'Cherry County' 'Near Apollo H' '7th Phase' 'PWD Quarters' 'Poonithura'\n",
      " 'Mazgaon' 'Near Karol Bagh' 'Tagore Garden' 'Near Passport Office'\n",
      " 'Sector 45' 'Jogeshwari West' 'North Kalamassery' 'Thrikkakara Circle'\n",
      " 'Lajpat Nagar 3' 'Guduvanchery' 'Old Bowenpally' 'Thiruvallur'\n",
      " 'Aurangzeb Road' 'Nehru Nagar' 'phase 3' 'Kacharakkanahalli'\n",
      " 'Beside Aditya Hospital Dwarakanagar colony H.S Darga Banjara Hills'\n",
      " 'Mumbai CST Area' 'Chawri Bazar' 'Sector 23' 'Chandavarkar Road'\n",
      " 'Near Vikaspuri' 'BN Reddy Nagar' 'Kadavanthra Part 1'\n",
      " '20/718 (Old No 12/275) Railway Station Road Aluva' '5th Phase'\n",
      " 'Shahpur Jat' 'Thane west' 'Bengaluru' 'Off Carter Road' 'SRM Back Gate'\n",
      " 'Sector 86' 'Perry Cross Road']\n",
      "Kukatpally        54\n",
      "Madhapur          52\n",
      "Gachibowli        49\n",
      "Whitefield        49\n",
      "Indiranagar       45\n",
      "                  ..\n",
      "Near Sector 34     1\n",
      "Pandara Road       1\n",
      "Andheri            1\n",
      "Reclamation        1\n",
      "East               1\n",
      "Name: LOCALITY, Length: 777, dtype: int64\n",
      "**************************************************************************************************\n",
      "\n",
      "\n",
      "RATING:['4.3' '4.2' '3.8' '3.6' '3.7' '4.0' '3.4' '3.2' '4.1' '3.0' '3.5' '4.5'\n",
      " '3.9' '3.3' '2.9' '3.1' '2.5' '2.8' '4.6' '4.4' '2.7' '4.8' '2.6' '4.9'\n",
      " '2.1' '4.7' '2.3' '2.4' '2.2']\n",
      "3.8    411\n",
      "3.9    403\n",
      "4.0    397\n",
      "3.7    348\n",
      "3.6    309\n",
      "4.1    280\n",
      "4.2    244\n",
      "3.5    209\n",
      "3.4    201\n",
      "4.3    183\n",
      "4.4    122\n",
      "3.3    119\n",
      "3.2     83\n",
      "3.1     77\n",
      "4.5     72\n",
      "3.0     59\n",
      "2.9     56\n",
      "2.8     44\n",
      "4.6     41\n",
      "2.7     40\n",
      "2.6     24\n",
      "4.7     21\n",
      "2.5     16\n",
      "4.8     15\n",
      "2.4      9\n",
      "4.9      6\n",
      "2.3      5\n",
      "2.2      2\n",
      "2.1      1\n",
      "Name: RATING, dtype: int64\n",
      "**************************************************************************************************\n",
      "\n",
      "\n",
      "VOTES:['564 votes' '61 votes' '350 votes' ... '1697 votes' '749 votes'\n",
      " '1239 votes']\n",
      "6 votes       30\n",
      "58 votes      26\n",
      "22 votes      26\n",
      "9 votes       24\n",
      "23 votes      24\n",
      "              ..\n",
      "422 votes      1\n",
      "813 votes      1\n",
      "1419 votes     1\n",
      "3 votes        1\n",
      "1025 votes     1\n",
      "Name: VOTES, Length: 1133, dtype: int64\n",
      "**************************************************************************************************\n",
      "\n",
      "\n"
     ]
    }
   ],
   "source": [
    "for column in Test_data.columns:\n",
    "    if Test_data[column].dtypes==object:\n",
    "        print(str(column)+ ':' +str(Test_data[column].unique()))\n",
    "        print(Test_data[column].value_counts())\n",
    "        print('**************************************************************************************************')\n",
    "        print('\\n')"
   ]
  },
  {
   "cell_type": "code",
   "execution_count": 40,
   "metadata": {},
   "outputs": [
    {
     "data": {
      "text/html": [
       "<div>\n",
       "<style scoped>\n",
       "    .dataframe tbody tr th:only-of-type {\n",
       "        vertical-align: middle;\n",
       "    }\n",
       "\n",
       "    .dataframe tbody tr th {\n",
       "        vertical-align: top;\n",
       "    }\n",
       "\n",
       "    .dataframe thead th {\n",
       "        text-align: right;\n",
       "    }\n",
       "</style>\n",
       "<table border=\"1\" class=\"dataframe\">\n",
       "  <thead>\n",
       "    <tr style=\"text-align: right;\">\n",
       "      <th></th>\n",
       "      <th>RESTAURANT_ID</th>\n",
       "    </tr>\n",
       "  </thead>\n",
       "  <tbody>\n",
       "    <tr>\n",
       "      <th>RESTAURANT_ID</th>\n",
       "      <td>1.0</td>\n",
       "    </tr>\n",
       "  </tbody>\n",
       "</table>\n",
       "</div>"
      ],
      "text/plain": [
       "               RESTAURANT_ID\n",
       "RESTAURANT_ID            1.0"
      ]
     },
     "execution_count": 40,
     "metadata": {},
     "output_type": "execute_result"
    }
   ],
   "source": [
    "Test_data_cor=Test_data.corr()\n",
    "Test_data_cor"
   ]
  },
  {
   "cell_type": "code",
   "execution_count": 41,
   "metadata": {},
   "outputs": [
    {
     "data": {
      "text/plain": [
       "RESTAURANT_ID   -0.002733\n",
       "RATING          -0.581118\n",
       "dtype: float64"
      ]
     },
     "execution_count": 41,
     "metadata": {},
     "output_type": "execute_result"
    }
   ],
   "source": [
    "Test_data.skew()"
   ]
  },
  {
   "cell_type": "code",
   "execution_count": 42,
   "metadata": {},
   "outputs": [],
   "source": [
    "from sklearn.preprocessing import LabelEncoder\n",
    "\n",
    "le=LabelEncoder()\n",
    "\n",
    "for column in Test_data.columns:\n",
    "    if Test_data[column].dtype==np.number:\n",
    "        continue\n",
    "    Test_data[column]=le.fit_transform(Test_data[column])"
   ]
  },
  {
   "cell_type": "code",
   "execution_count": 43,
   "metadata": {},
   "outputs": [
    {
     "data": {
      "text/html": [
       "<div>\n",
       "<style scoped>\n",
       "    .dataframe tbody tr th:only-of-type {\n",
       "        vertical-align: middle;\n",
       "    }\n",
       "\n",
       "    .dataframe tbody tr th {\n",
       "        vertical-align: top;\n",
       "    }\n",
       "\n",
       "    .dataframe thead th {\n",
       "        text-align: right;\n",
       "    }\n",
       "</style>\n",
       "<table border=\"1\" class=\"dataframe\">\n",
       "  <thead>\n",
       "    <tr style=\"text-align: right;\">\n",
       "      <th></th>\n",
       "      <th>TITLE</th>\n",
       "      <th>RESTAURANT_ID</th>\n",
       "      <th>CUISINES</th>\n",
       "      <th>TIME</th>\n",
       "      <th>CITY</th>\n",
       "      <th>LOCALITY</th>\n",
       "      <th>RATING</th>\n",
       "      <th>VOTES</th>\n",
       "    </tr>\n",
       "  </thead>\n",
       "  <tbody>\n",
       "    <tr>\n",
       "      <th>0</th>\n",
       "      <td>22</td>\n",
       "      <td>972</td>\n",
       "      <td>1210</td>\n",
       "      <td>480</td>\n",
       "      <td>103</td>\n",
       "      <td>619</td>\n",
       "      <td>22</td>\n",
       "      <td>822</td>\n",
       "    </tr>\n",
       "    <tr>\n",
       "      <th>1</th>\n",
       "      <td>73</td>\n",
       "      <td>3015</td>\n",
       "      <td>1528</td>\n",
       "      <td>886</td>\n",
       "      <td>90</td>\n",
       "      <td>208</td>\n",
       "      <td>21</td>\n",
       "      <td>869</td>\n",
       "    </tr>\n",
       "    <tr>\n",
       "      <th>2</th>\n",
       "      <td>22</td>\n",
       "      <td>307</td>\n",
       "      <td>1368</td>\n",
       "      <td>206</td>\n",
       "      <td>90</td>\n",
       "      <td>388</td>\n",
       "      <td>17</td>\n",
       "      <td>574</td>\n",
       "    </tr>\n",
       "    <tr>\n",
       "      <th>3</th>\n",
       "      <td>64</td>\n",
       "      <td>41</td>\n",
       "      <td>190</td>\n",
       "      <td>1013</td>\n",
       "      <td>41</td>\n",
       "      <td>433</td>\n",
       "      <td>17</td>\n",
       "      <td>179</td>\n",
       "    </tr>\n",
       "    <tr>\n",
       "      <th>4</th>\n",
       "      <td>73</td>\n",
       "      <td>3197</td>\n",
       "      <td>1532</td>\n",
       "      <td>198</td>\n",
       "      <td>74</td>\n",
       "      <td>283</td>\n",
       "      <td>15</td>\n",
       "      <td>394</td>\n",
       "    </tr>\n",
       "  </tbody>\n",
       "</table>\n",
       "</div>"
      ],
      "text/plain": [
       "   TITLE  RESTAURANT_ID  CUISINES  TIME  CITY  LOCALITY  RATING  VOTES\n",
       "0     22            972      1210   480   103       619      22    822\n",
       "1     73           3015      1528   886    90       208      21    869\n",
       "2     22            307      1368   206    90       388      17    574\n",
       "3     64             41       190  1013    41       433      17    179\n",
       "4     73           3197      1532   198    74       283      15    394"
      ]
     },
     "execution_count": 43,
     "metadata": {},
     "output_type": "execute_result"
    }
   ],
   "source": [
    "Test_data.head()"
   ]
  },
  {
   "cell_type": "code",
   "execution_count": 44,
   "metadata": {},
   "outputs": [
    {
     "data": {
      "text/plain": [
       "(3797, 8)"
      ]
     },
     "execution_count": 44,
     "metadata": {},
     "output_type": "execute_result"
    }
   ],
   "source": [
    "Test_data.shape"
   ]
  },
  {
   "cell_type": "code",
   "execution_count": 45,
   "metadata": {},
   "outputs": [
    {
     "data": {
      "text/plain": [
       "(11393, 9)"
      ]
     },
     "execution_count": 45,
     "metadata": {},
     "output_type": "execute_result"
    }
   ],
   "source": [
    "Train_data.shape"
   ]
  },
  {
   "cell_type": "code",
   "execution_count": 46,
   "metadata": {},
   "outputs": [
    {
     "data": {
      "text/html": [
       "<div>\n",
       "<style scoped>\n",
       "    .dataframe tbody tr th:only-of-type {\n",
       "        vertical-align: middle;\n",
       "    }\n",
       "\n",
       "    .dataframe tbody tr th {\n",
       "        vertical-align: top;\n",
       "    }\n",
       "\n",
       "    .dataframe thead th {\n",
       "        text-align: right;\n",
       "    }\n",
       "</style>\n",
       "<table border=\"1\" class=\"dataframe\">\n",
       "  <thead>\n",
       "    <tr style=\"text-align: right;\">\n",
       "      <th></th>\n",
       "      <th>TITLE</th>\n",
       "      <th>CUISINES</th>\n",
       "      <th>TIME</th>\n",
       "      <th>CITY</th>\n",
       "      <th>LOCALITY</th>\n",
       "      <th>RATING</th>\n",
       "      <th>VOTES</th>\n",
       "      <th>COST</th>\n",
       "    </tr>\n",
       "  </thead>\n",
       "  <tbody>\n",
       "    <tr>\n",
       "      <th>0</th>\n",
       "      <td>29</td>\n",
       "      <td>2463</td>\n",
       "      <td>700</td>\n",
       "      <td>300</td>\n",
       "      <td>267</td>\n",
       "      <td>16</td>\n",
       "      <td>1277</td>\n",
       "      <td>34</td>\n",
       "    </tr>\n",
       "    <tr>\n",
       "      <th>1</th>\n",
       "      <td>31</td>\n",
       "      <td>275</td>\n",
       "      <td>1799</td>\n",
       "      <td>63</td>\n",
       "      <td>961</td>\n",
       "      <td>22</td>\n",
       "      <td>949</td>\n",
       "      <td>41</td>\n",
       "    </tr>\n",
       "    <tr>\n",
       "      <th>2</th>\n",
       "      <td>29</td>\n",
       "      <td>2800</td>\n",
       "      <td>623</td>\n",
       "      <td>63</td>\n",
       "      <td>1015</td>\n",
       "      <td>18</td>\n",
       "      <td>711</td>\n",
       "      <td>26</td>\n",
       "    </tr>\n",
       "    <tr>\n",
       "      <th>3</th>\n",
       "      <td>93</td>\n",
       "      <td>3893</td>\n",
       "      <td>257</td>\n",
       "      <td>206</td>\n",
       "      <td>128</td>\n",
       "      <td>21</td>\n",
       "      <td>786</td>\n",
       "      <td>26</td>\n",
       "    </tr>\n",
       "    <tr>\n",
       "      <th>4</th>\n",
       "      <td>48</td>\n",
       "      <td>1663</td>\n",
       "      <td>581</td>\n",
       "      <td>206</td>\n",
       "      <td>573</td>\n",
       "      <td>18</td>\n",
       "      <td>469</td>\n",
       "      <td>12</td>\n",
       "    </tr>\n",
       "  </tbody>\n",
       "</table>\n",
       "</div>"
      ],
      "text/plain": [
       "   TITLE  CUISINES  TIME  CITY  LOCALITY  RATING  VOTES  COST\n",
       "0     29      2463   700   300       267      16   1277    34\n",
       "1     31       275  1799    63       961      22    949    41\n",
       "2     29      2800   623    63      1015      18    711    26\n",
       "3     93      3893   257   206       128      21    786    26\n",
       "4     48      1663   581   206       573      18    469    12"
      ]
     },
     "execution_count": 46,
     "metadata": {},
     "output_type": "execute_result"
    }
   ],
   "source": [
    "x=Train_data.drop(columns=['RESTAURANT_ID'],axis=1)\n",
    "x.head()"
   ]
  },
  {
   "cell_type": "code",
   "execution_count": 47,
   "metadata": {},
   "outputs": [
    {
     "data": {
      "text/plain": [
       "0     6443\n",
       "1     9060\n",
       "2     7484\n",
       "3     4349\n",
       "4    10581\n",
       "Name: RESTAURANT_ID, dtype: int64"
      ]
     },
     "execution_count": 47,
     "metadata": {},
     "output_type": "execute_result"
    }
   ],
   "source": [
    "y=Train_data['RESTAURANT_ID']\n",
    "y.head()"
   ]
  },
  {
   "cell_type": "code",
   "execution_count": 48,
   "metadata": {},
   "outputs": [],
   "source": [
    "from sklearn.preprocessing import StandardScaler\n",
    "ss=StandardScaler()\n",
    "x=ss.fit_transform(x)"
   ]
  },
  {
   "cell_type": "code",
   "execution_count": 49,
   "metadata": {},
   "outputs": [],
   "source": [
    "from sklearn.model_selection import train_test_split\n",
    "x_train,x_test,y_train,y_test=train_test_split(x,y,test_size=0.2,random_state=0)"
   ]
  },
  {
   "cell_type": "code",
   "execution_count": 50,
   "metadata": {},
   "outputs": [
    {
     "data": {
      "text/plain": [
       "(9114, 8)"
      ]
     },
     "execution_count": 50,
     "metadata": {},
     "output_type": "execute_result"
    }
   ],
   "source": [
    "x_train.shape"
   ]
  },
  {
   "cell_type": "code",
   "execution_count": 52,
   "metadata": {},
   "outputs": [
    {
     "data": {
      "text/plain": [
       "(9114,)"
      ]
     },
     "execution_count": 52,
     "metadata": {},
     "output_type": "execute_result"
    }
   ],
   "source": [
    "y_train.shape"
   ]
  },
  {
   "cell_type": "code",
   "execution_count": 53,
   "metadata": {},
   "outputs": [
    {
     "data": {
      "text/plain": [
       "(2279, 8)"
      ]
     },
     "execution_count": 53,
     "metadata": {},
     "output_type": "execute_result"
    }
   ],
   "source": [
    "x_test.shape"
   ]
  },
  {
   "cell_type": "code",
   "execution_count": 54,
   "metadata": {},
   "outputs": [
    {
     "data": {
      "text/plain": [
       "(2279,)"
      ]
     },
     "execution_count": 54,
     "metadata": {},
     "output_type": "execute_result"
    }
   ],
   "source": [
    "y_test.shape"
   ]
  },
  {
   "cell_type": "code",
   "execution_count": 55,
   "metadata": {},
   "outputs": [],
   "source": [
    "from sklearn.linear_model import LinearRegression\n",
    "lr=LinearRegression()"
   ]
  },
  {
   "cell_type": "code",
   "execution_count": 56,
   "metadata": {},
   "outputs": [
    {
     "data": {
      "text/plain": [
       "LinearRegression()"
      ]
     },
     "execution_count": 56,
     "metadata": {},
     "output_type": "execute_result"
    }
   ],
   "source": [
    "lr.fit(x_train,y_train)"
   ]
  },
  {
   "cell_type": "code",
   "execution_count": 58,
   "metadata": {},
   "outputs": [
    {
     "data": {
      "text/plain": [
       "array([ 43.7552988 , 189.94196971, -19.70230617,  28.70113436,\n",
       "       -68.47861861,  83.80551889,  42.15625177, 118.54259782])"
      ]
     },
     "execution_count": 58,
     "metadata": {},
     "output_type": "execute_result"
    }
   ],
   "source": [
    "lr.coef_"
   ]
  },
  {
   "cell_type": "code",
   "execution_count": 59,
   "metadata": {},
   "outputs": [
    {
     "data": {
      "text/plain": [
       "5351.8919108462205"
      ]
     },
     "execution_count": 59,
     "metadata": {},
     "output_type": "execute_result"
    }
   ],
   "source": [
    "lr.intercept_"
   ]
  },
  {
   "cell_type": "code",
   "execution_count": 60,
   "metadata": {},
   "outputs": [
    {
     "data": {
      "text/plain": [
       "0.007178541067870858"
      ]
     },
     "execution_count": 60,
     "metadata": {},
     "output_type": "execute_result"
    }
   ],
   "source": [
    "lr.score(x_train,y_train)"
   ]
  },
  {
   "cell_type": "code",
   "execution_count": 61,
   "metadata": {},
   "outputs": [
    {
     "name": "stdout",
     "output_type": "stream",
     "text": [
      "Predicted active: [5177.80643675 5552.96740054 5239.54079576 ... 5378.96144858 5204.50030704\n",
      " 5275.82915181]\n",
      "actual active 7585    4419\n",
      "2340    2993\n",
      "2069    9389\n",
      "2798    8973\n",
      "8643    3991\n",
      "        ... \n",
      "4154    1005\n",
      "7463    6491\n",
      "8208    2913\n",
      "3829    2884\n",
      "5309    9299\n",
      "Name: RESTAURANT_ID, Length: 2279, dtype: int64\n"
     ]
    }
   ],
   "source": [
    "Active=lr.predict(x_test)\n",
    "print('Predicted active:',Active)\n",
    "print('actual active',y_test)"
   ]
  },
  {
   "cell_type": "code",
   "execution_count": 62,
   "metadata": {},
   "outputs": [
    {
     "name": "stdout",
     "output_type": "stream",
     "text": [
      "error:\n",
      "Mean absolute error: 2663.487543150611\n",
      "Mean squared error: 9480751.933476312\n"
     ]
    }
   ],
   "source": [
    "from sklearn.metrics import mean_absolute_error,mean_squared_error\n",
    "print('error:')\n",
    "print('Mean absolute error:',mean_absolute_error(y_test,Active))\n",
    "\n",
    "print('Mean squared error:',mean_squared_error(y_test,Active))\n"
   ]
  },
  {
   "cell_type": "code",
   "execution_count": 63,
   "metadata": {},
   "outputs": [
    {
     "name": "stdout",
     "output_type": "stream",
     "text": [
      "0.0027983609695639844\n"
     ]
    }
   ],
   "source": [
    "from sklearn.metrics import r2_score\n",
    "print(r2_score(y_test,Active))"
   ]
  },
  {
   "cell_type": "code",
   "execution_count": 64,
   "metadata": {},
   "outputs": [
    {
     "data": {
      "text/plain": [
       "0.004629481420789339"
      ]
     },
     "execution_count": 64,
     "metadata": {},
     "output_type": "execute_result"
    }
   ],
   "source": [
    "from sklearn.model_selection import cross_val_score\n",
    "from sklearn import linear_model\n",
    "cross_val_score(linear_model.LinearRegression(),x,y,cv=5,scoring='r2').mean()"
   ]
  },
  {
   "cell_type": "code",
   "execution_count": 65,
   "metadata": {},
   "outputs": [],
   "source": [
    "from sklearn.linear_model import LinearRegression,Lasso,Ridge,ElasticNet\n",
    "from sklearn.svm import SVR\n",
    "from sklearn.neighbors import KNeighborsRegressor\n",
    "from sklearn.tree import DecisionTreeRegressor"
   ]
  },
  {
   "cell_type": "code",
   "execution_count": 66,
   "metadata": {},
   "outputs": [
    {
     "name": "stdout",
     "output_type": "stream",
     "text": [
      "Score of LinearRegression() is: 0.007178541067870858\n",
      "Error:\n",
      "Mean absolute error: 2663.487543150611\n",
      "Mean squared error: 9480751.933476312\n",
      "r2_score: 0.0027983609695639844\n",
      "***************************************************************\n",
      "\n",
      "\n",
      "Score of DecisionTreeRegressor() is: 1.0\n",
      "Error:\n",
      "Mean absolute error: 3536.2264150943397\n",
      "Mean squared error: 19142974.8214129\n",
      "r2_score: -1.0134907021907273\n",
      "***************************************************************\n",
      "\n",
      "\n",
      "Score of KNeighborsRegressor() is: 0.20937659058511982\n",
      "Error:\n",
      "Mean absolute error: 2860.3159280386135\n",
      "Mean squared error: 11518730.766757349\n",
      "r2_score: -0.2115597244562626\n",
      "***************************************************************\n",
      "\n",
      "\n",
      "Score of SVR() is: 0.0015652785581142803\n",
      "Error:\n",
      "Mean absolute error: 2672.026822770608\n",
      "Mean squared error: 9500790.683471486\n",
      "r2_score: 0.0006906511086245404\n",
      "***************************************************************\n",
      "\n",
      "\n",
      "Score of Lasso() is: 0.007177640467823987\n",
      "Error:\n",
      "Mean absolute error: 2663.4927513880148\n",
      "Mean squared error: 9480028.743652726\n",
      "r2_score: 0.002874427307178351\n",
      "***************************************************************\n",
      "\n",
      "\n",
      "Score of Ridge() is: 0.0071785409837182845\n",
      "Error:\n",
      "Mean absolute error: 2663.488014658406\n",
      "Mean squared error: 9480746.883715188\n",
      "r2_score: 0.002798892112041207\n",
      "***************************************************************\n",
      "\n",
      "\n",
      "Score of ElasticNet() is: 0.006393288865207625\n",
      "Error:\n",
      "Mean absolute error: 2665.3792368744475\n",
      "Mean squared error: 9473051.193736821\n",
      "r2_score: 0.0036083378937414867\n",
      "***************************************************************\n",
      "\n",
      "\n"
     ]
    }
   ],
   "source": [
    "model=[LinearRegression(),DecisionTreeRegressor(),KNeighborsRegressor(),SVR(),Lasso(),Ridge(),ElasticNet()]\n",
    "for m in model:\n",
    "    m.fit(x_train,y_train)\n",
    "    print('Score of',m,'is:',m.score(x_train,y_train))\n",
    "    predm=m.predict(x_test)\n",
    "    print('Error:')\n",
    "    print('Mean absolute error:',mean_absolute_error(y_test,predm))\n",
    "    print('Mean squared error:',mean_squared_error(y_test,predm))\n",
    "    print('r2_score:',r2_score(y_test,predm))\n",
    "    print('***************************************************************')\n",
    "    print('\\n')"
   ]
  },
  {
   "cell_type": "code",
   "execution_count": 67,
   "metadata": {},
   "outputs": [
    {
     "data": {
      "text/plain": [
       "{'alpha': 1, 'random_state': 42}"
      ]
     },
     "execution_count": 67,
     "metadata": {},
     "output_type": "execute_result"
    }
   ],
   "source": [
    "from sklearn.model_selection import GridSearchCV\n",
    "ridge=Ridge()\n",
    "parameters={'alpha':[0.001,0.01,0.1,1],'random_state':range(42,100)}\n",
    "clf=GridSearchCV(ridge,parameters)\n",
    "clf.fit(x,y)\n",
    "clf.best_params_"
   ]
  },
  {
   "cell_type": "code",
   "execution_count": 68,
   "metadata": {},
   "outputs": [
    {
     "name": "stdout",
     "output_type": "stream",
     "text": [
      "Score: 0.0071785409837182845\n",
      "\n",
      "\n",
      "Mean absolute error: 2663.488014658406\n",
      "Mean squared error: 9480746.883715188\n",
      "\n",
      "\n",
      "r2_score: 0.002798892112041207\n"
     ]
    }
   ],
   "source": [
    "ridge=Ridge(alpha=1,random_state=42)\n",
    "ridge.fit(x_train,y_train)\n",
    "print('Score:',ridge.score(x_train,y_train))\n",
    "predrd=ridge.predict(x_test)\n",
    "print('\\n')\n",
    "print('Mean absolute error:',mean_absolute_error(y_test,predrd)) \n",
    "print('Mean squared error:',mean_squared_error(y_test,predrd))\n",
    "print('\\n')\n",
    "print('r2_score:',r2_score(y_test,predrd))"
   ]
  },
  {
   "cell_type": "code",
   "execution_count": 69,
   "metadata": {},
   "outputs": [
    {
     "name": "stdout",
     "output_type": "stream",
     "text": [
      "Score: 0.8314171422295531\n",
      "\n",
      "\n",
      "Mean absolute error: 2731.1984642387006\n",
      "Mean squared error: 10208932.217301447\n",
      "\n",
      "\n",
      "r2_score: -0.07379288175413623\n"
     ]
    }
   ],
   "source": [
    "from sklearn.ensemble import RandomForestRegressor\n",
    "rf=RandomForestRegressor(n_estimators=20,random_state=59)\n",
    "rf.fit(x_train,y_train)\n",
    "print('Score:',rf.score(x_train,y_train))\n",
    "predrf=rf.predict(x_test)\n",
    "print('\\n')\n",
    "print('Mean absolute error:',mean_absolute_error(y_test,predrf)) \n",
    "print('Mean squared error:',mean_squared_error(y_test,predrf))\n",
    "print('\\n')\n",
    "print('r2_score:',r2_score(y_test,predrf))"
   ]
  },
  {
   "cell_type": "code",
   "execution_count": 70,
   "metadata": {},
   "outputs": [
    {
     "name": "stdout",
     "output_type": "stream",
     "text": [
      "Score: 0.006951907125826606\n",
      "\n",
      "\n",
      "Mean absolute error: 2663.8846150237396\n",
      "Mean squared error: 9478367.342397254\n",
      "\n",
      "\n",
      "r2_score: 0.003049176321462066\n"
     ]
    }
   ],
   "source": [
    "from sklearn.ensemble import AdaBoostRegressor\n",
    "lasso=Lasso()\n",
    "\n",
    "adb=AdaBoostRegressor(base_estimator=lasso,n_estimators=20,learning_rate=0.1,random_state=59)\n",
    "adb.fit(x_train,y_train)\n",
    "print('Score:',adb.score(x_train,y_train))\n",
    "predadb=adb.predict(x_test)\n",
    "print('\\n')\n",
    "print('Mean absolute error:',mean_absolute_error(y_test,predadb)) \n",
    "print('Mean squared error:',mean_squared_error(y_test,predadb))\n",
    "print('\\n')\n",
    "print('r2_score:',r2_score(y_test,predadb))"
   ]
  },
  {
   "cell_type": "code",
   "execution_count": 71,
   "metadata": {},
   "outputs": [
    {
     "data": {
      "text/plain": [
       "['Restaurant Food Cost']"
      ]
     },
     "execution_count": 71,
     "metadata": {},
     "output_type": "execute_result"
    }
   ],
   "source": [
    "import joblib\n",
    "joblib.dump(rf,'Restaurant Food Cost')"
   ]
  },
  {
   "cell_type": "code",
   "execution_count": null,
   "metadata": {},
   "outputs": [],
   "source": []
  }
 ],
 "metadata": {
  "kernelspec": {
   "display_name": "Python 3",
   "language": "python",
   "name": "python3"
  },
  "language_info": {
   "codemirror_mode": {
    "name": "ipython",
    "version": 3
   },
   "file_extension": ".py",
   "mimetype": "text/x-python",
   "name": "python",
   "nbconvert_exporter": "python",
   "pygments_lexer": "ipython3",
   "version": "3.8.3"
  }
 },
 "nbformat": 4,
 "nbformat_minor": 4
}
